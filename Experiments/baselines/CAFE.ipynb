{
  "cells": [
    {
      "cell_type": "markdown",
      "id": "YCVgWFmtF1U3",
      "metadata": {
        "id": "YCVgWFmtF1U3"
      },
      "source": [
        "**In order to get the fastest predictions you need to enable GPUs for the notebook:**\n",
        "* Navigate to Edit→Notebook Settings\n",
        "* select GPU from the Hardware Accelerator drop-down\n",
        "(https://colab.research.google.com/notebooks/gpu.ipynb#scrollTo=oM_8ELnJq_wd)"
      ]
    },
    {
      "cell_type": "code",
      "execution_count": 2,
      "id": "Da3zn7I3GTjq",
      "metadata": {
        "id": "Da3zn7I3GTjq"
      },
      "outputs": [],
      "source": [
        "%load_ext autoreload\n",
        "%autoreload 2"
      ]
    },
    {
      "cell_type": "code",
      "execution_count": 3,
      "id": "xueyuGRpwGkH",
      "metadata": {
        "colab": {
          "base_uri": "https://localhost:8080/"
        },
        "id": "xueyuGRpwGkH",
        "outputId": "575c40ff-7492-4162-d82c-83bfd6f45b6b"
      },
      "outputs": [
        {
          "name": "stdout",
          "output_type": "stream",
          "text": [
            "Requirement already satisfied: caafe in /home/saeed/Documents/Github/CatDB/envCatDB/lib/python3.10/site-packages/caafe-0.1.5-py3.10.egg (0.1.5)\n",
            "Requirement already satisfied: openai==0.28 in /home/saeed/Documents/Github/CatDB/envCatDB/lib/python3.10/site-packages (from caafe) (0.28.0)\n",
            "Requirement already satisfied: kaggle in /home/saeed/Documents/Github/CatDB/envCatDB/lib/python3.10/site-packages/kaggle-1.6.6-py3.10.egg (from caafe) (1.6.6)\n",
            "Requirement already satisfied: openml==0.12.0 in /home/saeed/Documents/Github/CatDB/envCatDB/lib/python3.10/site-packages (from caafe) (0.12.0)\n",
            "Requirement already satisfied: tabpfn in /home/saeed/Documents/Github/CatDB/envCatDB/lib/python3.10/site-packages (from caafe) (0.1.10)\n",
            "Requirement already satisfied: numpy==1.23.1 in /home/saeed/Documents/Github/CatDB/envCatDB/lib/python3.10/site-packages (from caafe) (1.23.1)\n",
            "Requirement already satisfied: torch==1.12.1 in /home/saeed/Documents/Github/CatDB/envCatDB/lib/python3.10/site-packages (from caafe) (1.12.1)\n",
            "Requirement already satisfied: catboost in /home/saeed/Documents/Github/CatDB/envCatDB/lib/python3.10/site-packages (from caafe) (1.2.3)\n",
            "Requirement already satisfied: xgboost in /home/saeed/Documents/Github/CatDB/envCatDB/lib/python3.10/site-packages (from caafe) (2.0.3)\n",
            "Requirement already satisfied: hyperopt in /home/saeed/Documents/Github/CatDB/envCatDB/lib/python3.10/site-packages (from caafe) (0.2.7)\n",
            "Requirement already satisfied: requests>=2.20 in /home/saeed/Documents/Github/CatDB/envCatDB/lib/python3.10/site-packages (from openai==0.28->caafe) (2.31.0)\n",
            "Requirement already satisfied: tqdm in /home/saeed/Documents/Github/CatDB/envCatDB/lib/python3.10/site-packages (from openai==0.28->caafe) (4.66.1)\n",
            "Requirement already satisfied: aiohttp in /home/saeed/Documents/Github/CatDB/envCatDB/lib/python3.10/site-packages (from openai==0.28->caafe) (3.9.1)\n",
            "Requirement already satisfied: liac-arff>=2.4.0 in /home/saeed/Documents/Github/CatDB/envCatDB/lib/python3.10/site-packages (from openml==0.12.0->caafe) (2.5.0)\n",
            "Requirement already satisfied: xmltodict in /home/saeed/Documents/Github/CatDB/envCatDB/lib/python3.10/site-packages (from openml==0.12.0->caafe) (0.13.0)\n",
            "Requirement already satisfied: scikit-learn>=0.18 in /home/saeed/Documents/Github/CatDB/envCatDB/lib/python3.10/site-packages (from openml==0.12.0->caafe) (0.24.2)\n",
            "Requirement already satisfied: python-dateutil in /home/saeed/Documents/Github/CatDB/envCatDB/lib/python3.10/site-packages (from openml==0.12.0->caafe) (2.8.2)\n",
            "Requirement already satisfied: pandas>=1.0.0 in /home/saeed/Documents/Github/CatDB/envCatDB/lib/python3.10/site-packages (from openml==0.12.0->caafe) (2.1.4)\n",
            "Requirement already satisfied: scipy>=0.13.3 in /home/saeed/Documents/Github/CatDB/envCatDB/lib/python3.10/site-packages (from openml==0.12.0->caafe) (1.11.4)\n",
            "Requirement already satisfied: minio in /home/saeed/Documents/Github/CatDB/envCatDB/lib/python3.10/site-packages (from openml==0.12.0->caafe) (7.2.5)\n",
            "Requirement already satisfied: pyarrow in /home/saeed/Documents/Github/CatDB/envCatDB/lib/python3.10/site-packages (from openml==0.12.0->caafe) (15.0.1)\n",
            "Requirement already satisfied: typing-extensions in /home/saeed/Documents/Github/CatDB/envCatDB/lib/python3.10/site-packages (from torch==1.12.1->caafe) (4.9.0)\n",
            "Requirement already satisfied: graphviz in /home/saeed/Documents/Github/CatDB/envCatDB/lib/python3.10/site-packages (from catboost->caafe) (0.20.1)\n",
            "Requirement already satisfied: matplotlib in /home/saeed/Documents/Github/CatDB/envCatDB/lib/python3.10/site-packages (from catboost->caafe) (3.8.3)\n",
            "Requirement already satisfied: plotly in /home/saeed/Documents/Github/CatDB/envCatDB/lib/python3.10/site-packages (from catboost->caafe) (5.19.0)\n",
            "Requirement already satisfied: six in /home/saeed/Documents/Github/CatDB/envCatDB/lib/python3.10/site-packages (from catboost->caafe) (1.16.0)\n",
            "Requirement already satisfied: networkx>=2.2 in /home/saeed/Documents/Github/CatDB/envCatDB/lib/python3.10/site-packages (from hyperopt->caafe) (3.2.1)\n",
            "Requirement already satisfied: future in /home/saeed/Documents/Github/CatDB/envCatDB/lib/python3.10/site-packages (from hyperopt->caafe) (1.0.0)\n",
            "Requirement already satisfied: cloudpickle in /home/saeed/Documents/Github/CatDB/envCatDB/lib/python3.10/site-packages (from hyperopt->caafe) (3.0.0)\n",
            "Requirement already satisfied: py4j in /home/saeed/Documents/Github/CatDB/envCatDB/lib/python3.10/site-packages (from hyperopt->caafe) (0.10.9.7)\n",
            "Requirement already satisfied: certifi in /home/saeed/Documents/Github/CatDB/envCatDB/lib/python3.10/site-packages (from kaggle->caafe) (2023.11.17)\n",
            "Requirement already satisfied: python-slugify in /home/saeed/Documents/Github/CatDB/envCatDB/lib/python3.10/site-packages/python_slugify-8.0.4-py3.10.egg (from kaggle->caafe) (8.0.4)\n",
            "Requirement already satisfied: urllib3 in /home/saeed/Documents/Github/CatDB/envCatDB/lib/python3.10/site-packages (from kaggle->caafe) (2.1.0)\n",
            "Requirement already satisfied: bleach in /home/saeed/Documents/Github/CatDB/envCatDB/lib/python3.10/site-packages/bleach-6.1.0-py3.10.egg (from kaggle->caafe) (6.1.0)\n",
            "Requirement already satisfied: pyyaml>=5.4.1 in /home/saeed/Documents/Github/CatDB/envCatDB/lib/python3.10/site-packages (from tabpfn->caafe) (6.0.1)\n",
            "Requirement already satisfied: pytz>=2020.1 in /home/saeed/Documents/Github/CatDB/envCatDB/lib/python3.10/site-packages (from pandas>=1.0.0->openml==0.12.0->caafe) (2023.3.post1)\n",
            "Requirement already satisfied: tzdata>=2022.1 in /home/saeed/Documents/Github/CatDB/envCatDB/lib/python3.10/site-packages (from pandas>=1.0.0->openml==0.12.0->caafe) (2023.4)\n",
            "Requirement already satisfied: charset-normalizer<4,>=2 in /home/saeed/Documents/Github/CatDB/envCatDB/lib/python3.10/site-packages (from requests>=2.20->openai==0.28->caafe) (3.3.2)\n",
            "Requirement already satisfied: idna<4,>=2.5 in /home/saeed/Documents/Github/CatDB/envCatDB/lib/python3.10/site-packages (from requests>=2.20->openai==0.28->caafe) (3.6)\n",
            "Requirement already satisfied: joblib>=0.11 in /home/saeed/Documents/Github/CatDB/envCatDB/lib/python3.10/site-packages (from scikit-learn>=0.18->openml==0.12.0->caafe) (1.3.2)\n",
            "Requirement already satisfied: threadpoolctl>=2.0.0 in /home/saeed/Documents/Github/CatDB/envCatDB/lib/python3.10/site-packages (from scikit-learn>=0.18->openml==0.12.0->caafe) (3.2.0)\n",
            "Requirement already satisfied: attrs>=17.3.0 in /home/saeed/Documents/Github/CatDB/envCatDB/lib/python3.10/site-packages (from aiohttp->openai==0.28->caafe) (23.2.0)\n",
            "Requirement already satisfied: multidict<7.0,>=4.5 in /home/saeed/Documents/Github/CatDB/envCatDB/lib/python3.10/site-packages (from aiohttp->openai==0.28->caafe) (6.0.4)\n",
            "Requirement already satisfied: yarl<2.0,>=1.0 in /home/saeed/Documents/Github/CatDB/envCatDB/lib/python3.10/site-packages (from aiohttp->openai==0.28->caafe) (1.9.4)\n",
            "Requirement already satisfied: frozenlist>=1.1.1 in /home/saeed/Documents/Github/CatDB/envCatDB/lib/python3.10/site-packages (from aiohttp->openai==0.28->caafe) (1.4.1)\n",
            "Requirement already satisfied: aiosignal>=1.1.2 in /home/saeed/Documents/Github/CatDB/envCatDB/lib/python3.10/site-packages (from aiohttp->openai==0.28->caafe) (1.3.1)\n",
            "Requirement already satisfied: async-timeout<5.0,>=4.0 in /home/saeed/Documents/Github/CatDB/envCatDB/lib/python3.10/site-packages (from aiohttp->openai==0.28->caafe) (4.0.3)\n",
            "Requirement already satisfied: webencodings in /home/saeed/Documents/Github/CatDB/envCatDB/lib/python3.10/site-packages/webencodings-0.5.1-py3.10.egg (from bleach->kaggle->caafe) (0.5.1)\n",
            "Requirement already satisfied: contourpy>=1.0.1 in /home/saeed/Documents/Github/CatDB/envCatDB/lib/python3.10/site-packages (from matplotlib->catboost->caafe) (1.2.0)\n",
            "Requirement already satisfied: cycler>=0.10 in /home/saeed/Documents/Github/CatDB/envCatDB/lib/python3.10/site-packages (from matplotlib->catboost->caafe) (0.12.1)\n",
            "Requirement already satisfied: fonttools>=4.22.0 in /home/saeed/Documents/Github/CatDB/envCatDB/lib/python3.10/site-packages (from matplotlib->catboost->caafe) (4.49.0)\n",
            "Requirement already satisfied: kiwisolver>=1.3.1 in /home/saeed/Documents/Github/CatDB/envCatDB/lib/python3.10/site-packages (from matplotlib->catboost->caafe) (1.4.5)\n",
            "Requirement already satisfied: packaging>=20.0 in /home/saeed/Documents/Github/CatDB/envCatDB/lib/python3.10/site-packages (from matplotlib->catboost->caafe) (23.2)\n",
            "Requirement already satisfied: pillow>=8 in /home/saeed/Documents/Github/CatDB/envCatDB/lib/python3.10/site-packages (from matplotlib->catboost->caafe) (10.2.0)\n",
            "Requirement already satisfied: pyparsing>=2.3.1 in /home/saeed/Documents/Github/CatDB/envCatDB/lib/python3.10/site-packages (from matplotlib->catboost->caafe) (3.1.2)\n",
            "Requirement already satisfied: argon2-cffi in /home/saeed/Documents/Github/CatDB/envCatDB/lib/python3.10/site-packages (from minio->openml==0.12.0->caafe) (23.1.0)\n",
            "Requirement already satisfied: pycryptodome in /home/saeed/Documents/Github/CatDB/envCatDB/lib/python3.10/site-packages (from minio->openml==0.12.0->caafe) (3.20.0)\n",
            "Requirement already satisfied: tenacity>=6.2.0 in /home/saeed/Documents/Github/CatDB/envCatDB/lib/python3.10/site-packages (from plotly->catboost->caafe) (8.2.3)\n",
            "Requirement already satisfied: text-unidecode>=1.3 in /home/saeed/Documents/Github/CatDB/envCatDB/lib/python3.10/site-packages/text_unidecode-1.3-py3.10.egg (from python-slugify->kaggle->caafe) (1.3)\n",
            "Requirement already satisfied: argon2-cffi-bindings in /home/saeed/Documents/Github/CatDB/envCatDB/lib/python3.10/site-packages (from argon2-cffi->minio->openml==0.12.0->caafe) (21.2.0)\n",
            "Requirement already satisfied: cffi>=1.0.1 in /home/saeed/Documents/Github/CatDB/envCatDB/lib/python3.10/site-packages (from argon2-cffi-bindings->argon2-cffi->minio->openml==0.12.0->caafe) (1.16.0)\n",
            "Requirement already satisfied: pycparser in /home/saeed/Documents/Github/CatDB/envCatDB/lib/python3.10/site-packages (from cffi>=1.0.1->argon2-cffi-bindings->argon2-cffi->minio->openml==0.12.0->caafe) (2.21)\n"
          ]
        }
      ],
      "source": [
        "!pip install caafe"
      ]
    },
    {
      "cell_type": "code",
      "execution_count": 8,
      "id": "3c2770a9-abee-4790-ad55-9c6451320345",
      "metadata": {
        "id": "3c2770a9-abee-4790-ad55-9c6451320345"
      },
      "outputs": [],
      "source": [
        "from caafe import CAAFEClassifier # Automated Feature Engineering for tabular datasets\n",
        "from tabpfn import TabPFNClassifier # Fast Automated Machine Learning method for small tabular datasets\n",
        "from sklearn.ensemble import RandomForestClassifier\n",
        "\n",
        "import os\n",
        "import openai\n",
        "import torch\n",
        "from caafe import data\n",
        "from sklearn.metrics import accuracy_score\n",
        "from tabpfn.scripts import tabular_metrics\n",
        "from functools import partial\n",
        "\n",
        "import pandas as pd"
      ]
    },
    {
      "cell_type": "code",
      "execution_count": null,
      "id": "iM5FtVoLncW6",
      "metadata": {
        "id": "iM5FtVoLncW6"
      },
      "outputs": [],
      "source": [
        "openai.api_key = \"YOUR_API_KEY\""
      ]
    },
    {
      "cell_type": "code",
      "execution_count": 5,
      "id": "ba83bf99-e40a-441c-b0a0-e6767ef9ac2d",
      "metadata": {
        "colab": {
          "base_uri": "https://localhost:8080/"
        },
        "id": "ba83bf99-e40a-441c-b0a0-e6767ef9ac2d",
        "outputId": "ff972a59-47e4-4549-b14a-804876333941"
      },
      "outputs": [
        {
          "name": "stdout",
          "output_type": "stream",
          "text": [
            "Number of datasets: 10\n",
            "Loading balance-scale 11 ..\n",
            "Loading breast-w 15 ..\n",
            "Loading cmc 23 ..\n",
            "Loading credit-g 31 ..\n",
            "Loading diabetes 37 ..\n",
            "Loading tic-tac-toe 50 ..\n",
            "Loading eucalyptus 188 ..\n",
            "Loading pc1 1068 ..\n",
            "Loading airlines 1169 ..\n",
            "Loading jungle_chess_2pcs_raw_endgame_complete 41027 ..\n",
            "health-insurance-lead-prediction-raw-data at datasets_kaggle/health-insurance-lead-prediction-raw-data/Health Insurance Lead Prediction Raw Data.csv not found, skipping...\n",
            "pharyngitis at datasets_kaggle/pharyngitis/pharyngitis.csv not found, skipping...\n",
            "spaceship-titanic at datasets_kaggle/spaceship-titanic/train.csv not found, skipping...\n",
            "playground-series-s3e12 at datasets_kaggle/playground-series-s3e12/train.csv not found, skipping...\n",
            "Downsampling balance-scale to 20.0% of samples\n",
            "Downsampling breast-w to 10.0% of samples\n",
            "Downsampling tic-tac-toe to 10.0% of samples\n"
          ]
        }
      ],
      "source": [
        "metric_used = tabular_metrics.auc_metric\n",
        "cc_test_datasets_multiclass = data.load_all_data()"
      ]
    },
    {
      "cell_type": "code",
      "execution_count": 6,
      "id": "79f1a849",
      "metadata": {},
      "outputs": [],
      "source": [
        "def save_config(dataset_name,target, task_type, data_out_path):\n",
        "    config_strs = [f\"- name: {dataset_name}\",\n",
        "                       \"  dataset:\",\n",
        "                       f\"    train: \\'{{user}}/data/{dataset_name}/{dataset_name}_train.csv\\'\",\n",
        "                       f\"    test: \\'{{user}}/data/{dataset_name}/{dataset_name}_test.csv\\'\",\n",
        "                       f\"    target: {target}\",\n",
        "                       f\"    type: {task_type}\",\n",
        "                       \"  folds: 1\",\n",
        "                       \"\\n\"]\n",
        "    config_str = \"\\n\".join(config_strs)\n",
        "\n",
        "    yaml_file_local = f'{data_out_path}/{dataset_name}/{dataset_name}.yaml'\n",
        "    f_local = open(yaml_file_local, 'w')\n",
        "    f_local.write(\"--- \\n \\n\")\n",
        "    f_local.write(config_str)\n",
        "    f_local.close()\n",
        "\n",
        "    # yaml_file_benchmark = f'{setting_out_path}/{dataset_name}.yaml'\n",
        "    # f = open(yaml_file_benchmark, 'w')\n",
        "    # f.write(\"--- \\n \\n\")\n",
        "    # f.write(config_str)\n",
        "    # f.close() "
      ]
    },
    {
      "cell_type": "code",
      "execution_count": 10,
      "id": "20b7440d",
      "metadata": {},
      "outputs": [
        {
          "name": "stdout",
          "output_type": "stream",
          "text": [
            "Using initial description (tried reading data//dataset_descriptions/openml_balance-scale.txt)\n",
            "$CMD balance-scale multiclass test\n",
            "Using initial description (tried reading data//dataset_descriptions/openml_breast-w.txt)\n",
            "$CMD breast-w binary test\n",
            "Using initial description (tried reading data//dataset_descriptions/openml_cmc.txt)\n",
            "$CMD cmc multiclass test\n",
            "Using initial description (tried reading data//dataset_descriptions/openml_credit-g.txt)\n",
            "$CMD credit-g binary test\n",
            "Using initial description (tried reading data//dataset_descriptions/openml_diabetes.txt)\n",
            "$CMD diabetes binary test\n",
            "Using initial description (tried reading data//dataset_descriptions/openml_tic-tac-toe.txt)\n",
            "$CMD tic-tac-toe binary test\n",
            "Using initial description (tried reading data//dataset_descriptions/openml_eucalyptus.txt)\n",
            "$CMD eucalyptus multiclass test\n",
            "Using initial description (tried reading data//dataset_descriptions/openml_pc1.txt)\n",
            "$CMD pc1 binary test\n",
            "Using initial description (tried reading data//dataset_descriptions/openml_airlines.txt)\n",
            "$CMD airlines binary test\n",
            "Using initial description (tried reading data//dataset_descriptions/openml_jungle_chess_2pcs_raw_endgame_complete.txt)\n",
            "$CMD jungle_chess_2pcs_raw_endgame_complete multiclass test\n"
          ]
        }
      ],
      "source": [
        "data_path = \"../data/\"\n",
        "\n",
        "for d in cc_test_datasets_multiclass:   \n",
        "    ds_name = d[0]\n",
        "    ds_path = f\"{data_path}/{ds_name}\"\n",
        "    os.makedirs(ds_path, exist_ok=True)\n",
        "    ds, df_train, df_test, _, _ = data.get_data_split(d, seed=0)\n",
        "\n",
        "    target_col = target_column_name = ds[4][-1]\n",
        "\n",
        "    n_classes = df_train[target_col].nunique()\n",
        "    if n_classes == 2:\n",
        "        task_type = \"binary\"\n",
        "    elif n_classes < 300 :\n",
        "        task_type = \"multiclass\"\n",
        "    else:\n",
        "        task_type = \"regression\"       \n",
        "\n",
        "    save_config(dataset_name=ds_name, target=target_col, data_out_path=data_path, task_type=task_type)\n",
        "    df_train.to_csv(f'{ds_path}/{ds_name}_train.csv', index=False)\n",
        "    df_test.to_csv(f'{ds_path}/{ds_name}_test.csv', index=False)\n",
        "\n",
        "    df_all = pd.concat([df_train, df_test])\n",
        "    df_all.to_csv(f'{ds_path}/{ds_name}.csv', index=False)\n",
        "\n",
        "    print(f\"$CMD {ds_name} {task_type} test\")\n",
        "\n"
      ]
    },
    {
      "cell_type": "code",
      "execution_count": 32,
      "id": "6TDRQfJ-Snb3",
      "metadata": {
        "colab": {
          "base_uri": "https://localhost:8080/",
          "height": 53
        },
        "id": "6TDRQfJ-Snb3",
        "outputId": "e975f759-5cea-4e95-c79e-e76cb8b39830"
      },
      "outputs": [
        {
          "name": "stdout",
          "output_type": "stream",
          "text": [
            "Using initial description (tried reading data//dataset_descriptions/openml_tic-tac-toe.txt)\n"
          ]
        },
        {
          "data": {
            "text/plain": [
              "'tic-tac-toe'"
            ]
          },
          "execution_count": 32,
          "metadata": {},
          "output_type": "execute_result"
        }
      ],
      "source": [
        "ds = cc_test_datasets_multiclass[0]\n",
        "ds, df_train, df_test, _, _ = data.get_data_split(ds, seed=0)\n",
        "target_column_name = ds[4][-1]\n",
        "dataset_description = ds[-1]\n",
        "ds[0]"
      ]
    },
    {
      "cell_type": "code",
      "execution_count": null,
      "id": "EysqQd2MhrGw",
      "metadata": {
        "colab": {
          "base_uri": "https://localhost:8080/"
        },
        "id": "EysqQd2MhrGw",
        "outputId": "2a72bac5-b4fc-4c23-891e-84b5e407cbb0"
      },
      "outputs": [
        {
          "name": "stdout",
          "output_type": "stream",
          "text": [
            "Loading model that can be used for inference only\n",
            "Using a Transformer with 25.82 M parameters\n",
            "Accuracy before CAAFE 0.5833333333333334\n"
          ]
        }
      ],
      "source": [
        "from caafe.preprocessing import make_datasets_numeric\n",
        "df_train, df_test = make_datasets_numeric(df_train, df_test, target_column_name)\n",
        "train_x, train_y = data.get_X_y(df_train, target_column_name)\n",
        "test_x, test_y = data.get_X_y(df_test, target_column_name)"
      ]
    },
    {
      "cell_type": "code",
      "execution_count": null,
      "id": "FOunYfSF4Vi3",
      "metadata": {
        "id": "FOunYfSF4Vi3"
      },
      "outputs": [],
      "source": [
        "### Setup Base Classifier\n",
        "\n",
        "# clf_no_feat_eng = RandomForestClassifier()\n",
        "clf_no_feat_eng = TabPFNClassifier(device=('cuda' if torch.cuda.is_available() else 'cpu'), N_ensemble_configurations=4)\n",
        "clf_no_feat_eng.fit = partial(clf_no_feat_eng.fit, overwrite_warning=True)\n",
        "\n",
        "clf_no_feat_eng.fit(train_x, train_y)\n",
        "pred = clf_no_feat_eng.predict(test_x)\n",
        "acc = accuracy_score(pred, test_y)\n",
        "print(f'Accuracy before CAAFE {acc}')"
      ]
    },
    {
      "cell_type": "code",
      "execution_count": null,
      "id": "ZPSehtgSlVWg",
      "metadata": {
        "colab": {
          "base_uri": "https://localhost:8080/",
          "height": 502
        },
        "id": "ZPSehtgSlVWg",
        "outputId": "69dd49d3-6efc-43c0-d4e4-4def87421af1"
      },
      "outputs": [
        {
          "data": {
            "text/markdown": [
              "*Dataset description:*\n",
              " **Tic-Tac-Toe Endgame database**  \n",
              "This database encodes the complete set of possible board configurations at the end of tic-tac-toe games, where \"x\" is assumed to have played first.  The target concept is \"win for x\" (i.e., true when \"x\" has one of 8 possible ways to create a \"three-in-a-row\").  "
            ],
            "text/plain": [
              "<IPython.core.display.Markdown object>"
            ]
          },
          "metadata": {},
          "output_type": "display_data"
        },
        {
          "data": {
            "text/markdown": [
              "\n",
              "*Iteration 1*\n",
              "```python\n",
              "\n",
              "# Feature name: row_win\n",
              "# Usefulness: This feature checks if there is a winning row for \"x\" in the tic-tac-toe board.\n",
              "# Input samples: 'top-left-square': [2.0, 2.0, 2.0], 'top-middle-square': [0.0, 0.0, 1.0], 'top-right-square': [1.0, 0.0, 1.0], ...\n",
              "df['row_win'] = ((df['top-left-square'] == df['top-middle-square']) & (df['top-middle-square'] == df['top-right-square']) & (df['top-left-square'] == 1.0)) | \\\n",
              "                ((df['middle-left-square'] == df['middle-middle-square']) & (df['middle-middle-square'] == df['middle-right-square']) & (df['middle-left-square'] == 1.0)) | \\\n",
              "                ((df['bottom-left-square'] == df['bottom-middle-square']) & (df['bottom-middle-square'] == df['bottom-right-square']) & (df['bottom-left-square'] == 1.0))\n",
              "\n",
              "```\n",
              "Performance before adding features ROC 0.732, ACC 0.596.\n",
              "Performance after adding features ROC 0.732, ACC 0.691.\n",
              "Improvement ROC 0.000, ACC 0.094.\n",
              "The code was executed and changes to ´df´ were kept.\n",
              "\n"
            ],
            "text/plain": [
              "<IPython.core.display.Markdown object>"
            ]
          },
          "metadata": {},
          "output_type": "display_data"
        },
        {
          "data": {
            "text/markdown": [
              "\n",
              "*Iteration 2*\n",
              "```python\n",
              "\n",
              "# Feature name: col_win\n",
              "# Usefulness: This feature checks if there is a winning column for \"x\" in the tic-tac-toe board.\n",
              "# Input samples: 'top-left-square': [2.0, 2.0, 2.0], 'middle-left-square': [1.0, 0.0, 2.0], 'bottom-left-square': [2.0, 1.0, 1.0], ...\n",
              "df['col_win'] = ((df['top-left-square'] == df['middle-left-square']) & (df['middle-left-square'] == df['bottom-left-square']) & (df['top-left-square'] == 1.0)) | \\\n",
              "                ((df['top-middle-square'] == df['middle-middle-square']) & (df['middle-middle-square'] == df['bottom-middle-square']) & (df['top-middle-square'] == 1.0)) | \\\n",
              "                ((df['top-right-square'] == df['middle-right-square']) & (df['middle-right-square'] == df['bottom-right-square']) & (df['top-right-square'] == 1.0))\n",
              "\n",
              "```\n",
              "Performance before adding features ROC 0.732, ACC 0.691.\n",
              "Performance after adding features ROC 0.831, ACC 0.781.\n",
              "Improvement ROC 0.099, ACC 0.091.\n",
              "The code was executed and changes to ´df´ were kept.\n",
              "\n"
            ],
            "text/plain": [
              "<IPython.core.display.Markdown object>"
            ]
          },
          "metadata": {},
          "output_type": "display_data"
        },
        {
          "name": "stdout",
          "output_type": "stream",
          "text": [
            "Accuracy after CAAFE 0.7083333333333334\n"
          ]
        }
      ],
      "source": [
        "### Setup and Run CAAFE - This will be billed to your OpenAI Account!\n",
        "\n",
        "caafe_clf = CAAFEClassifier(base_classifier=clf_no_feat_eng,\n",
        "                            llm_model=\"gpt-4\",\n",
        "                            iterations=2)\n",
        "\n",
        "caafe_clf.fit_pandas(df_train,\n",
        "                     target_column_name=target_column_name,\n",
        "                     dataset_description=dataset_description)\n",
        "\n",
        "pred = caafe_clf.predict(df_test)\n",
        "acc = accuracy_score(pred, test_y)\n",
        "print(f'Accuracy after CAAFE {acc}')"
      ]
    },
    {
      "cell_type": "code",
      "execution_count": null,
      "id": "FA2qVWtIf9fe",
      "metadata": {
        "colab": {
          "base_uri": "https://localhost:8080/"
        },
        "id": "FA2qVWtIf9fe",
        "outputId": "17d41544-ef06-4373-a2e4-0efcdaefeebf"
      },
      "outputs": [
        {
          "name": "stdout",
          "output_type": "stream",
          "text": [
            "\n",
            "# Feature name: row_win\n",
            "# Usefulness: This feature checks if there is a winning row for \"x\" in the tic-tac-toe board.\n",
            "# Input samples: 'top-left-square': [2.0, 2.0, 2.0], 'top-middle-square': [0.0, 0.0, 1.0], 'top-right-square': [1.0, 0.0, 1.0], ...\n",
            "df['row_win'] = ((df['top-left-square'] == df['top-middle-square']) & (df['top-middle-square'] == df['top-right-square']) & (df['top-left-square'] == 1.0)) | \\\n",
            "                ((df['middle-left-square'] == df['middle-middle-square']) & (df['middle-middle-square'] == df['middle-right-square']) & (df['middle-left-square'] == 1.0)) | \\\n",
            "                ((df['bottom-left-square'] == df['bottom-middle-square']) & (df['bottom-middle-square'] == df['bottom-right-square']) & (df['bottom-left-square'] == 1.0))\n",
            "\n",
            "# Feature name: col_win\n",
            "# Usefulness: This feature checks if there is a winning column for \"x\" in the tic-tac-toe board.\n",
            "# Input samples: 'top-left-square': [2.0, 2.0, 2.0], 'middle-left-square': [1.0, 0.0, 2.0], 'bottom-left-square': [2.0, 1.0, 1.0], ...\n",
            "df['col_win'] = ((df['top-left-square'] == df['middle-left-square']) & (df['middle-left-square'] == df['bottom-left-square']) & (df['top-left-square'] == 1.0)) | \\\n",
            "                ((df['top-middle-square'] == df['middle-middle-square']) & (df['middle-middle-square'] == df['bottom-middle-square']) & (df['top-middle-square'] == 1.0)) | \\\n",
            "                ((df['top-right-square'] == df['middle-right-square']) & (df['middle-right-square'] == df['bottom-right-square']) & (df['top-right-square'] == 1.0))\n",
            "\n"
          ]
        }
      ],
      "source": [
        "print(caafe_clf.code)"
      ]
    },
    {
      "cell_type": "markdown",
      "id": "yIvtLbpr4Kri",
      "metadata": {
        "id": "yIvtLbpr4Kri"
      },
      "source": [
        "### Optional download Kaggle data"
      ]
    },
    {
      "cell_type": "code",
      "execution_count": 16,
      "id": "MZDQHMrgenGW",
      "metadata": {
        "id": "MZDQHMrgenGW"
      },
      "outputs": [
        {
          "name": "stdout",
          "output_type": "stream",
          "text": [
            "========================\n",
            "Traceback (most recent call last):\n",
            "  File \"/home/saeed/Documents/Github/CatDB/envCatDB/bin/kaggle\", line 33, in <module>\n",
            "    sys.exit(load_entry_point('kaggle==1.6.6', 'console_scripts', 'kaggle')())\n",
            "  File \"/home/saeed/Documents/Github/CatDB/envCatDB/bin/kaggle\", line 25, in importlib_load_entry_point\n",
            "    return next(matches).load()\n",
            "  File \"/usr/lib/python3.10/importlib/metadata/__init__.py\", line 171, in load\n",
            "    module = import_module(match.group('module'))\n",
            "  File \"/usr/lib/python3.10/importlib/__init__.py\", line 126, in import_module\n",
            "    return _bootstrap._gcd_import(name[level:], package, level)\n",
            "  File \"<frozen importlib._bootstrap>\", line 1050, in _gcd_import\n",
            "  File \"<frozen importlib._bootstrap>\", line 1027, in _find_and_load\n",
            "  File \"<frozen importlib._bootstrap>\", line 992, in _find_and_load_unlocked\n",
            "  File \"<frozen importlib._bootstrap>\", line 241, in _call_with_frames_removed\n",
            "  File \"<frozen importlib._bootstrap>\", line 1050, in _gcd_import\n",
            "  File \"<frozen importlib._bootstrap>\", line 1027, in _find_and_load\n",
            "  File \"<frozen importlib._bootstrap>\", line 1006, in _find_and_load_unlocked\n",
            "  File \"<frozen importlib._bootstrap>\", line 688, in _load_unlocked\n",
            "  File \"<frozen importlib._bootstrap_external>\", line 883, in exec_module\n",
            "  File \"<frozen importlib._bootstrap>\", line 241, in _call_with_frames_removed\n",
            "  File \"/home/saeed/Documents/Github/CatDB/envCatDB/lib/python3.10/site-packages/kaggle-1.6.6-py3.10.egg/kaggle/__init__.py\", line 23, in <module>\n",
            "  File \"/home/saeed/Documents/Github/CatDB/envCatDB/lib/python3.10/site-packages/kaggle-1.6.6-py3.10.egg/kaggle/api/kaggle_api_extended.py\", line 408, in authenticate\n",
            "  File \"/home/saeed/Documents/Github/CatDB/envCatDB/lib/python3.10/site-packages/kaggle-1.6.6-py3.10.egg/kaggle/api/kaggle_api_extended.py\", line 449, in _load_config\n",
            "ValueError: Error: Missing username in configuration.\n",
            "mkdir: cannot create directory ‘datasets_kaggle/health-insurance-lead-prediction-raw-data’: File exists\n",
            "unzip:  cannot find or open health-insurance-lead-prediction-raw-data.zip, health-insurance-lead-prediction-raw-data.zip.zip or health-insurance-lead-prediction-raw-data.zip.ZIP.\n",
            "Traceback (most recent call last):\n",
            "  File \"/home/saeed/Documents/Github/CatDB/envCatDB/bin/kaggle\", line 33, in <module>\n",
            "    sys.exit(load_entry_point('kaggle==1.6.6', 'console_scripts', 'kaggle')())\n",
            "  File \"/home/saeed/Documents/Github/CatDB/envCatDB/bin/kaggle\", line 25, in importlib_load_entry_point\n",
            "    return next(matches).load()\n",
            "  File \"/usr/lib/python3.10/importlib/metadata/__init__.py\", line 171, in load\n",
            "    module = import_module(match.group('module'))\n",
            "  File \"/usr/lib/python3.10/importlib/__init__.py\", line 126, in import_module\n",
            "    return _bootstrap._gcd_import(name[level:], package, level)\n",
            "  File \"<frozen importlib._bootstrap>\", line 1050, in _gcd_import\n",
            "  File \"<frozen importlib._bootstrap>\", line 1027, in _find_and_load\n",
            "  File \"<frozen importlib._bootstrap>\", line 992, in _find_and_load_unlocked\n",
            "  File \"<frozen importlib._bootstrap>\", line 241, in _call_with_frames_removed\n",
            "  File \"<frozen importlib._bootstrap>\", line 1050, in _gcd_import\n",
            "  File \"<frozen importlib._bootstrap>\", line 1027, in _find_and_load\n",
            "  File \"<frozen importlib._bootstrap>\", line 1006, in _find_and_load_unlocked\n",
            "  File \"<frozen importlib._bootstrap>\", line 688, in _load_unlocked\n",
            "  File \"<frozen importlib._bootstrap_external>\", line 883, in exec_module\n",
            "  File \"<frozen importlib._bootstrap>\", line 241, in _call_with_frames_removed\n",
            "  File \"/home/saeed/Documents/Github/CatDB/envCatDB/lib/python3.10/site-packages/kaggle-1.6.6-py3.10.egg/kaggle/__init__.py\", line 23, in <module>\n",
            "  File \"/home/saeed/Documents/Github/CatDB/envCatDB/lib/python3.10/site-packages/kaggle-1.6.6-py3.10.egg/kaggle/api/kaggle_api_extended.py\", line 408, in authenticate\n",
            "  File \"/home/saeed/Documents/Github/CatDB/envCatDB/lib/python3.10/site-packages/kaggle-1.6.6-py3.10.egg/kaggle/api/kaggle_api_extended.py\", line 449, in _load_config\n",
            "ValueError: Error: Missing username in configuration.\n",
            "mkdir: cannot create directory ‘datasets_kaggle/pharyngitis’: File exists\n",
            "unzip:  cannot find or open pharyngitis.zip, pharyngitis.zip.zip or pharyngitis.zip.ZIP.\n",
            "spaceship-titanic\n",
            "Traceback (most recent call last):\n",
            "  File \"/home/saeed/Documents/Github/CatDB/envCatDB/bin/kaggle\", line 33, in <module>\n",
            "    sys.exit(load_entry_point('kaggle==1.6.6', 'console_scripts', 'kaggle')())\n",
            "  File \"/home/saeed/Documents/Github/CatDB/envCatDB/bin/kaggle\", line 25, in importlib_load_entry_point\n",
            "    return next(matches).load()\n",
            "  File \"/usr/lib/python3.10/importlib/metadata/__init__.py\", line 171, in load\n",
            "    module = import_module(match.group('module'))\n",
            "  File \"/usr/lib/python3.10/importlib/__init__.py\", line 126, in import_module\n",
            "    return _bootstrap._gcd_import(name[level:], package, level)\n",
            "  File \"<frozen importlib._bootstrap>\", line 1050, in _gcd_import\n",
            "  File \"<frozen importlib._bootstrap>\", line 1027, in _find_and_load\n",
            "  File \"<frozen importlib._bootstrap>\", line 992, in _find_and_load_unlocked\n",
            "  File \"<frozen importlib._bootstrap>\", line 241, in _call_with_frames_removed\n",
            "  File \"<frozen importlib._bootstrap>\", line 1050, in _gcd_import\n",
            "  File \"<frozen importlib._bootstrap>\", line 1027, in _find_and_load\n",
            "  File \"<frozen importlib._bootstrap>\", line 1006, in _find_and_load_unlocked\n",
            "  File \"<frozen importlib._bootstrap>\", line 688, in _load_unlocked\n",
            "  File \"<frozen importlib._bootstrap_external>\", line 883, in exec_module\n",
            "  File \"<frozen importlib._bootstrap>\", line 241, in _call_with_frames_removed\n",
            "  File \"/home/saeed/Documents/Github/CatDB/envCatDB/lib/python3.10/site-packages/kaggle-1.6.6-py3.10.egg/kaggle/__init__.py\", line 23, in <module>\n",
            "  File \"/home/saeed/Documents/Github/CatDB/envCatDB/lib/python3.10/site-packages/kaggle-1.6.6-py3.10.egg/kaggle/api/kaggle_api_extended.py\", line 408, in authenticate\n",
            "  File \"/home/saeed/Documents/Github/CatDB/envCatDB/lib/python3.10/site-packages/kaggle-1.6.6-py3.10.egg/kaggle/api/kaggle_api_extended.py\", line 449, in _load_config\n",
            "ValueError: Error: Missing username in configuration.\n",
            "mkdir: cannot create directory ‘datasets_kaggle/spaceship-titanic’: File exists\n",
            "unzip:  cannot find or open spaceship-titanic.zip, spaceship-titanic.zip.zip or spaceship-titanic.zip.ZIP.\n",
            "playground-series-s3e12\n",
            "Traceback (most recent call last):\n",
            "  File \"/home/saeed/Documents/Github/CatDB/envCatDB/bin/kaggle\", line 33, in <module>\n",
            "    sys.exit(load_entry_point('kaggle==1.6.6', 'console_scripts', 'kaggle')())\n",
            "  File \"/home/saeed/Documents/Github/CatDB/envCatDB/bin/kaggle\", line 25, in importlib_load_entry_point\n",
            "    return next(matches).load()\n",
            "  File \"/usr/lib/python3.10/importlib/metadata/__init__.py\", line 171, in load\n",
            "    module = import_module(match.group('module'))\n",
            "  File \"/usr/lib/python3.10/importlib/__init__.py\", line 126, in import_module\n",
            "    return _bootstrap._gcd_import(name[level:], package, level)\n",
            "  File \"<frozen importlib._bootstrap>\", line 1050, in _gcd_import\n",
            "  File \"<frozen importlib._bootstrap>\", line 1027, in _find_and_load\n",
            "  File \"<frozen importlib._bootstrap>\", line 992, in _find_and_load_unlocked\n",
            "  File \"<frozen importlib._bootstrap>\", line 241, in _call_with_frames_removed\n",
            "  File \"<frozen importlib._bootstrap>\", line 1050, in _gcd_import\n",
            "  File \"<frozen importlib._bootstrap>\", line 1027, in _find_and_load\n",
            "  File \"<frozen importlib._bootstrap>\", line 1006, in _find_and_load_unlocked\n",
            "  File \"<frozen importlib._bootstrap>\", line 688, in _load_unlocked\n",
            "  File \"<frozen importlib._bootstrap_external>\", line 883, in exec_module\n",
            "  File \"<frozen importlib._bootstrap>\", line 241, in _call_with_frames_removed\n",
            "  File \"/home/saeed/Documents/Github/CatDB/envCatDB/lib/python3.10/site-packages/kaggle-1.6.6-py3.10.egg/kaggle/__init__.py\", line 23, in <module>\n",
            "  File \"/home/saeed/Documents/Github/CatDB/envCatDB/lib/python3.10/site-packages/kaggle-1.6.6-py3.10.egg/kaggle/api/kaggle_api_extended.py\", line 408, in authenticate\n",
            "  File \"/home/saeed/Documents/Github/CatDB/envCatDB/lib/python3.10/site-packages/kaggle-1.6.6-py3.10.egg/kaggle/api/kaggle_api_extended.py\", line 449, in _load_config\n",
            "ValueError: Error: Missing username in configuration.\n",
            "mkdir: cannot create directory ‘datasets_kaggle/playground-series-s3e12’: File exists\n",
            "unzip:  cannot find or open playground-series-s3e12.zip, playground-series-s3e12.zip.zip or playground-series-s3e12.zip.ZIP.\n"
          ]
        }
      ],
      "source": [
        "#!ls ~/.kaggle/kaggle.json\n",
        "\n",
        "# !mkdir ~/.kaggle\n",
        "# !touch ~/.kaggle/kaggle.json\n",
        "\n",
        "kaggle_api_token = {\"username\":\"\",\"key\":\"\"}\n",
        "\n",
        "import json\n",
        "with open('kaggle.json', 'w') as file:\n",
        "    json.dump(kaggle_api_token, file)\n",
        "\n",
        "    print(\"========================\")\n",
        "\n",
        "# !chmod 600 ~/.kaggle/kaggle.json\n",
        "# !mkdir datasets_kaggle/\n",
        "\n",
        "from caafe import data\n",
        "\n",
        "for (name, _, _, user) in data.kaggle_dataset_ids:\n",
        "    !kaggle datasets download -d {user}/{name}\n",
        "    !mkdir datasets_kaggle/{name}\n",
        "    !unzip {name}.zip -d datasets_kaggle/{name}\n",
        "\n",
        "# Accept rules at https://www.kaggle.com/c/spaceship-titanic/rules\n",
        "for name in data.kaggle_competition_ids:\n",
        "    print(name)\n",
        "    !kaggle competitions download -c {name}\n",
        "    !mkdir datasets_kaggle/{name}\n",
        "    !unzip {name}.zip -d datasets_kaggle/{name}"
      ]
    }
  ],
  "metadata": {
    "accelerator": "GPU",
    "colab": {
      "collapsed_sections": [
        "yIvtLbpr4Kri"
      ],
      "gpuType": "T4",
      "provenance": []
    },
    "gpuClass": "standard",
    "kernelspec": {
      "display_name": "Python 3 (ipykernel)",
      "language": "python",
      "name": "python3"
    },
    "language_info": {
      "codemirror_mode": {
        "name": "ipython",
        "version": 3
      },
      "file_extension": ".py",
      "mimetype": "text/x-python",
      "name": "python",
      "nbconvert_exporter": "python",
      "pygments_lexer": "ipython3",
      "version": "3.10.12"
    }
  },
  "nbformat": 4,
  "nbformat_minor": 5
}
