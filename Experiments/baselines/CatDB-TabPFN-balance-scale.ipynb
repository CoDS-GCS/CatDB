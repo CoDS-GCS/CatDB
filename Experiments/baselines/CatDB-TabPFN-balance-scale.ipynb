{
  "cells": [
    {
      "cell_type": "code",
      "execution_count": 1,
      "id": "Da3zn7I3GTjq",
      "metadata": {
        "id": "Da3zn7I3GTjq"
      },
      "outputs": [
        {
          "name": "stdout",
          "output_type": "stream",
          "text": [
            "Requirement already satisfied: caafe in /home/saeed/Documents/Github/CatDB/envCatDB/lib/python3.10/site-packages/caafe-0.1.5-py3.10.egg (0.1.5)\n",
            "Requirement already satisfied: openai==0.28 in /home/saeed/Documents/Github/CatDB/envCatDB/lib/python3.10/site-packages (from caafe) (0.28.0)\n",
            "Requirement already satisfied: kaggle in /home/saeed/Documents/Github/CatDB/envCatDB/lib/python3.10/site-packages/kaggle-1.6.6-py3.10.egg (from caafe) (1.6.6)\n",
            "Requirement already satisfied: openml==0.12.0 in /home/saeed/Documents/Github/CatDB/envCatDB/lib/python3.10/site-packages (from caafe) (0.12.0)\n",
            "Requirement already satisfied: tabpfn in /home/saeed/Documents/Github/CatDB/envCatDB/lib/python3.10/site-packages (from caafe) (0.1.10)\n",
            "Requirement already satisfied: numpy==1.23.1 in /home/saeed/Documents/Github/CatDB/envCatDB/lib/python3.10/site-packages (from caafe) (1.23.1)\n",
            "Requirement already satisfied: torch==1.12.1 in /home/saeed/Documents/Github/CatDB/envCatDB/lib/python3.10/site-packages (from caafe) (1.12.1)\n",
            "Requirement already satisfied: catboost in /home/saeed/Documents/Github/CatDB/envCatDB/lib/python3.10/site-packages (from caafe) (1.2.3)\n",
            "Requirement already satisfied: xgboost in /home/saeed/Documents/Github/CatDB/envCatDB/lib/python3.10/site-packages (from caafe) (2.0.3)\n",
            "Requirement already satisfied: hyperopt in /home/saeed/Documents/Github/CatDB/envCatDB/lib/python3.10/site-packages (from caafe) (0.2.7)\n",
            "Requirement already satisfied: requests>=2.20 in /home/saeed/Documents/Github/CatDB/envCatDB/lib/python3.10/site-packages (from openai==0.28->caafe) (2.31.0)\n",
            "Requirement already satisfied: tqdm in /home/saeed/Documents/Github/CatDB/envCatDB/lib/python3.10/site-packages (from openai==0.28->caafe) (4.66.1)\n",
            "Requirement already satisfied: aiohttp in /home/saeed/Documents/Github/CatDB/envCatDB/lib/python3.10/site-packages (from openai==0.28->caafe) (3.9.1)\n",
            "Requirement already satisfied: liac-arff>=2.4.0 in /home/saeed/Documents/Github/CatDB/envCatDB/lib/python3.10/site-packages (from openml==0.12.0->caafe) (2.5.0)\n",
            "Requirement already satisfied: xmltodict in /home/saeed/Documents/Github/CatDB/envCatDB/lib/python3.10/site-packages (from openml==0.12.0->caafe) (0.13.0)\n",
            "Requirement already satisfied: scikit-learn>=0.18 in /home/saeed/Documents/Github/CatDB/envCatDB/lib/python3.10/site-packages (from openml==0.12.0->caafe) (0.24.2)\n",
            "Requirement already satisfied: python-dateutil in /home/saeed/Documents/Github/CatDB/envCatDB/lib/python3.10/site-packages (from openml==0.12.0->caafe) (2.8.2)\n",
            "Requirement already satisfied: pandas>=1.0.0 in /home/saeed/Documents/Github/CatDB/envCatDB/lib/python3.10/site-packages (from openml==0.12.0->caafe) (2.1.4)\n",
            "Requirement already satisfied: scipy>=0.13.3 in /home/saeed/Documents/Github/CatDB/envCatDB/lib/python3.10/site-packages (from openml==0.12.0->caafe) (1.11.4)\n",
            "Requirement already satisfied: minio in /home/saeed/Documents/Github/CatDB/envCatDB/lib/python3.10/site-packages (from openml==0.12.0->caafe) (7.2.5)\n",
            "Requirement already satisfied: pyarrow in /home/saeed/Documents/Github/CatDB/envCatDB/lib/python3.10/site-packages (from openml==0.12.0->caafe) (15.0.1)\n",
            "Requirement already satisfied: typing-extensions in /home/saeed/Documents/Github/CatDB/envCatDB/lib/python3.10/site-packages (from torch==1.12.1->caafe) (4.9.0)\n",
            "Requirement already satisfied: graphviz in /home/saeed/Documents/Github/CatDB/envCatDB/lib/python3.10/site-packages (from catboost->caafe) (0.20.1)\n",
            "Requirement already satisfied: matplotlib in /home/saeed/Documents/Github/CatDB/envCatDB/lib/python3.10/site-packages (from catboost->caafe) (3.8.3)\n",
            "Requirement already satisfied: plotly in /home/saeed/Documents/Github/CatDB/envCatDB/lib/python3.10/site-packages (from catboost->caafe) (5.19.0)\n",
            "Requirement already satisfied: six in /home/saeed/Documents/Github/CatDB/envCatDB/lib/python3.10/site-packages (from catboost->caafe) (1.16.0)\n",
            "Requirement already satisfied: networkx>=2.2 in /home/saeed/Documents/Github/CatDB/envCatDB/lib/python3.10/site-packages (from hyperopt->caafe) (3.2.1)\n",
            "Requirement already satisfied: future in /home/saeed/Documents/Github/CatDB/envCatDB/lib/python3.10/site-packages (from hyperopt->caafe) (1.0.0)\n",
            "Requirement already satisfied: cloudpickle in /home/saeed/Documents/Github/CatDB/envCatDB/lib/python3.10/site-packages (from hyperopt->caafe) (3.0.0)\n",
            "Requirement already satisfied: py4j in /home/saeed/Documents/Github/CatDB/envCatDB/lib/python3.10/site-packages (from hyperopt->caafe) (0.10.9.7)\n",
            "Requirement already satisfied: certifi in /home/saeed/Documents/Github/CatDB/envCatDB/lib/python3.10/site-packages (from kaggle->caafe) (2023.11.17)\n",
            "Requirement already satisfied: python-slugify in /home/saeed/Documents/Github/CatDB/envCatDB/lib/python3.10/site-packages/python_slugify-8.0.4-py3.10.egg (from kaggle->caafe) (8.0.4)\n",
            "Requirement already satisfied: urllib3 in /home/saeed/Documents/Github/CatDB/envCatDB/lib/python3.10/site-packages (from kaggle->caafe) (2.1.0)\n",
            "Requirement already satisfied: bleach in /home/saeed/Documents/Github/CatDB/envCatDB/lib/python3.10/site-packages/bleach-6.1.0-py3.10.egg (from kaggle->caafe) (6.1.0)\n",
            "Requirement already satisfied: pyyaml>=5.4.1 in /home/saeed/Documents/Github/CatDB/envCatDB/lib/python3.10/site-packages (from tabpfn->caafe) (6.0.1)\n",
            "Requirement already satisfied: pytz>=2020.1 in /home/saeed/Documents/Github/CatDB/envCatDB/lib/python3.10/site-packages (from pandas>=1.0.0->openml==0.12.0->caafe) (2023.3.post1)\n",
            "Requirement already satisfied: tzdata>=2022.1 in /home/saeed/Documents/Github/CatDB/envCatDB/lib/python3.10/site-packages (from pandas>=1.0.0->openml==0.12.0->caafe) (2023.4)\n",
            "Requirement already satisfied: charset-normalizer<4,>=2 in /home/saeed/Documents/Github/CatDB/envCatDB/lib/python3.10/site-packages (from requests>=2.20->openai==0.28->caafe) (3.3.2)\n",
            "Requirement already satisfied: idna<4,>=2.5 in /home/saeed/Documents/Github/CatDB/envCatDB/lib/python3.10/site-packages (from requests>=2.20->openai==0.28->caafe) (3.6)\n",
            "Requirement already satisfied: joblib>=0.11 in /home/saeed/Documents/Github/CatDB/envCatDB/lib/python3.10/site-packages (from scikit-learn>=0.18->openml==0.12.0->caafe) (1.3.2)\n",
            "Requirement already satisfied: threadpoolctl>=2.0.0 in /home/saeed/Documents/Github/CatDB/envCatDB/lib/python3.10/site-packages (from scikit-learn>=0.18->openml==0.12.0->caafe) (3.2.0)\n",
            "Requirement already satisfied: attrs>=17.3.0 in /home/saeed/Documents/Github/CatDB/envCatDB/lib/python3.10/site-packages (from aiohttp->openai==0.28->caafe) (23.2.0)\n",
            "Requirement already satisfied: multidict<7.0,>=4.5 in /home/saeed/Documents/Github/CatDB/envCatDB/lib/python3.10/site-packages (from aiohttp->openai==0.28->caafe) (6.0.4)\n",
            "Requirement already satisfied: yarl<2.0,>=1.0 in /home/saeed/Documents/Github/CatDB/envCatDB/lib/python3.10/site-packages (from aiohttp->openai==0.28->caafe) (1.9.4)\n",
            "Requirement already satisfied: frozenlist>=1.1.1 in /home/saeed/Documents/Github/CatDB/envCatDB/lib/python3.10/site-packages (from aiohttp->openai==0.28->caafe) (1.4.1)\n",
            "Requirement already satisfied: aiosignal>=1.1.2 in /home/saeed/Documents/Github/CatDB/envCatDB/lib/python3.10/site-packages (from aiohttp->openai==0.28->caafe) (1.3.1)\n",
            "Requirement already satisfied: async-timeout<5.0,>=4.0 in /home/saeed/Documents/Github/CatDB/envCatDB/lib/python3.10/site-packages (from aiohttp->openai==0.28->caafe) (4.0.3)\n",
            "Requirement already satisfied: webencodings in /home/saeed/Documents/Github/CatDB/envCatDB/lib/python3.10/site-packages/webencodings-0.5.1-py3.10.egg (from bleach->kaggle->caafe) (0.5.1)\n",
            "Requirement already satisfied: contourpy>=1.0.1 in /home/saeed/Documents/Github/CatDB/envCatDB/lib/python3.10/site-packages (from matplotlib->catboost->caafe) (1.2.0)\n",
            "Requirement already satisfied: cycler>=0.10 in /home/saeed/Documents/Github/CatDB/envCatDB/lib/python3.10/site-packages (from matplotlib->catboost->caafe) (0.12.1)\n",
            "Requirement already satisfied: fonttools>=4.22.0 in /home/saeed/Documents/Github/CatDB/envCatDB/lib/python3.10/site-packages (from matplotlib->catboost->caafe) (4.49.0)\n",
            "Requirement already satisfied: kiwisolver>=1.3.1 in /home/saeed/Documents/Github/CatDB/envCatDB/lib/python3.10/site-packages (from matplotlib->catboost->caafe) (1.4.5)\n",
            "Requirement already satisfied: packaging>=20.0 in /home/saeed/Documents/Github/CatDB/envCatDB/lib/python3.10/site-packages (from matplotlib->catboost->caafe) (23.2)\n",
            "Requirement already satisfied: pillow>=8 in /home/saeed/Documents/Github/CatDB/envCatDB/lib/python3.10/site-packages (from matplotlib->catboost->caafe) (10.2.0)\n",
            "Requirement already satisfied: pyparsing>=2.3.1 in /home/saeed/Documents/Github/CatDB/envCatDB/lib/python3.10/site-packages (from matplotlib->catboost->caafe) (3.1.2)\n",
            "Requirement already satisfied: argon2-cffi in /home/saeed/Documents/Github/CatDB/envCatDB/lib/python3.10/site-packages (from minio->openml==0.12.0->caafe) (23.1.0)\n",
            "Requirement already satisfied: pycryptodome in /home/saeed/Documents/Github/CatDB/envCatDB/lib/python3.10/site-packages (from minio->openml==0.12.0->caafe) (3.20.0)\n",
            "Requirement already satisfied: tenacity>=6.2.0 in /home/saeed/Documents/Github/CatDB/envCatDB/lib/python3.10/site-packages (from plotly->catboost->caafe) (8.2.3)\n",
            "Requirement already satisfied: text-unidecode>=1.3 in /home/saeed/Documents/Github/CatDB/envCatDB/lib/python3.10/site-packages/text_unidecode-1.3-py3.10.egg (from python-slugify->kaggle->caafe) (1.3)\n",
            "Requirement already satisfied: argon2-cffi-bindings in /home/saeed/Documents/Github/CatDB/envCatDB/lib/python3.10/site-packages (from argon2-cffi->minio->openml==0.12.0->caafe) (21.2.0)\n",
            "Requirement already satisfied: cffi>=1.0.1 in /home/saeed/Documents/Github/CatDB/envCatDB/lib/python3.10/site-packages (from argon2-cffi-bindings->argon2-cffi->minio->openml==0.12.0->caafe) (1.16.0)\n",
            "Requirement already satisfied: pycparser in /home/saeed/Documents/Github/CatDB/envCatDB/lib/python3.10/site-packages (from cffi>=1.0.1->argon2-cffi-bindings->argon2-cffi->minio->openml==0.12.0->caafe) (2.21)\n"
          ]
        }
      ],
      "source": [
        "%load_ext autoreload\n",
        "%autoreload 2\n",
        "!pip install caafe"
      ]
    },
    {
      "cell_type": "code",
      "execution_count": 2,
      "id": "3c2770a9-abee-4790-ad55-9c6451320345",
      "metadata": {
        "id": "3c2770a9-abee-4790-ad55-9c6451320345"
      },
      "outputs": [
        {
          "name": "stderr",
          "output_type": "stream",
          "text": [
            "/home/saeed/Documents/Github/CatDB/envCatDB/lib/python3.10/site-packages/tqdm/auto.py:21: TqdmWarning: IProgress not found. Please update jupyter and ipywidgets. See https://ipywidgets.readthedocs.io/en/stable/user_install.html\n",
            "  from .autonotebook import tqdm as notebook_tqdm\n"
          ]
        }
      ],
      "source": [
        "from caafe import CAAFEClassifier # Automated Feature Engineering for tabular datasets\n",
        "from tabpfn import TabPFNClassifier # Fast Automated Machine Learning method for small tabular datasets\n",
        "from sklearn.ensemble import RandomForestClassifier\n",
        "\n",
        "import os\n",
        "import openai\n",
        "import torch\n",
        "from caafe import data\n",
        "from sklearn.metrics import accuracy_score\n",
        "from tabpfn.scripts import tabular_metrics\n",
        "from functools import partial\n",
        "from caafe.preprocessing import make_datasets_numeric\n",
        "\n",
        "# CatDB packages\n",
        "import pandas as pd\n",
        "from sklearn.preprocessing import MinMaxScaler, LabelEncoder\n",
        "from sklearn.ensemble import RandomForestClassifier\n",
        "from sklearn.metrics import accuracy_score, log_loss"
      ]
    },
    {
      "cell_type": "code",
      "execution_count": 10,
      "id": "ba83bf99-e40a-441c-b0a0-e6767ef9ac2d",
      "metadata": {
        "colab": {
          "base_uri": "https://localhost:8080/"
        },
        "id": "ba83bf99-e40a-441c-b0a0-e6767ef9ac2d",
        "outputId": "ff972a59-47e4-4549-b14a-804876333941"
      },
      "outputs": [
        {
          "name": "stderr",
          "output_type": "stream",
          "text": [
            "/home/saeed/Documents/Github/CatDB/envCatDB/lib/python3.10/site-packages/pandas/core/algorithms.py:1814: DeprecationWarning: is_sparse is deprecated and will be removed in a future version. Check `isinstance(dtype, pd.SparseDtype)` instead.\n",
            "  return lib.map_infer(values, mapper, convert=convert)\n",
            "/home/saeed/Documents/Github/CatDB/envCatDB/lib/python3.10/site-packages/pandas/core/algorithms.py:1814: DeprecationWarning: is_sparse is deprecated and will be removed in a future version. Check `isinstance(dtype, pd.SparseDtype)` instead.\n",
            "  return lib.map_infer(values, mapper, convert=convert)\n",
            "/home/saeed/Documents/Github/CatDB/envCatDB/lib/python3.10/site-packages/pandas/core/algorithms.py:1814: DeprecationWarning: is_sparse is deprecated and will be removed in a future version. Check `isinstance(dtype, pd.SparseDtype)` instead.\n",
            "  return lib.map_infer(values, mapper, convert=convert)\n"
          ]
        }
      ],
      "source": [
        "# ```python\n",
        "# Load the training and test datasets\n",
        "train_data = pd.read_csv('../data/balance-scale/balance-scale_train.csv')\n",
        "test_data = pd.read_csv('../data/balance-scale/balance-scale_test.csv')\n",
        "# ```end\n",
        "target = 'class'\n",
        "\n",
        "\n",
        "# ```python\n",
        "# Perform data cleaning and preprocessing\n",
        "# As per the given schema, there are no missing values and all the columns are of integer type. So, no data cleaning is required.\n",
        "# ```end\n",
        "\n",
        "# ```python\n",
        "# Perform feature processing\n",
        "# Scale the numerical columns\n",
        "scaler = MinMaxScaler()\n",
        "train_data[['right-distance', 'left-distance', 'right-weight', 'left-weight']] = scaler.fit_transform(train_data[['right-distance', 'left-distance', 'right-weight', 'left-weight']])\n",
        "test_data[['right-distance', 'left-distance', 'right-weight', 'left-weight']] = scaler.transform(test_data[['right-distance', 'left-distance', 'right-weight', 'left-weight']])\n",
        "# ```end\n",
        "\n",
        "# ```python\n",
        "# Select the appropriate features and target variables\n",
        "features = ['right-distance', 'left-distance', 'right-weight', 'left-weight']\n",
        "\n",
        "train_data, test_data = make_datasets_numeric(train_data, test_data, target)\n",
        "\n",
        "X_train = train_data[features]\n",
        "y_train = train_data[target]\n",
        "X_test = test_data[features]\n",
        "y_test = test_data[target]"
      ]
    },
    {
      "cell_type": "code",
      "execution_count": 11,
      "id": "FOunYfSF4Vi3",
      "metadata": {
        "id": "FOunYfSF4Vi3"
      },
      "outputs": [
        {
          "name": "stderr",
          "output_type": "stream",
          "text": [
            "/home/saeed/Documents/Github/CatDB/envCatDB/lib/python3.10/site-packages/pandas/core/algorithms.py:1814: DeprecationWarning: is_sparse is deprecated and will be removed in a future version. Check `isinstance(dtype, pd.SparseDtype)` instead.\n",
            "  return lib.map_infer(values, mapper, convert=convert)\n"
          ]
        },
        {
          "data": {
            "text/plain": [
              "TabPFNClassifier(N_ensemble_configurations=4)"
            ]
          },
          "execution_count": 11,
          "metadata": {},
          "output_type": "execute_result"
        }
      ],
      "source": [
        "### Setup Base Classifier\n",
        "\n",
        "clf = TabPFNClassifier(device=('cuda' if torch.cuda.is_available() else 'cpu'), N_ensemble_configurations=4)\n",
        "clf.fit = partial(clf.fit, overwrite_warning=True)\n",
        "\n",
        "clf.fit(X_train, y_train)\n",
        "# pred = clf.predict(X_test)\n",
        "# acc = accuracy_score(pred, y_test)\n",
        "# print(f'Accuracy before CAAFE {acc}')\n",
        "#TabPFN-balance-scale"
      ]
    },
    {
      "cell_type": "code",
      "execution_count": 12,
      "id": "a704177d",
      "metadata": {},
      "outputs": [
        {
          "name": "stderr",
          "output_type": "stream",
          "text": [
            "/home/saeed/Documents/Github/CatDB/envCatDB/lib/python3.10/site-packages/pandas/core/algorithms.py:1814: DeprecationWarning: is_sparse is deprecated and will be removed in a future version. Check `isinstance(dtype, pd.SparseDtype)` instead.\n",
            "  return lib.map_infer(values, mapper, convert=convert)\n",
            "/home/saeed/Documents/Github/CatDB/envCatDB/lib/python3.10/site-packages/pandas/core/algorithms.py:1814: DeprecationWarning: is_sparse is deprecated and will be removed in a future version. Check `isinstance(dtype, pd.SparseDtype)` instead.\n",
            "  return lib.map_infer(values, mapper, convert=convert)\n",
            "/home/saeed/Documents/Github/CatDB/envCatDB/lib/python3.10/site-packages/pandas/core/algorithms.py:1814: DeprecationWarning: is_sparse is deprecated and will be removed in a future version. Check `isinstance(dtype, pd.SparseDtype)` instead.\n",
            "  return lib.map_infer(values, mapper, convert=convert)\n",
            "/home/saeed/Documents/Github/CatDB/envCatDB/lib/python3.10/site-packages/pandas/core/algorithms.py:1814: DeprecationWarning: is_sparse is deprecated and will be removed in a future version. Check `isinstance(dtype, pd.SparseDtype)` instead.\n",
            "  return lib.map_infer(values, mapper, convert=convert)\n"
          ]
        },
        {
          "name": "stdout",
          "output_type": "stream",
          "text": [
            "Train_Accuracy:1.0\n",
            "Train_Log_loss:0.0610072340978834\n",
            "Test_Accuracy:0.9375\n",
            "Test_Log_loss:0.138097871969876\n"
          ]
        }
      ],
      "source": [
        "y_train_pred = clf.predict(X_train)\n",
        "y_test_pred = clf.predict(X_test)\n",
        "\n",
        "Train_Accuracy = accuracy_score(y_train, y_train_pred)\n",
        "Test_Accuracy = accuracy_score(y_test, y_test_pred)\n",
        "\n",
        "Train_Log_loss = log_loss(y_train, clf.predict_proba(X_train))\n",
        "Test_Log_loss = log_loss(y_test, clf.predict_proba(X_test))\n",
        "\n",
        "print(f\"Train_Accuracy:{Train_Accuracy}\")   \n",
        "print(f\"Train_Log_loss:{Train_Log_loss}\") \n",
        "print(f\"Test_Accuracy:{Test_Accuracy}\")   \n",
        "print(f\"Test_Log_loss:{Test_Log_loss}\")"
      ]
    }
  ],
  "metadata": {
    "accelerator": "GPU",
    "colab": {
      "collapsed_sections": [
        "yIvtLbpr4Kri"
      ],
      "gpuType": "T4",
      "provenance": []
    },
    "gpuClass": "standard",
    "kernelspec": {
      "display_name": "Python 3 (ipykernel)",
      "language": "python",
      "name": "python3"
    },
    "language_info": {
      "codemirror_mode": {
        "name": "ipython",
        "version": 3
      },
      "file_extension": ".py",
      "mimetype": "text/x-python",
      "name": "python",
      "nbconvert_exporter": "python",
      "pygments_lexer": "ipython3",
      "version": "3.10.12"
    }
  },
  "nbformat": 4,
  "nbformat_minor": 5
}
