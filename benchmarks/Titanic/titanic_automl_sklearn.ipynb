{
 "cells": [
  {
   "cell_type": "code",
   "execution_count": 1,
   "metadata": {},
   "outputs": [],
   "source": [
    "from pprint import pprint\n",
    "\n",
    "import pandas as pd\n",
    "import sklearn.datasets\n",
    "from sklearn.metrics import accuracy_score\n",
    "import autosklearn.classification\n",
    "pd.options.future.infer_string = True\n",
    "from sklearn.model_selection import train_test_split"
   ]
  },
  {
   "cell_type": "code",
   "execution_count": 4,
   "metadata": {},
   "outputs": [],
   "source": [
    "titanic = pd.read_csv(\"../data/titanic.csv\")\n",
    "X = titanic.drop('Survived', axis=1)\n",
    "y = titanic['Survived']\n",
    "X_train, X_test, y_train, y_test = train_test_split(X, y, test_size=0.2, random_state=42)"
   ]
  },
  {
   "cell_type": "code",
   "execution_count": 6,
   "metadata": {},
   "outputs": [
    {
     "name": "stderr",
     "output_type": "stream",
     "text": [
      "/home/saeed/Documents/Github/CatDB/.venv/lib/python3.10/site-packages/autosklearn/data/feature_validator.py:298: FutureWarning: is_sparse is deprecated and will be removed in a future version. Check `isinstance(dtype, pd.SparseDtype)` instead.\n",
      "  if is_sparse(X[column]):\n"
     ]
    },
    {
     "name": "stdout",
     "output_type": "stream",
     "text": [
      "[WARNING] [2023-11-09 10:50:46,770:Client-AutoMLSMBO(1)::titanic] Dataset titanic already in meta-data. Removing occurence.\n"
     ]
    },
    {
     "ename": "KeyboardInterrupt",
     "evalue": "",
     "output_type": "error",
     "traceback": [
      "\u001b[0;31m---------------------------------------------------------------------------\u001b[0m",
      "\u001b[0;31mKeyboardInterrupt\u001b[0m                         Traceback (most recent call last)",
      "\u001b[1;32m/home/saeed/Documents/Github/CatDB/benchmarks/Titanic/titanic_automl_sklearn.ipynb Cell 3\u001b[0m line \u001b[0;36m6\n\u001b[1;32m      <a href='vscode-notebook-cell:/home/saeed/Documents/Github/CatDB/benchmarks/Titanic/titanic_automl_sklearn.ipynb#W2sZmlsZQ%3D%3D?line=0'>1</a>\u001b[0m automl \u001b[39m=\u001b[39m autosklearn\u001b[39m.\u001b[39mclassification\u001b[39m.\u001b[39mAutoSklearnClassifier(\n\u001b[1;32m      <a href='vscode-notebook-cell:/home/saeed/Documents/Github/CatDB/benchmarks/Titanic/titanic_automl_sklearn.ipynb#W2sZmlsZQ%3D%3D?line=1'>2</a>\u001b[0m     time_left_for_this_task\u001b[39m=\u001b[39m\u001b[39m300\u001b[39m,\n\u001b[1;32m      <a href='vscode-notebook-cell:/home/saeed/Documents/Github/CatDB/benchmarks/Titanic/titanic_automl_sklearn.ipynb#W2sZmlsZQ%3D%3D?line=2'>3</a>\u001b[0m     per_run_time_limit\u001b[39m=\u001b[39m\u001b[39m30\u001b[39m,\n\u001b[1;32m      <a href='vscode-notebook-cell:/home/saeed/Documents/Github/CatDB/benchmarks/Titanic/titanic_automl_sklearn.ipynb#W2sZmlsZQ%3D%3D?line=3'>4</a>\u001b[0m     tmp_folder\u001b[39m=\u001b[39m\u001b[39m\"\u001b[39m\u001b[39m/tmp/autosklearn_classification_titanic_automl_sklearn\u001b[39m\u001b[39m\"\u001b[39m,\n\u001b[1;32m      <a href='vscode-notebook-cell:/home/saeed/Documents/Github/CatDB/benchmarks/Titanic/titanic_automl_sklearn.ipynb#W2sZmlsZQ%3D%3D?line=4'>5</a>\u001b[0m )\n\u001b[0;32m----> <a href='vscode-notebook-cell:/home/saeed/Documents/Github/CatDB/benchmarks/Titanic/titanic_automl_sklearn.ipynb#W2sZmlsZQ%3D%3D?line=5'>6</a>\u001b[0m automl\u001b[39m.\u001b[39;49mfit(X_train, y_train, dataset_name\u001b[39m=\u001b[39;49m\u001b[39m\"\u001b[39;49m\u001b[39mtitanic\u001b[39;49m\u001b[39m\"\u001b[39;49m)\n",
      "File \u001b[0;32m~/Documents/Github/CatDB/.venv/lib/python3.10/site-packages/autosklearn/estimators.py:1448\u001b[0m, in \u001b[0;36mAutoSklearnClassifier.fit\u001b[0;34m(self, X, y, X_test, y_test, feat_type, dataset_name)\u001b[0m\n\u001b[1;32m   1445\u001b[0m \u001b[39m# remember target type for using in predict_proba later.\u001b[39;00m\n\u001b[1;32m   1446\u001b[0m \u001b[39mself\u001b[39m\u001b[39m.\u001b[39mtarget_type \u001b[39m=\u001b[39m target_type\n\u001b[0;32m-> 1448\u001b[0m \u001b[39msuper\u001b[39;49m()\u001b[39m.\u001b[39;49mfit(\n\u001b[1;32m   1449\u001b[0m     X\u001b[39m=\u001b[39;49mX,\n\u001b[1;32m   1450\u001b[0m     y\u001b[39m=\u001b[39;49my,\n\u001b[1;32m   1451\u001b[0m     X_test\u001b[39m=\u001b[39;49mX_test,\n\u001b[1;32m   1452\u001b[0m     y_test\u001b[39m=\u001b[39;49my_test,\n\u001b[1;32m   1453\u001b[0m     feat_type\u001b[39m=\u001b[39;49mfeat_type,\n\u001b[1;32m   1454\u001b[0m     dataset_name\u001b[39m=\u001b[39;49mdataset_name,\n\u001b[1;32m   1455\u001b[0m )\n\u001b[1;32m   1457\u001b[0m \u001b[39m# After fit, a classifier is expected to define classes_\u001b[39;00m\n\u001b[1;32m   1458\u001b[0m \u001b[39m# A list of class labels known to the classifier, mapping each label\u001b[39;00m\n\u001b[1;32m   1459\u001b[0m \u001b[39m# to a numerical index used in the model representation our output.\u001b[39;00m\n\u001b[1;32m   1460\u001b[0m \u001b[39mself\u001b[39m\u001b[39m.\u001b[39mclasses_ \u001b[39m=\u001b[39m \u001b[39mself\u001b[39m\u001b[39m.\u001b[39mautoml_\u001b[39m.\u001b[39mInputValidator\u001b[39m.\u001b[39mtarget_validator\u001b[39m.\u001b[39mclasses_\n",
      "File \u001b[0;32m~/Documents/Github/CatDB/.venv/lib/python3.10/site-packages/autosklearn/estimators.py:540\u001b[0m, in \u001b[0;36mAutoSklearnEstimator.fit\u001b[0;34m(self, **kwargs)\u001b[0m\n\u001b[1;32m    538\u001b[0m \u001b[39mif\u001b[39;00m \u001b[39mself\u001b[39m\u001b[39m.\u001b[39mautoml_ \u001b[39mis\u001b[39;00m \u001b[39mNone\u001b[39;00m:\n\u001b[1;32m    539\u001b[0m     \u001b[39mself\u001b[39m\u001b[39m.\u001b[39mautoml_ \u001b[39m=\u001b[39m \u001b[39mself\u001b[39m\u001b[39m.\u001b[39mbuild_automl()\n\u001b[0;32m--> 540\u001b[0m \u001b[39mself\u001b[39;49m\u001b[39m.\u001b[39;49mautoml_\u001b[39m.\u001b[39;49mfit(load_models\u001b[39m=\u001b[39;49m\u001b[39mself\u001b[39;49m\u001b[39m.\u001b[39;49mload_models, \u001b[39m*\u001b[39;49m\u001b[39m*\u001b[39;49mkwargs)\n\u001b[1;32m    542\u001b[0m \u001b[39mreturn\u001b[39;00m \u001b[39mself\u001b[39m\n",
      "File \u001b[0;32m~/Documents/Github/CatDB/.venv/lib/python3.10/site-packages/autosklearn/automl.py:2304\u001b[0m, in \u001b[0;36mAutoMLClassifier.fit\u001b[0;34m(self, X, y, X_test, y_test, feat_type, dataset_name, only_return_configuration_space, load_models)\u001b[0m\n\u001b[1;32m   2293\u001b[0m \u001b[39mdef\u001b[39;00m \u001b[39mfit\u001b[39m(\n\u001b[1;32m   2294\u001b[0m     \u001b[39mself\u001b[39m,\n\u001b[1;32m   2295\u001b[0m     X: SUPPORTED_FEAT_TYPES,\n\u001b[0;32m   (...)\u001b[0m\n\u001b[1;32m   2302\u001b[0m     load_models: \u001b[39mbool\u001b[39m \u001b[39m=\u001b[39m \u001b[39mTrue\u001b[39;00m,\n\u001b[1;32m   2303\u001b[0m ) \u001b[39m-\u001b[39m\u001b[39m>\u001b[39m AutoMLClassifier:\n\u001b[0;32m-> 2304\u001b[0m     \u001b[39mreturn\u001b[39;00m \u001b[39msuper\u001b[39;49m()\u001b[39m.\u001b[39;49mfit(\n\u001b[1;32m   2305\u001b[0m         X,\n\u001b[1;32m   2306\u001b[0m         y,\n\u001b[1;32m   2307\u001b[0m         X_test\u001b[39m=\u001b[39;49mX_test,\n\u001b[1;32m   2308\u001b[0m         y_test\u001b[39m=\u001b[39;49my_test,\n\u001b[1;32m   2309\u001b[0m         feat_type\u001b[39m=\u001b[39;49mfeat_type,\n\u001b[1;32m   2310\u001b[0m         dataset_name\u001b[39m=\u001b[39;49mdataset_name,\n\u001b[1;32m   2311\u001b[0m         only_return_configuration_space\u001b[39m=\u001b[39;49monly_return_configuration_space,\n\u001b[1;32m   2312\u001b[0m         load_models\u001b[39m=\u001b[39;49mload_models,\n\u001b[1;32m   2313\u001b[0m         is_classification\u001b[39m=\u001b[39;49m\u001b[39mTrue\u001b[39;49;00m,\n\u001b[1;32m   2314\u001b[0m     )\n",
      "File \u001b[0;32m~/Documents/Github/CatDB/.venv/lib/python3.10/site-packages/autosklearn/automl.py:899\u001b[0m, in \u001b[0;36mAutoML.fit\u001b[0;34m(self, X, y, task, X_test, y_test, feat_type, dataset_name, only_return_configuration_space, load_models, is_classification)\u001b[0m\n\u001b[1;32m    863\u001b[0m resamp_args \u001b[39m=\u001b[39m \u001b[39mself\u001b[39m\u001b[39m.\u001b[39m_resampling_strategy_arguments\n\u001b[1;32m    864\u001b[0m _proc_smac \u001b[39m=\u001b[39m AutoMLSMBO(\n\u001b[1;32m    865\u001b[0m     config_space\u001b[39m=\u001b[39m\u001b[39mself\u001b[39m\u001b[39m.\u001b[39mconfiguration_space,\n\u001b[1;32m    866\u001b[0m     dataset_name\u001b[39m=\u001b[39m\u001b[39mself\u001b[39m\u001b[39m.\u001b[39m_dataset_name,\n\u001b[0;32m   (...)\u001b[0m\n\u001b[1;32m    892\u001b[0m     trials_callback\u001b[39m=\u001b[39m\u001b[39mself\u001b[39m\u001b[39m.\u001b[39m_get_trials_callback,\n\u001b[1;32m    893\u001b[0m )\n\u001b[1;32m    895\u001b[0m (\n\u001b[1;32m    896\u001b[0m     \u001b[39mself\u001b[39m\u001b[39m.\u001b[39mrunhistory_,\n\u001b[1;32m    897\u001b[0m     \u001b[39mself\u001b[39m\u001b[39m.\u001b[39mtrajectory_,\n\u001b[1;32m    898\u001b[0m     \u001b[39mself\u001b[39m\u001b[39m.\u001b[39m_budget_type,\n\u001b[0;32m--> 899\u001b[0m ) \u001b[39m=\u001b[39m _proc_smac\u001b[39m.\u001b[39;49mrun_smbo()\n\u001b[1;32m    901\u001b[0m trajectory_filename \u001b[39m=\u001b[39m os\u001b[39m.\u001b[39mpath\u001b[39m.\u001b[39mjoin(\n\u001b[1;32m    902\u001b[0m     \u001b[39mself\u001b[39m\u001b[39m.\u001b[39m_backend\u001b[39m.\u001b[39mget_smac_output_directory_for_run(\u001b[39mself\u001b[39m\u001b[39m.\u001b[39m_seed),\n\u001b[1;32m    903\u001b[0m     \u001b[39m\"\u001b[39m\u001b[39mtrajectory.json\u001b[39m\u001b[39m\"\u001b[39m,\n\u001b[1;32m    904\u001b[0m )\n\u001b[1;32m    905\u001b[0m saveable_trajectory \u001b[39m=\u001b[39m [\n\u001b[1;32m    906\u001b[0m     \u001b[39mlist\u001b[39m(entry[:\u001b[39m2\u001b[39m])\n\u001b[1;32m    907\u001b[0m     \u001b[39m+\u001b[39m [entry[\u001b[39m2\u001b[39m]\u001b[39m.\u001b[39mget_dictionary()]\n\u001b[1;32m    908\u001b[0m     \u001b[39m+\u001b[39m \u001b[39mlist\u001b[39m(entry[\u001b[39m3\u001b[39m:])\n\u001b[1;32m    909\u001b[0m     \u001b[39mfor\u001b[39;00m entry \u001b[39min\u001b[39;00m \u001b[39mself\u001b[39m\u001b[39m.\u001b[39mtrajectory_\n\u001b[1;32m    910\u001b[0m ]\n",
      "File \u001b[0;32m~/Documents/Github/CatDB/.venv/lib/python3.10/site-packages/autosklearn/smbo.py:552\u001b[0m, in \u001b[0;36mAutoMLSMBO.run_smbo\u001b[0;34m(self)\u001b[0m\n\u001b[1;32m    549\u001b[0m \u001b[39mif\u001b[39;00m \u001b[39mself\u001b[39m\u001b[39m.\u001b[39mtrials_callback \u001b[39mis\u001b[39;00m \u001b[39mnot\u001b[39;00m \u001b[39mNone\u001b[39;00m:\n\u001b[1;32m    550\u001b[0m     smac\u001b[39m.\u001b[39mregister_callback(\u001b[39mself\u001b[39m\u001b[39m.\u001b[39mtrials_callback)\n\u001b[0;32m--> 552\u001b[0m smac\u001b[39m.\u001b[39;49moptimize()\n\u001b[1;32m    554\u001b[0m \u001b[39mself\u001b[39m\u001b[39m.\u001b[39mrunhistory \u001b[39m=\u001b[39m smac\u001b[39m.\u001b[39msolver\u001b[39m.\u001b[39mrunhistory\n\u001b[1;32m    555\u001b[0m \u001b[39mself\u001b[39m\u001b[39m.\u001b[39mtrajectory \u001b[39m=\u001b[39m smac\u001b[39m.\u001b[39msolver\u001b[39m.\u001b[39mintensifier\u001b[39m.\u001b[39mtraj_logger\u001b[39m.\u001b[39mtrajectory\n",
      "File \u001b[0;32m~/Documents/Github/CatDB/.venv/lib/python3.10/site-packages/smac/facade/smac_ac_facade.py:720\u001b[0m, in \u001b[0;36mSMAC4AC.optimize\u001b[0;34m(self)\u001b[0m\n\u001b[1;32m    718\u001b[0m incumbent \u001b[39m=\u001b[39m \u001b[39mNone\u001b[39;00m\n\u001b[1;32m    719\u001b[0m \u001b[39mtry\u001b[39;00m:\n\u001b[0;32m--> 720\u001b[0m     incumbent \u001b[39m=\u001b[39m \u001b[39mself\u001b[39;49m\u001b[39m.\u001b[39;49msolver\u001b[39m.\u001b[39;49mrun()\n\u001b[1;32m    721\u001b[0m \u001b[39mfinally\u001b[39;00m:\n\u001b[1;32m    722\u001b[0m     \u001b[39mself\u001b[39m\u001b[39m.\u001b[39msolver\u001b[39m.\u001b[39msave()\n",
      "File \u001b[0;32m~/Documents/Github/CatDB/.venv/lib/python3.10/site-packages/smac/optimizer/smbo.py:229\u001b[0m, in \u001b[0;36mSMBO.run\u001b[0;34m(self)\u001b[0m\n\u001b[1;32m    225\u001b[0m start_time \u001b[39m=\u001b[39m time\u001b[39m.\u001b[39mtime()\n\u001b[1;32m    227\u001b[0m \u001b[39m# sample next configuration for intensification\u001b[39;00m\n\u001b[1;32m    228\u001b[0m \u001b[39m# Initial design runs are also included in the BO loop now.\u001b[39;00m\n\u001b[0;32m--> 229\u001b[0m intent, run_info \u001b[39m=\u001b[39m \u001b[39mself\u001b[39;49m\u001b[39m.\u001b[39;49mintensifier\u001b[39m.\u001b[39;49mget_next_run(\n\u001b[1;32m    230\u001b[0m     challengers\u001b[39m=\u001b[39;49m\u001b[39mself\u001b[39;49m\u001b[39m.\u001b[39;49minitial_design_configs,\n\u001b[1;32m    231\u001b[0m     incumbent\u001b[39m=\u001b[39;49m\u001b[39mself\u001b[39;49m\u001b[39m.\u001b[39;49mincumbent,\n\u001b[1;32m    232\u001b[0m     chooser\u001b[39m=\u001b[39;49m\u001b[39mself\u001b[39;49m\u001b[39m.\u001b[39;49mepm_chooser,\n\u001b[1;32m    233\u001b[0m     run_history\u001b[39m=\u001b[39;49m\u001b[39mself\u001b[39;49m\u001b[39m.\u001b[39;49mrunhistory,\n\u001b[1;32m    234\u001b[0m     repeat_configs\u001b[39m=\u001b[39;49m\u001b[39mself\u001b[39;49m\u001b[39m.\u001b[39;49mintensifier\u001b[39m.\u001b[39;49mrepeat_configs,\n\u001b[1;32m    235\u001b[0m     num_workers\u001b[39m=\u001b[39;49m\u001b[39mself\u001b[39;49m\u001b[39m.\u001b[39;49mtae_runner\u001b[39m.\u001b[39;49mnum_workers(),\n\u001b[1;32m    236\u001b[0m )\n\u001b[1;32m    238\u001b[0m \u001b[39m# remove config from initial design challengers to not repeat it again\u001b[39;00m\n\u001b[1;32m    239\u001b[0m \u001b[39mself\u001b[39m\u001b[39m.\u001b[39minitial_design_configs \u001b[39m=\u001b[39m [\n\u001b[1;32m    240\u001b[0m     c \u001b[39mfor\u001b[39;00m c \u001b[39min\u001b[39;00m \u001b[39mself\u001b[39m\u001b[39m.\u001b[39minitial_design_configs \u001b[39mif\u001b[39;00m c \u001b[39m!=\u001b[39m run_info\u001b[39m.\u001b[39mconfig\n\u001b[1;32m    241\u001b[0m ]\n",
      "File \u001b[0;32m~/Documents/Github/CatDB/.venv/lib/python3.10/site-packages/smac/intensification/simple_intensifier.py:169\u001b[0m, in \u001b[0;36mSimpleIntensifier.get_next_run\u001b[0;34m(self, challengers, incumbent, chooser, run_history, repeat_configs, num_workers)\u001b[0m\n\u001b[1;32m    139\u001b[0m \u001b[39m\u001b[39m\u001b[39m\"\"\"\u001b[39;00m\n\u001b[1;32m    140\u001b[0m \u001b[39mSelects which challenger to be used. As in a traditional BO loop,\u001b[39;00m\n\u001b[1;32m    141\u001b[0m \u001b[39mwe sample from the EPM, which is the next configuration based on\u001b[39;00m\n\u001b[0;32m   (...)\u001b[0m\n\u001b[1;32m    166\u001b[0m \u001b[39m    evaluate a configuration\u001b[39;00m\n\u001b[1;32m    167\u001b[0m \u001b[39m \"\"\"\u001b[39;00m\n\u001b[1;32m    168\u001b[0m \u001b[39m# We always sample from the configs provided or the EPM\u001b[39;00m\n\u001b[0;32m--> 169\u001b[0m challenger \u001b[39m=\u001b[39m \u001b[39mself\u001b[39;49m\u001b[39m.\u001b[39;49m_next_challenger(challengers\u001b[39m=\u001b[39;49mchallengers,\n\u001b[1;32m    170\u001b[0m                                    chooser\u001b[39m=\u001b[39;49mchooser,\n\u001b[1;32m    171\u001b[0m                                    run_history\u001b[39m=\u001b[39;49mrun_history,\n\u001b[1;32m    172\u001b[0m                                    repeat_configs\u001b[39m=\u001b[39;49mrepeat_configs)\n\u001b[1;32m    174\u001b[0m \u001b[39m# Run tracker is a dictionary whose values indicate if a run has been\u001b[39;00m\n\u001b[1;32m    175\u001b[0m \u001b[39m# processed. If a value in this dict is false, it means that a worker\u001b[39;00m\n\u001b[1;32m    176\u001b[0m \u001b[39m# should still be processing this configuration.\u001b[39;00m\n\u001b[1;32m    177\u001b[0m total_active_runs \u001b[39m=\u001b[39m \u001b[39mlen\u001b[39m([v \u001b[39mfor\u001b[39;00m v \u001b[39min\u001b[39;00m \u001b[39mself\u001b[39m\u001b[39m.\u001b[39mrun_tracker\u001b[39m.\u001b[39mvalues() \u001b[39mif\u001b[39;00m \u001b[39mnot\u001b[39;00m v])\n",
      "File \u001b[0;32m~/Documents/Github/CatDB/.venv/lib/python3.10/site-packages/smac/intensification/abstract_racer.py:260\u001b[0m, in \u001b[0;36mAbstractRacer._next_challenger\u001b[0;34m(self, challengers, chooser, run_history, repeat_configs)\u001b[0m\n\u001b[1;32m    258\u001b[0m \u001b[39m# select challenger from the generators\u001b[39;00m\n\u001b[1;32m    259\u001b[0m \u001b[39massert\u001b[39;00m chall_gen \u001b[39mis\u001b[39;00m \u001b[39mnot\u001b[39;00m \u001b[39mNone\u001b[39;00m\n\u001b[0;32m--> 260\u001b[0m \u001b[39mfor\u001b[39;00m challenger \u001b[39min\u001b[39;00m chall_gen:\n\u001b[1;32m    261\u001b[0m     \u001b[39m# repetitions allowed\u001b[39;00m\n\u001b[1;32m    262\u001b[0m     \u001b[39mif\u001b[39;00m repeat_configs:\n\u001b[1;32m    263\u001b[0m         \u001b[39mreturn\u001b[39;00m challenger\n",
      "File \u001b[0;32m~/Documents/Github/CatDB/.venv/lib/python3.10/site-packages/smac/optimizer/ei_optimization.py:723\u001b[0m, in \u001b[0;36mChallengerList.__next__\u001b[0;34m(self)\u001b[0m\n\u001b[1;32m    721\u001b[0m \u001b[39melse\u001b[39;00m:\n\u001b[1;32m    722\u001b[0m     \u001b[39mif\u001b[39;00m \u001b[39mself\u001b[39m\u001b[39m.\u001b[39mchallengers \u001b[39mis\u001b[39;00m \u001b[39mNone\u001b[39;00m:\n\u001b[0;32m--> 723\u001b[0m         \u001b[39mself\u001b[39m\u001b[39m.\u001b[39mchallengers \u001b[39m=\u001b[39m \u001b[39mself\u001b[39;49m\u001b[39m.\u001b[39;49mchallengers_callback()\n\u001b[1;32m    724\u001b[0m     config \u001b[39m=\u001b[39m \u001b[39mself\u001b[39m\u001b[39m.\u001b[39mchallengers[\u001b[39mself\u001b[39m\u001b[39m.\u001b[39m_index]\n\u001b[1;32m    725\u001b[0m     \u001b[39mself\u001b[39m\u001b[39m.\u001b[39m_index \u001b[39m+\u001b[39m\u001b[39m=\u001b[39m \u001b[39m1\u001b[39m\n",
      "File \u001b[0;32m~/Documents/Github/CatDB/.venv/lib/python3.10/site-packages/smac/optimizer/ei_optimization.py:92\u001b[0m, in \u001b[0;36mAcquisitionFunctionMaximizer.maximize.<locals>.next_configs_by_acq_value\u001b[0;34m()\u001b[0m\n\u001b[1;32m     91\u001b[0m \u001b[39mdef\u001b[39;00m \u001b[39mnext_configs_by_acq_value\u001b[39m() \u001b[39m-\u001b[39m\u001b[39m>\u001b[39m List[Configuration]:\n\u001b[0;32m---> 92\u001b[0m     \u001b[39mreturn\u001b[39;00m [t[\u001b[39m1\u001b[39m] \u001b[39mfor\u001b[39;00m t \u001b[39min\u001b[39;00m \u001b[39mself\u001b[39;49m\u001b[39m.\u001b[39;49m_maximize(runhistory, stats, num_points)]\n",
      "File \u001b[0;32m~/Documents/Github/CatDB/.venv/lib/python3.10/site-packages/smac/optimizer/ei_optimization.py:656\u001b[0m, in \u001b[0;36mLocalAndSortedRandomSearch._maximize\u001b[0;34m(self, runhistory, stats, num_points)\u001b[0m\n\u001b[1;32m    641\u001b[0m \u001b[39mdef\u001b[39;00m \u001b[39m_maximize\u001b[39m(\n\u001b[1;32m    642\u001b[0m     \u001b[39mself\u001b[39m,\n\u001b[1;32m    643\u001b[0m     runhistory: RunHistory,\n\u001b[0;32m   (...)\u001b[0m\n\u001b[1;32m    647\u001b[0m \n\u001b[1;32m    648\u001b[0m     \u001b[39m# Get configurations sorted by EI\u001b[39;00m\n\u001b[1;32m    649\u001b[0m     next_configs_by_random_search_sorted \u001b[39m=\u001b[39m \u001b[39mself\u001b[39m\u001b[39m.\u001b[39mrandom_search\u001b[39m.\u001b[39m_maximize(\n\u001b[1;32m    650\u001b[0m         runhistory,\n\u001b[1;32m    651\u001b[0m         stats,\n\u001b[1;32m    652\u001b[0m         num_points,\n\u001b[1;32m    653\u001b[0m         _sorted\u001b[39m=\u001b[39m\u001b[39mTrue\u001b[39;00m,\n\u001b[1;32m    654\u001b[0m     )\n\u001b[0;32m--> 656\u001b[0m     next_configs_by_local_search \u001b[39m=\u001b[39m \u001b[39mself\u001b[39;49m\u001b[39m.\u001b[39;49mlocal_search\u001b[39m.\u001b[39;49m_maximize(\n\u001b[1;32m    657\u001b[0m         runhistory, stats, \u001b[39mself\u001b[39;49m\u001b[39m.\u001b[39;49mn_sls_iterations, additional_start_points\u001b[39m=\u001b[39;49mnext_configs_by_random_search_sorted,\n\u001b[1;32m    658\u001b[0m     )\n\u001b[1;32m    660\u001b[0m     \u001b[39m# Having the configurations from random search, sorted by their\u001b[39;00m\n\u001b[1;32m    661\u001b[0m     \u001b[39m# acquisition function value is important for the first few iterations\u001b[39;00m\n\u001b[1;32m    662\u001b[0m     \u001b[39m# of SMAC. As long as the random forest predicts constant value, we\u001b[39;00m\n\u001b[1;32m    663\u001b[0m     \u001b[39m# want to use only random configurations. Having them at the begging of\u001b[39;00m\n\u001b[1;32m    664\u001b[0m     \u001b[39m# the list ensures this (even after adding the configurations by local\u001b[39;00m\n\u001b[1;32m    665\u001b[0m     \u001b[39m# search, and then sorting them)\u001b[39;00m\n\u001b[1;32m    666\u001b[0m     next_configs_by_acq_value \u001b[39m=\u001b[39m (\n\u001b[1;32m    667\u001b[0m         next_configs_by_random_search_sorted \u001b[39m+\u001b[39m next_configs_by_local_search\n\u001b[1;32m    668\u001b[0m     )\n",
      "File \u001b[0;32m~/Documents/Github/CatDB/.venv/lib/python3.10/site-packages/smac/optimizer/ei_optimization.py:233\u001b[0m, in \u001b[0;36mLocalSearch._maximize\u001b[0;34m(self, runhistory, stats, num_points, additional_start_points)\u001b[0m\n\u001b[1;32m    212\u001b[0m \u001b[39m\u001b[39m\u001b[39m\"\"\"Starts a local search from the given startpoint and quits\u001b[39;00m\n\u001b[1;32m    213\u001b[0m \u001b[39mif either the max number of steps is reached or no neighbor\u001b[39;00m\n\u001b[1;32m    214\u001b[0m \u001b[39mwith an higher improvement was found.\u001b[39;00m\n\u001b[0;32m   (...)\u001b[0m\n\u001b[1;32m    229\u001b[0m \u001b[39mList\u001b[39;00m\n\u001b[1;32m    230\u001b[0m \u001b[39m\"\"\"\u001b[39;00m\n\u001b[1;32m    232\u001b[0m init_points \u001b[39m=\u001b[39m \u001b[39mself\u001b[39m\u001b[39m.\u001b[39m_get_initial_points(num_points, runhistory, additional_start_points)\n\u001b[0;32m--> 233\u001b[0m configs_acq \u001b[39m=\u001b[39m \u001b[39mself\u001b[39;49m\u001b[39m.\u001b[39;49m_do_search(init_points)\n\u001b[1;32m    235\u001b[0m \u001b[39m# shuffle for random tie-break\u001b[39;00m\n\u001b[1;32m    236\u001b[0m \u001b[39mself\u001b[39m\u001b[39m.\u001b[39mrng\u001b[39m.\u001b[39mshuffle(configs_acq)\n",
      "File \u001b[0;32m~/Documents/Github/CatDB/.venv/lib/python3.10/site-packages/smac/optimizer/ei_optimization.py:367\u001b[0m, in \u001b[0;36mLocalSearch._do_search\u001b[0;34m(self, start_points)\u001b[0m\n\u001b[1;32m    365\u001b[0m \u001b[39mfor\u001b[39;00m j \u001b[39min\u001b[39;00m \u001b[39mrange\u001b[39m(obtain_n[i]):\n\u001b[1;32m    366\u001b[0m     \u001b[39mtry\u001b[39;00m:\n\u001b[0;32m--> 367\u001b[0m         n \u001b[39m=\u001b[39m \u001b[39mnext\u001b[39;49m(neighborhood_iterator)\n\u001b[1;32m    368\u001b[0m         neighbors_generated[i] \u001b[39m+\u001b[39m\u001b[39m=\u001b[39m \u001b[39m1\u001b[39m\n\u001b[1;32m    369\u001b[0m         neighbors_for_i\u001b[39m.\u001b[39mappend(n)\n",
      "File \u001b[0;32mConfigSpace/util.pyx:130\u001b[0m, in \u001b[0;36mget_one_exchange_neighbourhood\u001b[0;34m()\u001b[0m\n",
      "File \u001b[0;32mnumpy/random/mtrand.pyx:184\u001b[0m, in \u001b[0;36mnumpy.random.mtrand.RandomState.__init__\u001b[0;34m()\u001b[0m\n",
      "File \u001b[0;32m_mt19937.pyx:131\u001b[0m, in \u001b[0;36mnumpy.random._mt19937.MT19937.__init__\u001b[0;34m()\u001b[0m\n",
      "File \u001b[0;32mbit_generator.pyx:535\u001b[0m, in \u001b[0;36mnumpy.random.bit_generator.BitGenerator.__init__\u001b[0;34m()\u001b[0m\n",
      "File \u001b[0;32mbit_generator.pyx:315\u001b[0m, in \u001b[0;36mnumpy.random.bit_generator.SeedSequence.__init__\u001b[0;34m()\u001b[0m\n",
      "File \u001b[0;32mbit_generator.pyx:389\u001b[0m, in \u001b[0;36mnumpy.random.bit_generator.SeedSequence.get_assembled_entropy\u001b[0;34m()\u001b[0m\n",
      "File \u001b[0;32mbit_generator.pyx:140\u001b[0m, in \u001b[0;36mnumpy.random.bit_generator._coerce_to_uint32_array\u001b[0;34m()\u001b[0m\n",
      "File \u001b[0;32mbit_generator.pyx:79\u001b[0m, in \u001b[0;36mnumpy.random.bit_generator._int_to_uint32_array\u001b[0;34m()\u001b[0m\n",
      "\u001b[0;31mKeyboardInterrupt\u001b[0m: "
     ]
    }
   ],
   "source": [
    "automl = autosklearn.classification.AutoSklearnClassifier(\n",
    "    time_left_for_this_task=300,\n",
    "    per_run_time_limit=30,\n",
    "    tmp_folder=\"/tmp/autosklearn_classification_titanic_automl_sklearn\",\n",
    ")\n",
    "automl.fit(X_train, y_train, dataset_name=\"titanic\")"
   ]
  },
  {
   "cell_type": "code",
   "execution_count": 5,
   "metadata": {},
   "outputs": [
    {
     "name": "stdout",
     "output_type": "stream",
     "text": [
      "          rank  ensemble_weight           type      cost  duration\n",
      "model_id                                                          \n",
      "5            1             0.52  random_forest  0.153191  3.597780\n",
      "15           2             0.12       adaboost  0.182979  2.348463\n",
      "2            3             0.08  random_forest  0.187234  2.968571\n",
      "11           4             0.04            mlp  0.187234  3.237799\n",
      "16           5             0.14  random_forest  0.191489  2.153949\n",
      "12           6             0.04  random_forest  0.204255  9.072449\n",
      "19           7             0.02            mlp  0.225532  3.191056\n",
      "20           8             0.04            mlp  0.302128  2.668805\n"
     ]
    }
   ],
   "source": [
    "print(automl.leaderboard())"
   ]
  },
  {
   "cell_type": "code",
   "execution_count": 6,
   "metadata": {},
   "outputs": [
    {
     "name": "stdout",
     "output_type": "stream",
     "text": [
      "{   2: {   'balancing': Balancing(random_state=1),\n",
      "           'classifier': <autosklearn.pipeline.components.classification.ClassifierChoice object at 0x7f35faa3b4c0>,\n",
      "           'cost': 0.18723404255319154,\n",
      "           'data_preprocessor': <autosklearn.pipeline.components.data_preprocessing.DataPreprocessorChoice object at 0x7f3643eb30a0>,\n",
      "           'ensemble_weight': 0.08,\n",
      "           'feature_preprocessor': <autosklearn.pipeline.components.feature_preprocessing.FeaturePreprocessorChoice object at 0x7f35faa3b010>,\n",
      "           'model_id': 2,\n",
      "           'rank': 1,\n",
      "           'sklearn_classifier': RandomForestClassifier(max_features=10, n_estimators=512, n_jobs=1,\n",
      "                       random_state=1, warm_start=True)},\n",
      "    5: {   'balancing': Balancing(random_state=1, strategy='weighting'),\n",
      "           'classifier': <autosklearn.pipeline.components.classification.ClassifierChoice object at 0x7f3643f74a60>,\n",
      "           'cost': 0.15319148936170213,\n",
      "           'data_preprocessor': <autosklearn.pipeline.components.data_preprocessing.DataPreprocessorChoice object at 0x7f3643e8fdc0>,\n",
      "           'ensemble_weight': 0.52,\n",
      "           'feature_preprocessor': <autosklearn.pipeline.components.feature_preprocessing.FeaturePreprocessorChoice object at 0x7f3643f76440>,\n",
      "           'model_id': 5,\n",
      "           'rank': 2,\n",
      "           'sklearn_classifier': RandomForestClassifier(bootstrap=False, criterion='entropy', max_features=7,\n",
      "                       min_samples_split=4, n_estimators=512, n_jobs=1,\n",
      "                       random_state=1, warm_start=True)},\n",
      "    11: {   'balancing': Balancing(random_state=1, strategy='weighting'),\n",
      "            'classifier': <autosklearn.pipeline.components.classification.ClassifierChoice object at 0x7f3643e9e950>,\n",
      "            'cost': 0.18723404255319154,\n",
      "            'data_preprocessor': <autosklearn.pipeline.components.data_preprocessing.DataPreprocessorChoice object at 0x7f36436547c0>,\n",
      "            'ensemble_weight': 0.04,\n",
      "            'feature_preprocessor': <autosklearn.pipeline.components.feature_preprocessing.FeaturePreprocessorChoice object at 0x7f3643e9e500>,\n",
      "            'model_id': 11,\n",
      "            'rank': 3,\n",
      "            'sklearn_classifier': MLPClassifier(alpha=4.2841884333778574e-06, beta_1=0.999, beta_2=0.9,\n",
      "              hidden_layer_sizes=(263, 263, 263),\n",
      "              learning_rate_init=0.0011804284312897009, max_iter=64,\n",
      "              n_iter_no_change=32, random_state=1, validation_fraction=0.0,\n",
      "              verbose=0, warm_start=True)},\n",
      "    12: {   'balancing': Balancing(random_state=1),\n",
      "            'classifier': <autosklearn.pipeline.components.classification.ClassifierChoice object at 0x7f36436d4e50>,\n",
      "            'cost': 0.20425531914893613,\n",
      "            'data_preprocessor': <autosklearn.pipeline.components.data_preprocessing.DataPreprocessorChoice object at 0x7f3643655f60>,\n",
      "            'ensemble_weight': 0.04,\n",
      "            'feature_preprocessor': <autosklearn.pipeline.components.feature_preprocessing.FeaturePreprocessorChoice object at 0x7f36436d5fc0>,\n",
      "            'model_id': 12,\n",
      "            'rank': 4,\n",
      "            'sklearn_classifier': RandomForestClassifier(criterion='entropy', max_features=75, min_samples_leaf=7,\n",
      "                       n_estimators=512, n_jobs=1, random_state=1,\n",
      "                       warm_start=True)},\n",
      "    15: {   'balancing': Balancing(random_state=1),\n",
      "            'classifier': <autosklearn.pipeline.components.classification.ClassifierChoice object at 0x7f364338c580>,\n",
      "            'cost': 0.18297872340425536,\n",
      "            'data_preprocessor': <autosklearn.pipeline.components.data_preprocessing.DataPreprocessorChoice object at 0x7f3643657880>,\n",
      "            'ensemble_weight': 0.12,\n",
      "            'feature_preprocessor': <autosklearn.pipeline.components.feature_preprocessing.FeaturePreprocessorChoice object at 0x7f36436d5ab0>,\n",
      "            'model_id': 15,\n",
      "            'rank': 5,\n",
      "            'sklearn_classifier': AdaBoostClassifier(base_estimator=DecisionTreeClassifier(max_depth=3),\n",
      "                   learning_rate=0.046269426995092074, n_estimators=406,\n",
      "                   random_state=1)},\n",
      "    16: {   'balancing': Balancing(random_state=1, strategy='weighting'),\n",
      "            'classifier': <autosklearn.pipeline.components.classification.ClassifierChoice object at 0x7f364319f460>,\n",
      "            'cost': 0.19148936170212771,\n",
      "            'data_preprocessor': <autosklearn.pipeline.components.data_preprocessing.DataPreprocessorChoice object at 0x7f3643e68640>,\n",
      "            'ensemble_weight': 0.14,\n",
      "            'feature_preprocessor': <autosklearn.pipeline.components.feature_preprocessing.FeaturePreprocessorChoice object at 0x7f3643c9e7d0>,\n",
      "            'model_id': 16,\n",
      "            'rank': 6,\n",
      "            'sklearn_classifier': RandomForestClassifier(criterion='entropy', max_features=2, n_estimators=512,\n",
      "                       n_jobs=1, random_state=1, warm_start=True)},\n",
      "    19: {   'balancing': Balancing(random_state=1, strategy='weighting'),\n",
      "            'classifier': <autosklearn.pipeline.components.classification.ClassifierChoice object at 0x7f364319ef20>,\n",
      "            'cost': 0.225531914893617,\n",
      "            'data_preprocessor': <autosklearn.pipeline.components.data_preprocessing.DataPreprocessorChoice object at 0x7f3643e7dc60>,\n",
      "            'ensemble_weight': 0.02,\n",
      "            'feature_preprocessor': <autosklearn.pipeline.components.feature_preprocessing.FeaturePreprocessorChoice object at 0x7f364319eb60>,\n",
      "            'model_id': 19,\n",
      "            'rank': 7,\n",
      "            'sklearn_classifier': MLPClassifier(alpha=0.02847755502162456, beta_1=0.999, beta_2=0.9,\n",
      "              hidden_layer_sizes=(123, 123),\n",
      "              learning_rate_init=0.000421568792103947, max_iter=256,\n",
      "              n_iter_no_change=32, random_state=1, validation_fraction=0.0,\n",
      "              verbose=0, warm_start=True)},\n",
      "    20: {   'balancing': Balancing(random_state=1, strategy='weighting'),\n",
      "            'classifier': <autosklearn.pipeline.components.classification.ClassifierChoice object at 0x7f3640f47b80>,\n",
      "            'cost': 0.3021276595744681,\n",
      "            'data_preprocessor': <autosklearn.pipeline.components.data_preprocessing.DataPreprocessorChoice object at 0x7f36436d5390>,\n",
      "            'ensemble_weight': 0.04,\n",
      "            'feature_preprocessor': <autosklearn.pipeline.components.feature_preprocessing.FeaturePreprocessorChoice object at 0x7f3640f477c0>,\n",
      "            'model_id': 20,\n",
      "            'rank': 8,\n",
      "            'sklearn_classifier': MLPClassifier(alpha=0.0005005168300134541, beta_1=0.999, beta_2=0.9,\n",
      "              hidden_layer_sizes=(262, 262),\n",
      "              learning_rate_init=0.0012631168744483667, max_iter=128,\n",
      "              n_iter_no_change=32, random_state=1, validation_fraction=0.0,\n",
      "              verbose=0, warm_start=True)}}\n"
     ]
    }
   ],
   "source": [
    "pprint(automl.show_models(), indent=4)"
   ]
  },
  {
   "cell_type": "code",
   "execution_count": 7,
   "metadata": {},
   "outputs": [
    {
     "name": "stdout",
     "output_type": "stream",
     "text": [
      "Accuracy score: 0.8100558659217877\n"
     ]
    }
   ],
   "source": [
    "predictions = automl.predict(X_test)\n",
    "print(\"Accuracy score:\", sklearn.metrics.accuracy_score(y_test, predictions))"
   ]
  }
 ],
 "metadata": {
  "kernelspec": {
   "display_name": ".venv",
   "language": "python",
   "name": "python3"
  },
  "language_info": {
   "codemirror_mode": {
    "name": "ipython",
    "version": 3
   },
   "file_extension": ".py",
   "mimetype": "text/x-python",
   "name": "python",
   "nbconvert_exporter": "python",
   "pygments_lexer": "ipython3",
   "version": "3.10.12"
  }
 },
 "nbformat": 4,
 "nbformat_minor": 2
}
