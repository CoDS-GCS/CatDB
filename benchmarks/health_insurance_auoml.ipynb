{
 "cells": [
  {
   "cell_type": "code",
   "execution_count": 3,
   "metadata": {},
   "outputs": [],
   "source": [
    "from pprint import pprint\n",
    "import pandas as pd\n",
    "import sklearn.datasets\n",
    "from sklearn.metrics import accuracy_score\n",
    "import autosklearn.regression\n",
    "pd.options.future.infer_string = True\n",
    "from sklearn.model_selection import train_test_split"
   ]
  },
  {
   "cell_type": "code",
   "execution_count": 4,
   "metadata": {},
   "outputs": [
    {
     "name": "stderr",
     "output_type": "stream",
     "text": [
      "/home/saeed/Documents/Github/CatDB/.venv/lib/python3.10/site-packages/autosklearn/data/feature_validator.py:298: FutureWarning: is_sparse is deprecated and will be removed in a future version. Check `isinstance(dtype, pd.SparseDtype)` instead.\n",
      "  if is_sparse(X[column]):\n"
     ]
    },
    {
     "name": "stdout",
     "output_type": "stream",
     "text": [
      "[WARNING] [2023-11-06 13:13:51,034:Client-EnsembleBuilder] No runs were available to build an ensemble from\n",
      "          rank  ensemble_weight           type      cost  duration\n",
      "model_id                                                          \n",
      "42           1             0.56  liblinear_svr  0.275594  0.634629\n",
      "34           2             0.44  liblinear_svr  0.297582  0.842026\n"
     ]
    },
    {
     "ename": "NameError",
     "evalue": "name 'pprint' is not defined",
     "output_type": "error",
     "traceback": [
      "\u001b[0;31m---------------------------------------------------------------------------\u001b[0m",
      "\u001b[0;31mNameError\u001b[0m                                 Traceback (most recent call last)",
      "\u001b[1;32m/home/saeed/Documents/Github/CatDB/benchmarks/health_insurance_auoml.ipynb Cell 2\u001b[0m line \u001b[0;36m1\n\u001b[1;32m     <a href='vscode-notebook-cell:/home/saeed/Documents/Github/CatDB/benchmarks/health_insurance_auoml.ipynb#W2sZmlsZQ%3D%3D?line=11'>12</a>\u001b[0m automl\u001b[39m.\u001b[39mfit(X_train, y_train, dataset_name\u001b[39m=\u001b[39m\u001b[39m\"\u001b[39m\u001b[39mdata\u001b[39m\u001b[39m\"\u001b[39m)\n\u001b[1;32m     <a href='vscode-notebook-cell:/home/saeed/Documents/Github/CatDB/benchmarks/health_insurance_auoml.ipynb#W2sZmlsZQ%3D%3D?line=13'>14</a>\u001b[0m \u001b[39mprint\u001b[39m(automl\u001b[39m.\u001b[39mleaderboard())\n\u001b[0;32m---> <a href='vscode-notebook-cell:/home/saeed/Documents/Github/CatDB/benchmarks/health_insurance_auoml.ipynb#W2sZmlsZQ%3D%3D?line=14'>15</a>\u001b[0m pprint(automl\u001b[39m.\u001b[39mshow_models(), indent\u001b[39m=\u001b[39m\u001b[39m4\u001b[39m)\n\u001b[1;32m     <a href='vscode-notebook-cell:/home/saeed/Documents/Github/CatDB/benchmarks/health_insurance_auoml.ipynb#W2sZmlsZQ%3D%3D?line=16'>17</a>\u001b[0m train_predictions \u001b[39m=\u001b[39m automl\u001b[39m.\u001b[39mpredict(X_train)\n\u001b[1;32m     <a href='vscode-notebook-cell:/home/saeed/Documents/Github/CatDB/benchmarks/health_insurance_auoml.ipynb#W2sZmlsZQ%3D%3D?line=17'>18</a>\u001b[0m \u001b[39mprint\u001b[39m(\u001b[39m\"\u001b[39m\u001b[39mTrain R2 score:\u001b[39m\u001b[39m\"\u001b[39m, sklearn\u001b[39m.\u001b[39mmetrics\u001b[39m.\u001b[39mr2_score(y_train, train_predictions))\n",
      "\u001b[0;31mNameError\u001b[0m: name 'pprint' is not defined"
     ]
    }
   ],
   "source": [
    "\n",
    "# Load the dataset (replace 'insurance_data.csv' with your data file)\n",
    "data = pd.read_csv('data/health_insurance.csv')\n",
    "X = data.drop('charges', axis=1)\n",
    "y = data['charges']\n",
    "X_train, X_test, y_train, y_test = train_test_split(X, y, test_size=0.2, random_state=42)\n",
    "\n",
    "automl = autosklearn.regression.AutoSklearnRegressor(\n",
    "    time_left_for_this_task=120,\n",
    "    per_run_time_limit=30,\n",
    "    tmp_folder=\"/tmp/autosklearn_regression_titanic_tmp1\",\n",
    ")\n",
    "automl.fit(X_train, y_train, dataset_name=\"data\")\n",
    "\n",
    "print(automl.leaderboard())\n",
    "pprint(automl.show_models(), indent=4)\n",
    "\n",
    "train_predictions = automl.predict(X_train)\n",
    "print(\"Train R2 score:\", sklearn.metrics.r2_score(y_train, train_predictions))\n",
    "test_predictions = automl.predict(X_test)\n",
    "print(\"Test R2 score:\", sklearn.metrics.r2_score(y_test, test_predictions))\n"
   ]
  }
 ],
 "metadata": {
  "kernelspec": {
   "display_name": ".venv",
   "language": "python",
   "name": "python3"
  },
  "language_info": {
   "codemirror_mode": {
    "name": "ipython",
    "version": 3
   },
   "file_extension": ".py",
   "mimetype": "text/x-python",
   "name": "python",
   "nbconvert_exporter": "python",
   "pygments_lexer": "ipython3",
   "version": "3.10.12"
  }
 },
 "nbformat": 4,
 "nbformat_minor": 2
}
