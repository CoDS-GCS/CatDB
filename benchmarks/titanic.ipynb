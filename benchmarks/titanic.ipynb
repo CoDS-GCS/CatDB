{
 "cells": [
  {
   "cell_type": "code",
   "execution_count": 2,
   "metadata": {},
   "outputs": [
    {
     "name": "stdout",
     "output_type": "stream",
     "text": [
      "Accuracy: 0.98\n",
      "              precision    recall  f1-score   support\n",
      "\n",
      "           0       0.97      0.99      0.98       549\n",
      "           1       0.99      0.96      0.97       342\n",
      "\n",
      "    accuracy                           0.98       891\n",
      "   macro avg       0.98      0.98      0.98       891\n",
      "weighted avg       0.98      0.98      0.98       891\n",
      "\n"
     ]
    }
   ],
   "source": [
    "import pandas as pd\n",
    "import numpy as np\n",
    "import matplotlib.pyplot as plt\n",
    "import seaborn as sns\n",
    "from sklearn.model_selection import train_test_split\n",
    "from sklearn.preprocessing import StandardScaler\n",
    "from sklearn.ensemble import RandomForestClassifier\n",
    "from sklearn.metrics import accuracy_score, classification_report\n",
    "\n",
    "# Load the Titanic dataset\n",
    "titanic = pd.read_csv(\"data/titanic/train.csv\")\n",
    "titanic_test = pd.read_csv(\"data/titanic/train.csv\")\n",
    "\n",
    "# Exploratory Data Analysis (EDA)\n",
    "# print(titanic.head())\n",
    "# print(titanic.info())\n",
    "# print(titanic.describe())\n",
    "\n",
    "# Data Cleaning and Feature Engineering\n",
    "titanic.drop(['PassengerId', 'Name', 'Ticket', 'Cabin'], axis=1, inplace=True)\n",
    "titanic['Age'].fillna(titanic['Age'].median(), inplace=True)\n",
    "titanic['Embarked'].fillna(titanic['Embarked'].mode()[0], inplace=True)\n",
    "titanic['FamilySize'] = titanic['SibSp'] + titanic['Parch']\n",
    "\n",
    "titanic_test.drop(['PassengerId', 'Name', 'Ticket', 'Cabin'], axis=1, inplace=True)\n",
    "titanic_test['Age'].fillna(titanic_test['Age'].median(), inplace=True)\n",
    "titanic_test['Embarked'].fillna(titanic_test['Embarked'].mode()[0], inplace=True)\n",
    "titanic_test['FamilySize'] = titanic_test['SibSp'] + titanic_test['Parch']\n",
    "\n",
    "# One-hot encoding for categorical variables\n",
    "titanic = pd.get_dummies(titanic, columns=['Sex', 'Embarked', 'Pclass'], drop_first=True)\n",
    "titanic_test = pd.get_dummies(titanic_test, columns=['Sex', 'Embarked', 'Pclass'], drop_first=True)\n",
    "\n",
    "\n",
    "# Split the data into training and testing sets\n",
    "X_train = titanic.drop('Survived', axis=1)\n",
    "y_train = titanic['Survived']\n",
    "\n",
    "X_test = titanic_test.drop('Survived', axis=1)\n",
    "y_test = titanic_test['Survived']\n",
    "\n",
    "# X_train, X_test, y_train, y_test = train_test_split(X, y, test_size=0.2, random_state=42)\n",
    "\n",
    "# Data Scaling\n",
    "scaler = StandardScaler()\n",
    "X_train = scaler.fit_transform(X_train)\n",
    "X_test = scaler.transform(X_test)\n",
    "\n",
    "# Model Building\n",
    "model = RandomForestClassifier(n_estimators=100, random_state=42)\n",
    "model.fit(X_train, y_train)\n",
    "\n",
    "# Predictions\n",
    "y_pred = model.predict(X_test)\n",
    "\n",
    "# Model Evaluation\n",
    "accuracy = accuracy_score(y_test, y_pred)\n",
    "print(f\"Accuracy: {accuracy:.2f}\")\n",
    "print(classification_report(y_test, y_pred))\n",
    "\n",
    "# Feature Importances\n",
    "# feature_importances = pd.Series(model.feature_importances_, index=titanic.drop('Survived', axis=1).columns)\n",
    "# feature_importances.nlargest(10).plot(kind='barh')\n",
    "# plt.show()\n"
   ]
  }
 ],
 "metadata": {
  "kernelspec": {
   "display_name": ".venv",
   "language": "python",
   "name": "python3"
  },
  "language_info": {
   "codemirror_mode": {
    "name": "ipython",
    "version": 3
   },
   "file_extension": ".py",
   "mimetype": "text/x-python",
   "name": "python",
   "nbconvert_exporter": "python",
   "pygments_lexer": "ipython3",
   "version": "3.10.12"
  }
 },
 "nbformat": 4,
 "nbformat_minor": 2
}
