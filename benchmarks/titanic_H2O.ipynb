{
  "cells": [
    {
      "cell_type": "code",
      "execution_count": null,
      "metadata": {
        "colab": {
          "base_uri": "https://localhost:8080/",
          "height": 340
        },
        "id": "eHZ8z6iGzZew",
        "outputId": "3d5f2fff-3dc9-44ee-d78a-87b657d293c9"
      },
      "outputs": [],
      "source": [
        "!pip install h2o"
      ]
    },
    {
      "cell_type": "code",
      "execution_count": 12,
      "metadata": {
        "id": "m0g8oq01zcgM"
      },
      "outputs": [],
      "source": [
        "import h2o\n",
        "import pandas as pd\n",
        "from h2o.automl import H2OAutoML"
      ]
    },
    {
      "cell_type": "code",
      "execution_count": 11,
      "metadata": {
        "colab": {
          "base_uri": "https://localhost:8080/",
          "height": 562
        },
        "id": "z2WAtRd4zixl",
        "outputId": "838e4362-b62d-4457-d880-de3f8ee35999"
      },
      "outputs": [
        {
          "name": "stdout",
          "output_type": "stream",
          "text": [
            "Checking whether there is an H2O instance running at http://localhost:54321. connected.\n"
          ]
        },
        {
          "data": {
            "text/html": [
              "\n",
              "<style>\n",
              "\n",
              "#h2o-table-2.h2o-container {\n",
              "  overflow-x: auto;\n",
              "}\n",
              "#h2o-table-2 .h2o-table {\n",
              "  /* width: 100%; */\n",
              "  margin-top: 1em;\n",
              "  margin-bottom: 1em;\n",
              "}\n",
              "#h2o-table-2 .h2o-table caption {\n",
              "  white-space: nowrap;\n",
              "  caption-side: top;\n",
              "  text-align: left;\n",
              "  /* margin-left: 1em; */\n",
              "  margin: 0;\n",
              "  font-size: larger;\n",
              "}\n",
              "#h2o-table-2 .h2o-table thead {\n",
              "  white-space: nowrap; \n",
              "  position: sticky;\n",
              "  top: 0;\n",
              "  box-shadow: 0 -1px inset;\n",
              "}\n",
              "#h2o-table-2 .h2o-table tbody {\n",
              "  overflow: auto;\n",
              "}\n",
              "#h2o-table-2 .h2o-table th,\n",
              "#h2o-table-2 .h2o-table td {\n",
              "  text-align: right;\n",
              "  /* border: 1px solid; */\n",
              "}\n",
              "#h2o-table-2 .h2o-table tr:nth-child(even) {\n",
              "  /* background: #F5F5F5 */\n",
              "}\n",
              "\n",
              "</style>      \n",
              "<div id=\"h2o-table-2\" class=\"h2o-container\">\n",
              "  <table class=\"h2o-table\">\n",
              "    <caption></caption>\n",
              "    <thead></thead>\n",
              "    <tbody><tr><td>H2O_cluster_uptime:</td>\n",
              "<td>38 mins 14 secs</td></tr>\n",
              "<tr><td>H2O_cluster_timezone:</td>\n",
              "<td>America/Toronto</td></tr>\n",
              "<tr><td>H2O_data_parsing_timezone:</td>\n",
              "<td>UTC</td></tr>\n",
              "<tr><td>H2O_cluster_version:</td>\n",
              "<td>3.44.0.1</td></tr>\n",
              "<tr><td>H2O_cluster_version_age:</td>\n",
              "<td>18 days</td></tr>\n",
              "<tr><td>H2O_cluster_name:</td>\n",
              "<td>H2O_from_python_saeed_b4pt38</td></tr>\n",
              "<tr><td>H2O_cluster_total_nodes:</td>\n",
              "<td>1</td></tr>\n",
              "<tr><td>H2O_cluster_free_memory:</td>\n",
              "<td>7.732 Gb</td></tr>\n",
              "<tr><td>H2O_cluster_total_cores:</td>\n",
              "<td>12</td></tr>\n",
              "<tr><td>H2O_cluster_allowed_cores:</td>\n",
              "<td>12</td></tr>\n",
              "<tr><td>H2O_cluster_status:</td>\n",
              "<td>locked, healthy</td></tr>\n",
              "<tr><td>H2O_connection_url:</td>\n",
              "<td>http://localhost:54321</td></tr>\n",
              "<tr><td>H2O_connection_proxy:</td>\n",
              "<td>{\"http\": null, \"https\": null}</td></tr>\n",
              "<tr><td>H2O_internal_security:</td>\n",
              "<td>False</td></tr>\n",
              "<tr><td>Python_version:</td>\n",
              "<td>3.10.12 final</td></tr></tbody>\n",
              "  </table>\n",
              "</div>\n"
            ],
            "text/plain": [
              "--------------------------  -----------------------------\n",
              "H2O_cluster_uptime:         38 mins 14 secs\n",
              "H2O_cluster_timezone:       America/Toronto\n",
              "H2O_data_parsing_timezone:  UTC\n",
              "H2O_cluster_version:        3.44.0.1\n",
              "H2O_cluster_version_age:    18 days\n",
              "H2O_cluster_name:           H2O_from_python_saeed_b4pt38\n",
              "H2O_cluster_total_nodes:    1\n",
              "H2O_cluster_free_memory:    7.732 Gb\n",
              "H2O_cluster_total_cores:    12\n",
              "H2O_cluster_allowed_cores:  12\n",
              "H2O_cluster_status:         locked, healthy\n",
              "H2O_connection_url:         http://localhost:54321\n",
              "H2O_connection_proxy:       {\"http\": null, \"https\": null}\n",
              "H2O_internal_security:      False\n",
              "Python_version:             3.10.12 final\n",
              "--------------------------  -----------------------------"
            ]
          },
          "metadata": {},
          "output_type": "display_data"
        }
      ],
      "source": [
        "h2o.init()"
      ]
    },
    {
      "cell_type": "code",
      "execution_count": 25,
      "metadata": {
        "colab": {
          "base_uri": "https://localhost:8080/",
          "height": 34
        },
        "id": "j-ZCVNqg5DMo",
        "outputId": "d8ca5600-03f6-402d-b7aa-6a64a46495ad"
      },
      "outputs": [
        {
          "name": "stdout",
          "output_type": "stream",
          "text": [
            "Parse progress: |████████████████████████████████████████████████████████████████| (done) 100%\n"
          ]
        }
      ],
      "source": [
        "#churn_df = h2o.import_file('data/TelcoCustomerChurn.csv')\n",
        "churn_df = h2o.import_file('../python/data/IMDB/ImdbTitleEpisode.csv')\n",
        "#df = pd.read_csv('data/TelcoCustomerChurn.csv')"
      ]
    },
    {
      "cell_type": "code",
      "execution_count": 28,
      "metadata": {
        "colab": {
          "base_uri": "https://localhost:8080/",
          "height": 374
        },
        "id": "aRFEg-iE1LbK",
        "outputId": "9961cd33-049e-465a-e90c-adc6c5890318"
      },
      "outputs": [
        {
          "data": {
            "text/plain": [
              "{'tconst': 'string',\n",
              " 'parentTconst': 'enum',\n",
              " 'seasonNumber': 'int',\n",
              " 'episodeNumber': 'int'}"
            ]
          },
          "execution_count": 28,
          "metadata": {},
          "output_type": "execute_result"
        }
      ],
      "source": [
        "churn_df.types\n"
      ]
    },
    {
      "cell_type": "code",
      "execution_count": 29,
      "metadata": {
        "colab": {
          "base_uri": "https://localhost:8080/",
          "height": 655
        },
        "id": "R2nAk2Pf5fF1",
        "outputId": "bf54929a-e782-4020-9d0a-9296b51883d4"
      },
      "outputs": [
        {
          "data": {
            "text/html": [
              "<pre style='margin: 1em 0 1em 0;'>Rows:5652641\n",
              "Cols:4\n",
              "</pre>"
            ],
            "text/plain": [
              "Rows:5652641\n",
              "Cols:4\n"
            ]
          },
          "metadata": {},
          "output_type": "display_data"
        },
        {
          "data": {
            "text/html": [
              "<table class='dataframe'>\n",
              "<thead>\n",
              "<tr><th>       </th><th>tconst   </th><th>parentTconst  </th><th>seasonNumber     </th><th>episodeNumber     </th></tr>\n",
              "</thead>\n",
              "<tbody>\n",
              "<tr><td>type   </td><td>string   </td><td>enum          </td><td>int              </td><td>int               </td></tr>\n",
              "<tr><td>mins   </td><td>NaN      </td><td>              </td><td>1.0              </td><td>0.0               </td></tr>\n",
              "<tr><td>mean   </td><td>NaN      </td><td>              </td><td>3.765361062357831</td><td>330.7354517805147 </td></tr>\n",
              "<tr><td>maxs   </td><td>NaN      </td><td>              </td><td>2021.0           </td><td>91334.0           </td></tr>\n",
              "<tr><td>sigma  </td><td>NaN      </td><td>              </td><td>23.16946269373601</td><td>1214.7859766542576</td></tr>\n",
              "<tr><td>zeros  </td><td>0        </td><td>              </td><td>0                </td><td>4331              </td></tr>\n",
              "<tr><td>missing</td><td>0        </td><td>0             </td><td>1156077          </td><td>1156077           </td></tr>\n",
              "<tr><td>0      </td><td>tt0041951</td><td>tt0041038     </td><td>1.0              </td><td>9.0               </td></tr>\n",
              "<tr><td>1      </td><td>tt0042816</td><td>tt0989125     </td><td>1.0              </td><td>17.0              </td></tr>\n",
              "<tr><td>2      </td><td>tt0042889</td><td>tt0989125     </td><td>nan              </td><td>nan               </td></tr>\n",
              "<tr><td>3      </td><td>tt0043426</td><td>tt0040051     </td><td>3.0              </td><td>42.0              </td></tr>\n",
              "<tr><td>4      </td><td>tt0043631</td><td>tt0989125     </td><td>2.0              </td><td>16.0              </td></tr>\n",
              "<tr><td>5      </td><td>tt0043693</td><td>tt0989125     </td><td>2.0              </td><td>8.0               </td></tr>\n",
              "<tr><td>6      </td><td>tt0043710</td><td>tt0989125     </td><td>3.0              </td><td>3.0               </td></tr>\n",
              "<tr><td>7      </td><td>tt0044093</td><td>tt0959862     </td><td>1.0              </td><td>6.0               </td></tr>\n",
              "<tr><td>8      </td><td>tt0044668</td><td>tt0044243     </td><td>2.0              </td><td>16.0              </td></tr>\n",
              "<tr><td>9      </td><td>tt0044901</td><td>tt0989125     </td><td>3.0              </td><td>46.0              </td></tr>\n",
              "</tbody>\n",
              "</table><pre style='font-size: smaller; margin-bottom: 1em;'>[5652641 rows x 4 columns]</pre>"
            ],
            "text/plain": [
              "         tconst     parentTconst    seasonNumber       episodeNumber\n",
              "-------  ---------  --------------  -----------------  ------------------\n",
              "type     string     enum            int                int\n",
              "mins     NaN                        1.0                0.0\n",
              "mean     NaN                        3.765361062357831  330.7354517805147\n",
              "maxs     NaN                        2021.0             91334.0\n",
              "sigma    NaN                        23.16946269373601  1214.7859766542576\n",
              "zeros    0                          0                  4331\n",
              "missing  0          0               1156077            1156077\n",
              "0        tt0041951  tt0041038       1.0                9.0\n",
              "1        tt0042816  tt0989125       1.0                17.0\n",
              "2        tt0042889  tt0989125       nan                nan\n",
              "3        tt0043426  tt0040051       3.0                42.0\n",
              "4        tt0043631  tt0989125       2.0                16.0\n",
              "5        tt0043693  tt0989125       2.0                8.0\n",
              "6        tt0043710  tt0989125       3.0                3.0\n",
              "7        tt0044093  tt0959862       1.0                6.0\n",
              "8        tt0044668  tt0044243       2.0                16.0\n",
              "9        tt0044901  tt0989125       3.0                46.0\n",
              "[5652641 rows x 4 columns]\n"
            ]
          },
          "metadata": {},
          "output_type": "display_data"
        }
      ],
      "source": [
        "churn_df.describe()"
      ]
    },
    {
      "cell_type": "code",
      "execution_count": 30,
      "metadata": {
        "id": "fzAValVj0Uh0"
      },
      "outputs": [],
      "source": [
        "churn_train,churn_test,churn_valid = churn_df.split_frame(ratios=[.7, .15])"
      ]
    },
    {
      "cell_type": "code",
      "execution_count": 31,
      "metadata": {
        "colab": {
          "base_uri": "https://localhost:8080/",
          "height": 440
        },
        "id": "SHHiJBsU21_U",
        "outputId": "6d8be0a5-9222-4f73-fd56-406e19e58614"
      },
      "outputs": [
        {
          "data": {
            "text/html": [
              "<table class='dataframe'>\n",
              "<thead>\n",
              "<tr><th>tconst   </th><th>parentTconst  </th><th style=\"text-align: right;\">  seasonNumber</th><th style=\"text-align: right;\">  episodeNumber</th></tr>\n",
              "</thead>\n",
              "<tbody>\n",
              "<tr><td>tt0042816</td><td>tt0989125     </td><td style=\"text-align: right;\">             1</td><td style=\"text-align: right;\">             17</td></tr>\n",
              "<tr><td>tt0042889</td><td>tt0989125     </td><td style=\"text-align: right;\">           nan</td><td style=\"text-align: right;\">            nan</td></tr>\n",
              "<tr><td>tt0043710</td><td>tt0989125     </td><td style=\"text-align: right;\">             3</td><td style=\"text-align: right;\">              3</td></tr>\n",
              "<tr><td>tt0044093</td><td>tt0959862     </td><td style=\"text-align: right;\">             1</td><td style=\"text-align: right;\">              6</td></tr>\n",
              "<tr><td>tt0044901</td><td>tt0989125     </td><td style=\"text-align: right;\">             3</td><td style=\"text-align: right;\">             46</td></tr>\n",
              "<tr><td>tt0045519</td><td>tt0989125     </td><td style=\"text-align: right;\">             4</td><td style=\"text-align: right;\">             11</td></tr>\n",
              "<tr><td>tt0046135</td><td>tt0989125     </td><td style=\"text-align: right;\">             4</td><td style=\"text-align: right;\">              5</td></tr>\n",
              "<tr><td>tt0046855</td><td>tt0046643     </td><td style=\"text-align: right;\">             1</td><td style=\"text-align: right;\">              4</td></tr>\n",
              "<tr><td>tt0047810</td><td>tt0914702     </td><td style=\"text-align: right;\">             3</td><td style=\"text-align: right;\">             36</td></tr>\n",
              "<tr><td>tt0047852</td><td>tt0047745     </td><td style=\"text-align: right;\">             1</td><td style=\"text-align: right;\">             15</td></tr>\n",
              "</tbody>\n",
              "</table><pre style='font-size: smaller; margin-bottom: 1em;'>[3956957 rows x 4 columns]</pre>"
            ],
            "text/plain": [
              "tconst     parentTconst      seasonNumber    episodeNumber\n",
              "---------  --------------  --------------  ---------------\n",
              "tt0042816  tt0989125                    1               17\n",
              "tt0042889  tt0989125                  nan              nan\n",
              "tt0043710  tt0989125                    3                3\n",
              "tt0044093  tt0959862                    1                6\n",
              "tt0044901  tt0989125                    3               46\n",
              "tt0045519  tt0989125                    4               11\n",
              "tt0046135  tt0989125                    4                5\n",
              "tt0046855  tt0046643                    1                4\n",
              "tt0047810  tt0914702                    3               36\n",
              "tt0047852  tt0047745                    1               15\n",
              "[3956957 rows x 4 columns]\n"
            ]
          },
          "execution_count": 31,
          "metadata": {},
          "output_type": "execute_result"
        }
      ],
      "source": [
        "churn_train"
      ]
    },
    {
      "cell_type": "code",
      "execution_count": 32,
      "metadata": {
        "id": "e6QvFazO5tzP"
      },
      "outputs": [
        {
          "ename": "ValueError",
          "evalue": "list.remove(x): x not in list",
          "output_type": "error",
          "traceback": [
            "\u001b[0;31m---------------------------------------------------------------------------\u001b[0m",
            "\u001b[0;31mValueError\u001b[0m                                Traceback (most recent call last)",
            "\u001b[1;32m/home/saeed/Documents/Github/CatDB/benchmarks/H2O_AutoMLN.ipynb Cell 9\u001b[0m line \u001b[0;36m3\n\u001b[1;32m      <a href='vscode-notebook-cell:/home/saeed/Documents/Github/CatDB/benchmarks/H2O_AutoMLN.ipynb#X62sZmlsZQ%3D%3D?line=0'>1</a>\u001b[0m y \u001b[39m=\u001b[39m \u001b[39m\"\u001b[39m\u001b[39mChurn\u001b[39m\u001b[39m\"\u001b[39m\n\u001b[1;32m      <a href='vscode-notebook-cell:/home/saeed/Documents/Github/CatDB/benchmarks/H2O_AutoMLN.ipynb#X62sZmlsZQ%3D%3D?line=1'>2</a>\u001b[0m x \u001b[39m=\u001b[39m churn_df\u001b[39m.\u001b[39mcolumns\n\u001b[0;32m----> <a href='vscode-notebook-cell:/home/saeed/Documents/Github/CatDB/benchmarks/H2O_AutoMLN.ipynb#X62sZmlsZQ%3D%3D?line=2'>3</a>\u001b[0m x\u001b[39m.\u001b[39;49mremove(y)\n\u001b[1;32m      <a href='vscode-notebook-cell:/home/saeed/Documents/Github/CatDB/benchmarks/H2O_AutoMLN.ipynb#X62sZmlsZQ%3D%3D?line=3'>4</a>\u001b[0m x\u001b[39m.\u001b[39mremove(\u001b[39m\"\u001b[39m\u001b[39mcustomerID\u001b[39m\u001b[39m\"\u001b[39m)\n",
            "\u001b[0;31mValueError\u001b[0m: list.remove(x): x not in list"
          ]
        }
      ],
      "source": [
        "y = \"Churn\"\n",
        "x = churn_df.columns\n",
        "x.remove(y)\n",
        "x.remove(\"customerID\")"
      ]
    },
    {
      "cell_type": "code",
      "execution_count": null,
      "metadata": {
        "id": "ESplmnWT570d"
      },
      "outputs": [],
      "source": [
        "aml = H2OAutoML(max_models = 10, seed = 10, exclude_algos = [\"StackedEnsemble\", \"DeepLearning\"], verbosity=\"info\", nfolds=0)\n"
      ]
    },
    {
      "cell_type": "code",
      "execution_count": null,
      "metadata": {
        "colab": {
          "base_uri": "https://localhost:8080/",
          "height": 306
        },
        "id": "1uYx3BrXeHtu",
        "outputId": "454a0e2e-93b3-4046-e53f-6174d0e209c5"
      },
      "outputs": [],
      "source": [
        "!nvidia-smi"
      ]
    },
    {
      "cell_type": "code",
      "execution_count": null,
      "metadata": {
        "colab": {
          "base_uri": "https://localhost:8080/",
          "height": 989
        },
        "id": "fBEls6JqeH0p",
        "outputId": "9319154e-e8ef-41d9-dec6-292eca038812"
      },
      "outputs": [],
      "source": [
        "aml.train(x = x, y = y, training_frame = churn_train, validation_frame=churn_valid)"
      ]
    },
    {
      "cell_type": "code",
      "execution_count": null,
      "metadata": {
        "colab": {
          "base_uri": "https://localhost:8080/",
          "height": 289
        },
        "id": "5fHgZtj_eNq9",
        "outputId": "7cbb8cac-29cc-4029-ed96-d11926fea16e"
      },
      "outputs": [],
      "source": [
        "!nvidia-smi"
      ]
    },
    {
      "cell_type": "code",
      "execution_count": null,
      "metadata": {
        "id": "ALlZEBNd68Nm"
      },
      "outputs": [],
      "source": [
        "lb = aml.leaderboard"
      ]
    },
    {
      "cell_type": "code",
      "execution_count": null,
      "metadata": {
        "colab": {
          "base_uri": "https://localhost:8080/",
          "height": 250
        },
        "id": "x-bfxNwL6-2l",
        "outputId": "1d9d485f-f211-4c54-d9a2-27e2fad60b2d"
      },
      "outputs": [],
      "source": [
        "lb.head()"
      ]
    },
    {
      "cell_type": "code",
      "execution_count": null,
      "metadata": {
        "colab": {
          "base_uri": "https://localhost:8080/",
          "height": 34
        },
        "id": "lob8HRvc4bwq",
        "outputId": "77e032ab-8162-4020-e43f-1d3f1da02dbd"
      },
      "outputs": [],
      "source": [
        "churn_pred=aml.leader.predict(churn_test)"
      ]
    },
    {
      "cell_type": "code",
      "execution_count": null,
      "metadata": {
        "colab": {
          "base_uri": "https://localhost:8080/",
          "height": 250
        },
        "id": "jX50NC-L5NJR",
        "outputId": "85521a6d-0621-4dcc-c288-750d7d1817a1"
      },
      "outputs": [],
      "source": [
        "churn_pred.head()"
      ]
    },
    {
      "cell_type": "code",
      "execution_count": null,
      "metadata": {
        "colab": {
          "base_uri": "https://localhost:8080/",
          "height": 1000
        },
        "id": "GVTyHEfe6whc",
        "outputId": "cb279bf2-988d-4a64-c106-ee8e577a46f6"
      },
      "outputs": [],
      "source": [
        "aml.leader.model_performance(churn_test)"
      ]
    },
    {
      "cell_type": "code",
      "execution_count": null,
      "metadata": {
        "id": "kl3m9BrA8whW"
      },
      "outputs": [],
      "source": [
        "model_ids = list(aml.leaderboard['model_id'].as_data_frame().iloc[:,0])\n",
        "#se = h2o.get_model([mid for mid in model_ids if \"StackedEnsemble_AllModels\" in mid][0])\n",
        "#metalearner = h2o.get_model(se.metalearner()['name'])"
      ]
    },
    {
      "cell_type": "code",
      "execution_count": null,
      "metadata": {
        "colab": {
          "base_uri": "https://localhost:8080/",
          "height": 187
        },
        "id": "S_7RYNenT527",
        "outputId": "6666cd70-fbf6-4439-d85d-be31d782a83b"
      },
      "outputs": [],
      "source": [
        "model_ids"
      ]
    },
    {
      "cell_type": "code",
      "execution_count": null,
      "metadata": {
        "colab": {
          "base_uri": "https://localhost:8080/",
          "height": 1000
        },
        "id": "vOxeivTyUCeq",
        "outputId": "c04fb827-fe68-42a7-b646-f4309b32ec76"
      },
      "outputs": [],
      "source": [
        "h2o.get_model([mid for mid in model_ids if \"XGBoost\" in mid][0])"
      ]
    },
    {
      "cell_type": "code",
      "execution_count": null,
      "metadata": {
        "id": "85ppw0hgMxxv"
      },
      "outputs": [],
      "source": [
        "out = h2o.get_model([mid for mid in model_ids if \"XGBoost\" in mid][0])"
      ]
    },
    {
      "cell_type": "code",
      "execution_count": null,
      "metadata": {
        "colab": {
          "base_uri": "https://localhost:8080/",
          "height": 1000
        },
        "id": "b4f7YNB6hqbq",
        "outputId": "619f2c0c-7c2d-49be-bff6-7a343b13d797"
      },
      "outputs": [],
      "source": [
        "out.params"
      ]
    },
    {
      "cell_type": "code",
      "execution_count": null,
      "metadata": {
        "colab": {
          "base_uri": "https://localhost:8080/",
          "height": 340
        },
        "id": "mxY-GjDVRxVl",
        "outputId": "5f97c99c-d060-4614-d469-70189f33e71f"
      },
      "outputs": [],
      "source": [
        "out.convert_H2OXGBoostParams_2_XGBoostParams()"
      ]
    },
    {
      "cell_type": "code",
      "execution_count": null,
      "metadata": {
        "colab": {
          "base_uri": "https://localhost:8080/",
          "height": 1000
        },
        "id": "wl4mI1K9lteZ",
        "outputId": "1e179cb2-d45b-4f62-f2dc-e19414053685"
      },
      "outputs": [],
      "source": [
        "out"
      ]
    },
    {
      "cell_type": "code",
      "execution_count": null,
      "metadata": {
        "id": "JGqA2fD7fJS7"
      },
      "outputs": [],
      "source": [
        "out_gbm = h2o.get_model([mid for mid in model_ids if \"GBM\" in mid][0])"
      ]
    },
    {
      "cell_type": "code",
      "execution_count": null,
      "metadata": {
        "colab": {
          "base_uri": "https://localhost:8080/",
          "height": 176
        },
        "id": "zGGLvJlrM0r1",
        "outputId": "b88febf0-6969-434e-dbd1-ab206c77f0f0"
      },
      "outputs": [],
      "source": [
        "out.confusion_matrix()"
      ]
    },
    {
      "cell_type": "code",
      "execution_count": null,
      "metadata": {
        "colab": {
          "base_uri": "https://localhost:8080/",
          "height": 612
        },
        "id": "WzYCf-itPIf_",
        "outputId": "91affbb5-4e3f-434a-dc7c-0f8dd21000a6"
      },
      "outputs": [],
      "source": [
        "out.varimp_plot()"
      ]
    },
    {
      "cell_type": "code",
      "execution_count": null,
      "metadata": {
        "colab": {
          "base_uri": "https://localhost:8080/",
          "height": 34
        },
        "id": "mzfOwj0vwmW4",
        "outputId": "9c60e683-570b-4cf4-febe-c9f3457cdb4a"
      },
      "outputs": [],
      "source": [
        "aml.leader.download_mojo(path = \"./\")"
      ]
    }
  ],
  "metadata": {
    "accelerator": "GPU",
    "colab": {
      "name": "H2O AutoML.ipynb",
      "provenance": []
    },
    "kernelspec": {
      "display_name": "Python 3",
      "name": "python3"
    },
    "language_info": {
      "codemirror_mode": {
        "name": "ipython",
        "version": 3
      },
      "file_extension": ".py",
      "mimetype": "text/x-python",
      "name": "python",
      "nbconvert_exporter": "python",
      "pygments_lexer": "ipython3",
      "version": "3.10.12"
    }
  },
  "nbformat": 4,
  "nbformat_minor": 0
}
