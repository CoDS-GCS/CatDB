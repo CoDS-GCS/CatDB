{
 "cells": [
  {
   "cell_type": "code",
   "execution_count": 7,
   "metadata": {},
   "outputs": [],
   "source": [
    "from pprint import pprint\n",
    "\n",
    "import pandas as pd\n",
    "import sklearn.datasets\n",
    "from sklearn.metrics import accuracy_score\n",
    "import autosklearn.classification\n",
    "pd.options.future.infer_string = True"
   ]
  },
  {
   "cell_type": "code",
   "execution_count": 8,
   "metadata": {},
   "outputs": [],
   "source": [
    "titanic = pd.read_csv(\"data/titanic/train.csv\")\n",
    "titanic_test = pd.read_csv(\"data/titanic/train.csv\")\n",
    "\n",
    "X_train = titanic.drop('Survived', axis=1)\n",
    "y_train = titanic['Survived']\n",
    "\n",
    "X_test = titanic_test.drop('Survived', axis=1)\n",
    "y_test = titanic_test['Survived']"
   ]
  },
  {
   "cell_type": "code",
   "execution_count": 9,
   "metadata": {},
   "outputs": [
    {
     "name": "stderr",
     "output_type": "stream",
     "text": [
      "/home/saeed/Documents/Github/CatDB/.venv/lib/python3.10/site-packages/autosklearn/data/feature_validator.py:298: FutureWarning: is_sparse is deprecated and will be removed in a future version. Check `isinstance(dtype, pd.SparseDtype)` instead.\n",
      "  if is_sparse(X[column]):\n"
     ]
    },
    {
     "name": "stdout",
     "output_type": "stream",
     "text": [
      "[WARNING] [2023-11-06 00:37:21,840:Client-AutoMLSMBO(1)::titanic] Dataset titanic already in meta-data. Removing occurence.\n"
     ]
    },
    {
     "data": {
      "text/html": [
       "<style>#sk-container-id-2 {color: black;}#sk-container-id-2 pre{padding: 0;}#sk-container-id-2 div.sk-toggleable {background-color: white;}#sk-container-id-2 label.sk-toggleable__label {cursor: pointer;display: block;width: 100%;margin-bottom: 0;padding: 0.3em;box-sizing: border-box;text-align: center;}#sk-container-id-2 label.sk-toggleable__label-arrow:before {content: \"▸\";float: left;margin-right: 0.25em;color: #696969;}#sk-container-id-2 label.sk-toggleable__label-arrow:hover:before {color: black;}#sk-container-id-2 div.sk-estimator:hover label.sk-toggleable__label-arrow:before {color: black;}#sk-container-id-2 div.sk-toggleable__content {max-height: 0;max-width: 0;overflow: hidden;text-align: left;background-color: #f0f8ff;}#sk-container-id-2 div.sk-toggleable__content pre {margin: 0.2em;color: black;border-radius: 0.25em;background-color: #f0f8ff;}#sk-container-id-2 input.sk-toggleable__control:checked~div.sk-toggleable__content {max-height: 200px;max-width: 100%;overflow: auto;}#sk-container-id-2 input.sk-toggleable__control:checked~label.sk-toggleable__label-arrow:before {content: \"▾\";}#sk-container-id-2 div.sk-estimator input.sk-toggleable__control:checked~label.sk-toggleable__label {background-color: #d4ebff;}#sk-container-id-2 div.sk-label input.sk-toggleable__control:checked~label.sk-toggleable__label {background-color: #d4ebff;}#sk-container-id-2 input.sk-hidden--visually {border: 0;clip: rect(1px 1px 1px 1px);clip: rect(1px, 1px, 1px, 1px);height: 1px;margin: -1px;overflow: hidden;padding: 0;position: absolute;width: 1px;}#sk-container-id-2 div.sk-estimator {font-family: monospace;background-color: #f0f8ff;border: 1px dotted black;border-radius: 0.25em;box-sizing: border-box;margin-bottom: 0.5em;}#sk-container-id-2 div.sk-estimator:hover {background-color: #d4ebff;}#sk-container-id-2 div.sk-parallel-item::after {content: \"\";width: 100%;border-bottom: 1px solid gray;flex-grow: 1;}#sk-container-id-2 div.sk-label:hover label.sk-toggleable__label {background-color: #d4ebff;}#sk-container-id-2 div.sk-serial::before {content: \"\";position: absolute;border-left: 1px solid gray;box-sizing: border-box;top: 0;bottom: 0;left: 50%;z-index: 0;}#sk-container-id-2 div.sk-serial {display: flex;flex-direction: column;align-items: center;background-color: white;padding-right: 0.2em;padding-left: 0.2em;position: relative;}#sk-container-id-2 div.sk-item {position: relative;z-index: 1;}#sk-container-id-2 div.sk-parallel {display: flex;align-items: stretch;justify-content: center;background-color: white;position: relative;}#sk-container-id-2 div.sk-item::before, #sk-container-id-2 div.sk-parallel-item::before {content: \"\";position: absolute;border-left: 1px solid gray;box-sizing: border-box;top: 0;bottom: 0;left: 50%;z-index: -1;}#sk-container-id-2 div.sk-parallel-item {display: flex;flex-direction: column;z-index: 1;position: relative;background-color: white;}#sk-container-id-2 div.sk-parallel-item:first-child::after {align-self: flex-end;width: 50%;}#sk-container-id-2 div.sk-parallel-item:last-child::after {align-self: flex-start;width: 50%;}#sk-container-id-2 div.sk-parallel-item:only-child::after {width: 0;}#sk-container-id-2 div.sk-dashed-wrapped {border: 1px dashed gray;margin: 0 0.4em 0.5em 0.4em;box-sizing: border-box;padding-bottom: 0.4em;background-color: white;}#sk-container-id-2 div.sk-label label {font-family: monospace;font-weight: bold;display: inline-block;line-height: 1.2em;}#sk-container-id-2 div.sk-label-container {text-align: center;}#sk-container-id-2 div.sk-container {/* jupyter's `normalize.less` sets `[hidden] { display: none; }` but bootstrap.min.css set `[hidden] { display: none !important; }` so we also need the `!important` here to be able to override the default hidden behavior on the sphinx rendered scikit-learn.org. See: https://github.com/scikit-learn/scikit-learn/issues/21755 */display: inline-block !important;position: relative;}#sk-container-id-2 div.sk-text-repr-fallback {display: none;}</style><div id=\"sk-container-id-2\" class=\"sk-top-container\"><div class=\"sk-text-repr-fallback\"><pre>AutoSklearnClassifier(ensemble_class=&lt;class &#x27;autosklearn.ensembles.ensemble_selection.EnsembleSelection&#x27;&gt;,\n",
       "                      per_run_time_limit=30, time_left_for_this_task=120,\n",
       "                      tmp_folder=&#x27;/tmp/autosklearn_classification_titanic_tmp&#x27;)</pre><b>In a Jupyter environment, please rerun this cell to show the HTML representation or trust the notebook. <br />On GitHub, the HTML representation is unable to render, please try loading this page with nbviewer.org.</b></div><div class=\"sk-container\" hidden><div class=\"sk-item\"><div class=\"sk-estimator sk-toggleable\"><input class=\"sk-toggleable__control sk-hidden--visually\" id=\"sk-estimator-id-2\" type=\"checkbox\" checked><label for=\"sk-estimator-id-2\" class=\"sk-toggleable__label sk-toggleable__label-arrow\">AutoSklearnClassifier</label><div class=\"sk-toggleable__content\"><pre>AutoSklearnClassifier(ensemble_class=&lt;class &#x27;autosklearn.ensembles.ensemble_selection.EnsembleSelection&#x27;&gt;,\n",
       "                      per_run_time_limit=30, time_left_for_this_task=120,\n",
       "                      tmp_folder=&#x27;/tmp/autosklearn_classification_titanic_tmp&#x27;)</pre></div></div></div></div></div>"
      ],
      "text/plain": [
       "AutoSklearnClassifier(ensemble_class=<class 'autosklearn.ensembles.ensemble_selection.EnsembleSelection'>,\n",
       "                      per_run_time_limit=30, time_left_for_this_task=120,\n",
       "                      tmp_folder='/tmp/autosklearn_classification_titanic_tmp')"
      ]
     },
     "execution_count": 9,
     "metadata": {},
     "output_type": "execute_result"
    }
   ],
   "source": [
    "automl = autosklearn.classification.AutoSklearnClassifier(\n",
    "    time_left_for_this_task=120,\n",
    "    per_run_time_limit=30,\n",
    "    tmp_folder=\"/tmp/autosklearn_classification_titanic_tmp\",\n",
    ")\n",
    "automl.fit(X_train, y_train, dataset_name=\"titanic\")"
   ]
  },
  {
   "cell_type": "code",
   "execution_count": 10,
   "metadata": {},
   "outputs": [
    {
     "name": "stdout",
     "output_type": "stream",
     "text": [
      "          rank  ensemble_weight           type      cost   duration\n",
      "model_id                                                           \n",
      "5            1             0.20  random_forest  0.155932   4.408065\n",
      "11           2             0.10  random_forest  0.159322  11.736475\n",
      "2            3             0.12  random_forest  0.162712   3.507152\n",
      "8            4             0.02    extra_trees  0.166102   5.381127\n",
      "12           5             0.02            mlp  0.172881   3.106078\n",
      "17           6             0.06  random_forest  0.176271   2.442500\n",
      "14           7             0.10  liblinear_svc  0.179661   1.178871\n",
      "6            8             0.14            mlp  0.196610   7.804130\n",
      "15           9             0.04       adaboost  0.196610   2.815063\n",
      "13          10             0.04            mlp  0.200000   2.550595\n",
      "3           11             0.16            lda  0.203390   1.099168\n"
     ]
    }
   ],
   "source": [
    "print(automl.leaderboard())"
   ]
  },
  {
   "cell_type": "code",
   "execution_count": 11,
   "metadata": {},
   "outputs": [
    {
     "name": "stdout",
     "output_type": "stream",
     "text": [
      "{   2: {   'balancing': Balancing(random_state=1),\n",
      "           'classifier': <autosklearn.pipeline.components.classification.ClassifierChoice object at 0x7fdf588802e0>,\n",
      "           'cost': 0.16271186440677965,\n",
      "           'data_preprocessor': <autosklearn.pipeline.components.data_preprocessing.DataPreprocessorChoice object at 0x7fdf586d5f60>,\n",
      "           'ensemble_weight': 0.12,\n",
      "           'feature_preprocessor': <autosklearn.pipeline.components.feature_preprocessing.FeaturePreprocessorChoice object at 0x7fdf58631360>,\n",
      "           'model_id': 2,\n",
      "           'rank': 1,\n",
      "           'sklearn_classifier': RandomForestClassifier(max_features=10, n_estimators=512, n_jobs=1,\n",
      "                       random_state=1, warm_start=True)},\n",
      "    3: {   'balancing': Balancing(random_state=1),\n",
      "           'classifier': <autosklearn.pipeline.components.classification.ClassifierChoice object at 0x7fdf585b8640>,\n",
      "           'cost': 0.2033898305084746,\n",
      "           'data_preprocessor': <autosklearn.pipeline.components.data_preprocessing.DataPreprocessorChoice object at 0x7fdf586d72b0>,\n",
      "           'ensemble_weight': 0.16,\n",
      "           'feature_preprocessor': <autosklearn.pipeline.components.feature_preprocessing.FeaturePreprocessorChoice object at 0x7fdf588c00a0>,\n",
      "           'model_id': 3,\n",
      "           'rank': 2,\n",
      "           'sklearn_classifier': LinearDiscriminantAnalysis(shrinkage=0.5, solver='lsqr',\n",
      "                           tol=3.156081142646472e-05)},\n",
      "    5: {   'balancing': Balancing(random_state=1, strategy='weighting'),\n",
      "           'classifier': <autosklearn.pipeline.components.classification.ClassifierChoice object at 0x7fdf585bb3d0>,\n",
      "           'cost': 0.1559322033898305,\n",
      "           'data_preprocessor': <autosklearn.pipeline.components.data_preprocessing.DataPreprocessorChoice object at 0x7fdf586d4bb0>,\n",
      "           'ensemble_weight': 0.2,\n",
      "           'feature_preprocessor': <autosklearn.pipeline.components.feature_preprocessing.FeaturePreprocessorChoice object at 0x7fdf06f8e620>,\n",
      "           'model_id': 5,\n",
      "           'rank': 3,\n",
      "           'sklearn_classifier': RandomForestClassifier(bootstrap=False, criterion='entropy', max_features=7,\n",
      "                       min_samples_split=4, n_estimators=512, n_jobs=1,\n",
      "                       random_state=1, warm_start=True)},\n",
      "    6: {   'balancing': Balancing(random_state=1, strategy='weighting'),\n",
      "           'classifier': <autosklearn.pipeline.components.classification.ClassifierChoice object at 0x7fdf58826f20>,\n",
      "           'cost': 0.19661016949152543,\n",
      "           'data_preprocessor': <autosklearn.pipeline.components.data_preprocessing.DataPreprocessorChoice object at 0x7fdf586318a0>,\n",
      "           'ensemble_weight': 0.14,\n",
      "           'feature_preprocessor': <autosklearn.pipeline.components.feature_preprocessing.FeaturePreprocessorChoice object at 0x7fdf58824ac0>,\n",
      "           'model_id': 6,\n",
      "           'rank': 4,\n",
      "           'sklearn_classifier': MLPClassifier(activation='tanh', alpha=0.00021148999718383549, beta_1=0.999,\n",
      "              beta_2=0.9, hidden_layer_sizes=(113, 113, 113),\n",
      "              learning_rate_init=0.0007452270241186694, max_iter=256,\n",
      "              n_iter_no_change=32, random_state=1, validation_fraction=0.0,\n",
      "              verbose=0, warm_start=True)},\n",
      "    8: {   'balancing': Balancing(random_state=1),\n",
      "           'classifier': <autosklearn.pipeline.components.classification.ClassifierChoice object at 0x7fdf4f470dc0>,\n",
      "           'cost': 0.16610169491525428,\n",
      "           'data_preprocessor': <autosklearn.pipeline.components.data_preprocessing.DataPreprocessorChoice object at 0x7fdf588819c0>,\n",
      "           'ensemble_weight': 0.02,\n",
      "           'feature_preprocessor': <autosklearn.pipeline.components.feature_preprocessing.FeaturePreprocessorChoice object at 0x7fdf4f470c70>,\n",
      "           'model_id': 8,\n",
      "           'rank': 5,\n",
      "           'sklearn_classifier': ExtraTreesClassifier(max_features=140, min_samples_leaf=3, min_samples_split=11,\n",
      "                     n_estimators=512, n_jobs=1, random_state=1,\n",
      "                     warm_start=True)},\n",
      "    11: {   'balancing': Balancing(random_state=1),\n",
      "            'classifier': <autosklearn.pipeline.components.classification.ClassifierChoice object at 0x7fdf4f4738b0>,\n",
      "            'cost': 0.15932203389830513,\n",
      "            'data_preprocessor': <autosklearn.pipeline.components.data_preprocessing.DataPreprocessorChoice object at 0x7fdf5888b100>,\n",
      "            'ensemble_weight': 0.1,\n",
      "            'feature_preprocessor': <autosklearn.pipeline.components.feature_preprocessing.FeaturePreprocessorChoice object at 0x7fdf4f473730>,\n",
      "            'model_id': 11,\n",
      "            'rank': 6,\n",
      "            'sklearn_classifier': RandomForestClassifier(criterion='entropy', max_features=75, min_samples_leaf=7,\n",
      "                       n_estimators=512, n_jobs=1, random_state=1,\n",
      "                       warm_start=True)},\n",
      "    12: {   'balancing': Balancing(random_state=1, strategy='weighting'),\n",
      "            'classifier': <autosklearn.pipeline.components.classification.ClassifierChoice object at 0x7fdf4aeb8100>,\n",
      "            'cost': 0.17288135593220344,\n",
      "            'data_preprocessor': <autosklearn.pipeline.components.data_preprocessing.DataPreprocessorChoice object at 0x7fdf58670340>,\n",
      "            'ensemble_weight': 0.02,\n",
      "            'feature_preprocessor': <autosklearn.pipeline.components.feature_preprocessing.FeaturePreprocessorChoice object at 0x7fdf4f3d7d00>,\n",
      "            'model_id': 12,\n",
      "            'rank': 7,\n",
      "            'sklearn_classifier': MLPClassifier(alpha=4.2841884333778574e-06, beta_1=0.999, beta_2=0.9,\n",
      "              hidden_layer_sizes=(263, 263, 263),\n",
      "              learning_rate_init=0.0011804284312897009, max_iter=64,\n",
      "              n_iter_no_change=32, random_state=1, validation_fraction=0.0,\n",
      "              verbose=0, warm_start=True)},\n",
      "    13: {   'balancing': Balancing(random_state=1),\n",
      "            'classifier': <autosklearn.pipeline.components.classification.ClassifierChoice object at 0x7fdf4ad80250>,\n",
      "            'cost': 0.19999999999999996,\n",
      "            'data_preprocessor': <autosklearn.pipeline.components.data_preprocessing.DataPreprocessorChoice object at 0x7fdf4f4707c0>,\n",
      "            'ensemble_weight': 0.04,\n",
      "            'feature_preprocessor': <autosklearn.pipeline.components.feature_preprocessing.FeaturePreprocessorChoice object at 0x7fdf4ad4f8b0>,\n",
      "            'model_id': 13,\n",
      "            'rank': 8,\n",
      "            'sklearn_classifier': MLPClassifier(activation='tanh', alpha=0.0001363185819149026, beta_1=0.999,\n",
      "              beta_2=0.9, early_stopping=True,\n",
      "              hidden_layer_sizes=(115, 115, 115),\n",
      "              learning_rate_init=0.00018009776276177523, max_iter=64,\n",
      "              n_iter_no_change=32, random_state=1, verbose=0, warm_start=True)},\n",
      "    14: {   'balancing': Balancing(random_state=1),\n",
      "            'classifier': <autosklearn.pipeline.components.classification.ClassifierChoice object at 0x7fdf4ad82e00>,\n",
      "            'cost': 0.1796610169491526,\n",
      "            'data_preprocessor': <autosklearn.pipeline.components.data_preprocessing.DataPreprocessorChoice object at 0x7fdf4f471e70>,\n",
      "            'ensemble_weight': 0.1,\n",
      "            'feature_preprocessor': <autosklearn.pipeline.components.feature_preprocessing.FeaturePreprocessorChoice object at 0x7fdf4ad82b00>,\n",
      "            'model_id': 14,\n",
      "            'rank': 9,\n",
      "            'sklearn_classifier': LinearSVC(C=17045.7732372673, dual=False, intercept_scaling=1.0, random_state=1,\n",
      "          tol=0.0008192814934567822)},\n",
      "    15: {   'balancing': Balancing(random_state=1),\n",
      "            'classifier': <autosklearn.pipeline.components.classification.ClassifierChoice object at 0x7fdf4aac5060>,\n",
      "            'cost': 0.19661016949152543,\n",
      "            'data_preprocessor': <autosklearn.pipeline.components.data_preprocessing.DataPreprocessorChoice object at 0x7fdf4f3d4d90>,\n",
      "            'ensemble_weight': 0.04,\n",
      "            'feature_preprocessor': <autosklearn.pipeline.components.feature_preprocessing.FeaturePreprocessorChoice object at 0x7fdf4abe8dc0>,\n",
      "            'model_id': 15,\n",
      "            'rank': 10,\n",
      "            'sklearn_classifier': AdaBoostClassifier(base_estimator=DecisionTreeClassifier(max_depth=3),\n",
      "                   learning_rate=0.046269426995092074, n_estimators=406,\n",
      "                   random_state=1)},\n",
      "    17: {   'balancing': Balancing(random_state=1, strategy='weighting'),\n",
      "            'classifier': <autosklearn.pipeline.components.classification.ClassifierChoice object at 0x7fdf4a8a5f30>,\n",
      "            'cost': 0.17627118644067796,\n",
      "            'data_preprocessor': <autosklearn.pipeline.components.data_preprocessing.DataPreprocessorChoice object at 0x7fdf4aebbdf0>,\n",
      "            'ensemble_weight': 0.06,\n",
      "            'feature_preprocessor': <autosklearn.pipeline.components.feature_preprocessing.FeaturePreprocessorChoice object at 0x7fdf4aac4be0>,\n",
      "            'model_id': 17,\n",
      "            'rank': 11,\n",
      "            'sklearn_classifier': RandomForestClassifier(criterion='entropy', max_features=3, n_estimators=512,\n",
      "                       n_jobs=1, random_state=1, warm_start=True)}}\n"
     ]
    }
   ],
   "source": [
    "pprint(automl.show_models(), indent=4)"
   ]
  },
  {
   "cell_type": "code",
   "execution_count": 12,
   "metadata": {},
   "outputs": [
    {
     "name": "stdout",
     "output_type": "stream",
     "text": [
      "Accuracy score: 0.9539842873176206\n"
     ]
    }
   ],
   "source": [
    "predictions = automl.predict(X_test)\n",
    "print(\"Accuracy score:\", sklearn.metrics.accuracy_score(y_test, predictions))"
   ]
  }
 ],
 "metadata": {
  "kernelspec": {
   "display_name": ".venv",
   "language": "python",
   "name": "python3"
  },
  "language_info": {
   "codemirror_mode": {
    "name": "ipython",
    "version": 3
   },
   "file_extension": ".py",
   "mimetype": "text/x-python",
   "name": "python",
   "nbconvert_exporter": "python",
   "pygments_lexer": "ipython3",
   "version": "3.10.12"
  }
 },
 "nbformat": 4,
 "nbformat_minor": 2
}
