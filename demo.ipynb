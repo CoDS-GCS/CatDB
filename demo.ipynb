{
 "cells": [
  {
   "cell_type": "code",
   "execution_count": 1,
   "id": "7452e02a",
   "metadata": {},
   "outputs": [],
   "source": [
    "!pip install -U /home/saeed/Documents/Github/CatDB/ --quiet"
   ]
  },
  {
   "cell_type": "code",
   "execution_count": 2,
   "id": "1a2a8fb4",
   "metadata": {},
   "outputs": [],
   "source": [
    "import os\n",
    "from dataprofiling import build_catalog\n",
    "\n",
    "#os.environ[\"SPARK_HOME\"] = \"/home/saeed/Apps/spark-3.5.3-bin-hadoop3/\""
   ]
  },
  {
   "cell_type": "code",
   "execution_count": 3,
   "id": "c9bad05b",
   "metadata": {},
   "outputs": [],
   "source": [
    "#cfg = {\"output_path\": \"/home/saeed/Downloads/tmp/dp/CMC\"}\n",
    "#build_catalog(name=\"CMC\", path=\"/home/saeed/Downloads/tmp\", cfg=cfg, categorical_ratio=0.05, n_workers=2 ,max_memory=1)"
   ]
  }
 ],
 "metadata": {
  "kernelspec": {
   "display_name": ".venv",
   "language": "python",
   "name": "python3"
  },
  "language_info": {
   "codemirror_mode": {
    "name": "ipython",
    "version": 3
   },
   "file_extension": ".py",
   "mimetype": "text/x-python",
   "name": "python",
   "nbconvert_exporter": "python",
   "pygments_lexer": "ipython3",
   "version": "3.10.12"
  }
 },
 "nbformat": 4,
 "nbformat_minor": 5
}
