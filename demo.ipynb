{
 "cells": [
  {
   "cell_type": "code",
   "execution_count": 1,
   "id": "7452e02a",
   "metadata": {},
   "outputs": [],
   "source": [
    "!pip install -U /home/saeed/Documents/Github/CatDB/ --quiet"
   ]
  },
  {
   "cell_type": "code",
   "execution_count": 2,
   "id": "1a2a8fb4",
   "metadata": {},
   "outputs": [],
   "source": [
    "import os\n",
    "from dataprofiling import profile_data\n",
    "os.environ[\"SPARK_HOME\"] = \"/home/saeed/Apps/spark-3.5.3-bin-hadoop3/\""
   ]
  },
  {
   "cell_type": "code",
   "execution_count": null,
   "id": "c9bad05b",
   "metadata": {},
   "outputs": [
    {
     "name": "stdout",
     "output_type": "stream",
     "text": [
      "2024-12-12 01:42:27.041334 : Initializing Spark\n"
     ]
    },
    {
     "name": "stderr",
     "output_type": "stream",
     "text": [
      "24/12/12 01:42:28 WARN Utils: Your hostname, saeed-ThinkPad-P1-Gen-3 resolves to a loopback address: 127.0.1.1; using 192.168.0.185 instead (on interface wlp0s20f3)\n",
      "24/12/12 01:42:28 WARN Utils: Set SPARK_LOCAL_IP if you need to bind to another address\n",
      "Setting default log level to \"WARN\".\n",
      "To adjust logging level use sc.setLogLevel(newLevel). For SparkR, use setLogLevel(newLevel).\n",
      "24/12/12 01:42:28 WARN NativeCodeLoader: Unable to load native-hadoop library for your platform... using builtin-java classes where applicable\n"
     ]
    },
    {
     "name": "stdout",
     "output_type": "stream",
     "text": [
      "2024-12-12 01:42:29.962435 : Deleting existing column profiles in: /home/saeed/Downloads/tmp/dp/CMC\n",
      "2024-12-12 01:42:29.962974 : Creating tables, Getting columns\n",
      "2024-12-12 01:42:30.210597 : Profiling 10 columns\n"
     ]
    },
    {
     "name": "stderr",
     "output_type": "stream",
     "text": [
      "[Stage 0:>                                                          (0 + 1) / 1]\r"
     ]
    },
    {
     "name": "stdout",
     "output_type": "stream",
     "text": [
      "2024-12-12 01:42:39.052148 : 10 columns profiled and saved to /home/saeed/Downloads/tmp/dp/CMC\n",
      "2024-12-12 01:42:39.052242 : Total time to profile:  0:00:12.010913\n"
     ]
    },
    {
     "name": "stderr",
     "output_type": "stream",
     "text": [
      "                                                                                \r"
     ]
    }
   ],
   "source": [
    "cfg = {\"output_path\": \"/home/saeed/Downloads/tmp/dp/CMC\"}\n",
    "profile_data(name=\"CMC\", path=\"/home/saeed/Downloads/tmp\", cfg=cfg, categorical_ratio=0.05, max_memory=1)"
   ]
  }
 ],
 "metadata": {
  "kernelspec": {
   "display_name": ".venv",
   "language": "python",
   "name": "python3"
  },
  "language_info": {
   "codemirror_mode": {
    "name": "ipython",
    "version": 3
   },
   "file_extension": ".py",
   "mimetype": "text/x-python",
   "name": "python",
   "nbconvert_exporter": "python",
   "pygments_lexer": "ipython3",
   "version": "3.10.12"
  }
 },
 "nbformat": 4,
 "nbformat_minor": 5
}
