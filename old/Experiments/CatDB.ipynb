{
  "cells": [
    {
      "cell_type": "code",
      "execution_count": 1,
      "metadata": {
        "id": "w9wQF54rCmSV"
      },
      "outputs": [],
      "source": [
        "import pandas as pd\n",
        "import sqlite3\n",
        "import time"
      ]
    },
    {
      "cell_type": "code",
      "execution_count": 7,
      "metadata": {
        "id": "cnnBVmHeDmzv"
      },
      "outputs": [],
      "source": [
        "df = pd.read_csv(\"./data/YELP/business_only.csv\", on_bad_lines='skip') #,lines=True"
      ]
    },
    {
      "cell_type": "code",
      "execution_count": 8,
      "metadata": {
        "colab": {
          "base_uri": "https://localhost:8080/",
          "height": 310
        },
        "id": "NKWZzIAEDqFa",
        "outputId": "c3522264-9dff-4a85-cb59-e65110d5eaa0"
      },
      "outputs": [
        {
          "data": {
            "text/html": [
              "<div>\n",
              "<style scoped>\n",
              "    .dataframe tbody tr th:only-of-type {\n",
              "        vertical-align: middle;\n",
              "    }\n",
              "\n",
              "    .dataframe tbody tr th {\n",
              "        vertical-align: top;\n",
              "    }\n",
              "\n",
              "    .dataframe thead th {\n",
              "        text-align: right;\n",
              "    }\n",
              "</style>\n",
              "<table border=\"1\" class=\"dataframe\">\n",
              "  <thead>\n",
              "    <tr style=\"text-align: right;\">\n",
              "      <th></th>\n",
              "      <th>address</th>\n",
              "      <th>business_id</th>\n",
              "      <th>categories</th>\n",
              "      <th>city</th>\n",
              "      <th>is_open</th>\n",
              "      <th>latitude</th>\n",
              "      <th>longitude</th>\n",
              "      <th>name</th>\n",
              "      <th>postal_code</th>\n",
              "      <th>review_count</th>\n",
              "      <th>stars</th>\n",
              "      <th>state</th>\n",
              "    </tr>\n",
              "  </thead>\n",
              "  <tbody>\n",
              "    <tr>\n",
              "      <th>0</th>\n",
              "      <td>1616 Chapala St, Ste 2</td>\n",
              "      <td>Pns2l4eNsfO8kk83dixA6A</td>\n",
              "      <td>Doctors, Traditional Chinese Medicine, Naturop...</td>\n",
              "      <td>Santa Barbara</td>\n",
              "      <td>0</td>\n",
              "      <td>34.426679</td>\n",
              "      <td>-119.711197</td>\n",
              "      <td>Abby Rappoport, LAC, CMQ</td>\n",
              "      <td>93101</td>\n",
              "      <td>7</td>\n",
              "      <td>5.0</td>\n",
              "      <td>CA</td>\n",
              "    </tr>\n",
              "    <tr>\n",
              "      <th>1</th>\n",
              "      <td>87 Grasso Plaza Shopping Center</td>\n",
              "      <td>mpf3x-BjTdTEA3yCZrAYPw</td>\n",
              "      <td>Shipping Centers, Local Services, Notaries, Ma...</td>\n",
              "      <td>Affton</td>\n",
              "      <td>1</td>\n",
              "      <td>38.551126</td>\n",
              "      <td>-90.335695</td>\n",
              "      <td>The UPS Store</td>\n",
              "      <td>63123</td>\n",
              "      <td>15</td>\n",
              "      <td>3.0</td>\n",
              "      <td>MO</td>\n",
              "    </tr>\n",
              "    <tr>\n",
              "      <th>2</th>\n",
              "      <td>5255 E Broadway Blvd</td>\n",
              "      <td>tUFrWirKiKi_TAnsVWINQQ</td>\n",
              "      <td>Department Stores, Shopping, Fashion, Home &amp; G...</td>\n",
              "      <td>Tucson</td>\n",
              "      <td>0</td>\n",
              "      <td>32.223236</td>\n",
              "      <td>-110.880452</td>\n",
              "      <td>Target</td>\n",
              "      <td>85711</td>\n",
              "      <td>22</td>\n",
              "      <td>3.5</td>\n",
              "      <td>AZ</td>\n",
              "    </tr>\n",
              "    <tr>\n",
              "      <th>3</th>\n",
              "      <td>935 Race St</td>\n",
              "      <td>MTSW4McQd7CbVtyjqoe9mw</td>\n",
              "      <td>Restaurants, Food, Bubble Tea, Coffee &amp; Tea, B...</td>\n",
              "      <td>Philadelphia</td>\n",
              "      <td>1</td>\n",
              "      <td>39.955505</td>\n",
              "      <td>-75.155564</td>\n",
              "      <td>St Honore Pastries</td>\n",
              "      <td>19107</td>\n",
              "      <td>80</td>\n",
              "      <td>4.0</td>\n",
              "      <td>PA</td>\n",
              "    </tr>\n",
              "    <tr>\n",
              "      <th>4</th>\n",
              "      <td>101 Walnut St</td>\n",
              "      <td>mWMc6_wTdE0EUBKIGXDVfA</td>\n",
              "      <td>Brewpubs, Breweries, Food</td>\n",
              "      <td>Green Lane</td>\n",
              "      <td>1</td>\n",
              "      <td>40.338183</td>\n",
              "      <td>-75.471659</td>\n",
              "      <td>Perkiomen Valley Brewery</td>\n",
              "      <td>18054</td>\n",
              "      <td>13</td>\n",
              "      <td>4.5</td>\n",
              "      <td>PA</td>\n",
              "    </tr>\n",
              "  </tbody>\n",
              "</table>\n",
              "</div>"
            ],
            "text/plain": [
              "                           address             business_id  \\\n",
              "0           1616 Chapala St, Ste 2  Pns2l4eNsfO8kk83dixA6A   \n",
              "1  87 Grasso Plaza Shopping Center  mpf3x-BjTdTEA3yCZrAYPw   \n",
              "2             5255 E Broadway Blvd  tUFrWirKiKi_TAnsVWINQQ   \n",
              "3                      935 Race St  MTSW4McQd7CbVtyjqoe9mw   \n",
              "4                    101 Walnut St  mWMc6_wTdE0EUBKIGXDVfA   \n",
              "\n",
              "                                          categories           city  is_open  \\\n",
              "0  Doctors, Traditional Chinese Medicine, Naturop...  Santa Barbara        0   \n",
              "1  Shipping Centers, Local Services, Notaries, Ma...         Affton        1   \n",
              "2  Department Stores, Shopping, Fashion, Home & G...         Tucson        0   \n",
              "3  Restaurants, Food, Bubble Tea, Coffee & Tea, B...   Philadelphia        1   \n",
              "4                          Brewpubs, Breweries, Food     Green Lane        1   \n",
              "\n",
              "    latitude   longitude                      name postal_code  review_count  \\\n",
              "0  34.426679 -119.711197  Abby Rappoport, LAC, CMQ       93101             7   \n",
              "1  38.551126  -90.335695             The UPS Store       63123            15   \n",
              "2  32.223236 -110.880452                    Target       85711            22   \n",
              "3  39.955505  -75.155564        St Honore Pastries       19107            80   \n",
              "4  40.338183  -75.471659  Perkiomen Valley Brewery       18054            13   \n",
              "\n",
              "   stars state  \n",
              "0    5.0    CA  \n",
              "1    3.0    MO  \n",
              "2    3.5    AZ  \n",
              "3    4.0    PA  \n",
              "4    4.5    PA  "
            ]
          },
          "execution_count": 8,
          "metadata": {},
          "output_type": "execute_result"
        }
      ],
      "source": [
        "df.head()"
      ]
    },
    {
      "cell_type": "code",
      "execution_count": 9,
      "metadata": {
        "colab": {
          "base_uri": "https://localhost:8080/",
          "height": 519
        },
        "id": "vSp-Y6v_HV0Y",
        "outputId": "7b062071-0598-40f9-e34d-6e6d1d7f9778"
      },
      "outputs": [
        {
          "data": {
            "text/html": [
              "<div>\n",
              "<style scoped>\n",
              "    .dataframe tbody tr th:only-of-type {\n",
              "        vertical-align: middle;\n",
              "    }\n",
              "\n",
              "    .dataframe tbody tr th {\n",
              "        vertical-align: top;\n",
              "    }\n",
              "\n",
              "    .dataframe thead th {\n",
              "        text-align: right;\n",
              "    }\n",
              "</style>\n",
              "<table border=\"1\" class=\"dataframe\">\n",
              "  <thead>\n",
              "    <tr style=\"text-align: right;\">\n",
              "      <th></th>\n",
              "      <th>count</th>\n",
              "      <th>unique</th>\n",
              "      <th>top</th>\n",
              "      <th>freq</th>\n",
              "      <th>mean</th>\n",
              "      <th>std</th>\n",
              "      <th>min</th>\n",
              "      <th>25%</th>\n",
              "      <th>50%</th>\n",
              "      <th>75%</th>\n",
              "      <th>max</th>\n",
              "    </tr>\n",
              "  </thead>\n",
              "  <tbody>\n",
              "    <tr>\n",
              "      <th>address</th>\n",
              "      <td>145218</td>\n",
              "      <td>122842</td>\n",
              "      <td>160 N Gulph Rd</td>\n",
              "      <td>86</td>\n",
              "      <td>NaN</td>\n",
              "      <td>NaN</td>\n",
              "      <td>NaN</td>\n",
              "      <td>NaN</td>\n",
              "      <td>NaN</td>\n",
              "      <td>NaN</td>\n",
              "      <td>NaN</td>\n",
              "    </tr>\n",
              "    <tr>\n",
              "      <th>business_id</th>\n",
              "      <td>150345</td>\n",
              "      <td>150345</td>\n",
              "      <td>Pns2l4eNsfO8kk83dixA6A</td>\n",
              "      <td>1</td>\n",
              "      <td>NaN</td>\n",
              "      <td>NaN</td>\n",
              "      <td>NaN</td>\n",
              "      <td>NaN</td>\n",
              "      <td>NaN</td>\n",
              "      <td>NaN</td>\n",
              "      <td>NaN</td>\n",
              "    </tr>\n",
              "    <tr>\n",
              "      <th>categories</th>\n",
              "      <td>150242</td>\n",
              "      <td>83160</td>\n",
              "      <td>Beauty &amp; Spas, Nail Salons</td>\n",
              "      <td>1012</td>\n",
              "      <td>NaN</td>\n",
              "      <td>NaN</td>\n",
              "      <td>NaN</td>\n",
              "      <td>NaN</td>\n",
              "      <td>NaN</td>\n",
              "      <td>NaN</td>\n",
              "      <td>NaN</td>\n",
              "    </tr>\n",
              "    <tr>\n",
              "      <th>city</th>\n",
              "      <td>150345</td>\n",
              "      <td>1381</td>\n",
              "      <td>Philadelphia</td>\n",
              "      <td>14570</td>\n",
              "      <td>NaN</td>\n",
              "      <td>NaN</td>\n",
              "      <td>NaN</td>\n",
              "      <td>NaN</td>\n",
              "      <td>NaN</td>\n",
              "      <td>NaN</td>\n",
              "      <td>NaN</td>\n",
              "    </tr>\n",
              "    <tr>\n",
              "      <th>is_open</th>\n",
              "      <td>150345.0</td>\n",
              "      <td>NaN</td>\n",
              "      <td>NaN</td>\n",
              "      <td>NaN</td>\n",
              "      <td>0.796149</td>\n",
              "      <td>0.402861</td>\n",
              "      <td>0.0</td>\n",
              "      <td>1.0</td>\n",
              "      <td>1.0</td>\n",
              "      <td>1.0</td>\n",
              "      <td>1.0</td>\n",
              "    </tr>\n",
              "    <tr>\n",
              "      <th>latitude</th>\n",
              "      <td>150345.0</td>\n",
              "      <td>NaN</td>\n",
              "      <td>NaN</td>\n",
              "      <td>NaN</td>\n",
              "      <td>36.671195</td>\n",
              "      <td>5.872753</td>\n",
              "      <td>27.555127</td>\n",
              "      <td>32.187324</td>\n",
              "      <td>38.777418</td>\n",
              "      <td>39.954036</td>\n",
              "      <td>53.679197</td>\n",
              "    </tr>\n",
              "    <tr>\n",
              "      <th>longitude</th>\n",
              "      <td>150345.0</td>\n",
              "      <td>NaN</td>\n",
              "      <td>NaN</td>\n",
              "      <td>NaN</td>\n",
              "      <td>-89.357335</td>\n",
              "      <td>14.918551</td>\n",
              "      <td>-120.095137</td>\n",
              "      <td>-90.357811</td>\n",
              "      <td>-86.121178</td>\n",
              "      <td>-75.421526</td>\n",
              "      <td>-73.200457</td>\n",
              "    </tr>\n",
              "    <tr>\n",
              "      <th>name</th>\n",
              "      <td>150345</td>\n",
              "      <td>114096</td>\n",
              "      <td>Starbucks</td>\n",
              "      <td>724</td>\n",
              "      <td>NaN</td>\n",
              "      <td>NaN</td>\n",
              "      <td>NaN</td>\n",
              "      <td>NaN</td>\n",
              "      <td>NaN</td>\n",
              "      <td>NaN</td>\n",
              "      <td>NaN</td>\n",
              "    </tr>\n",
              "    <tr>\n",
              "      <th>postal_code</th>\n",
              "      <td>150272</td>\n",
              "      <td>3361</td>\n",
              "      <td>93101</td>\n",
              "      <td>1866</td>\n",
              "      <td>NaN</td>\n",
              "      <td>NaN</td>\n",
              "      <td>NaN</td>\n",
              "      <td>NaN</td>\n",
              "      <td>NaN</td>\n",
              "      <td>NaN</td>\n",
              "      <td>NaN</td>\n",
              "    </tr>\n",
              "    <tr>\n",
              "      <th>review_count</th>\n",
              "      <td>150345.0</td>\n",
              "      <td>NaN</td>\n",
              "      <td>NaN</td>\n",
              "      <td>NaN</td>\n",
              "      <td>44.866826</td>\n",
              "      <td>121.120495</td>\n",
              "      <td>5.0</td>\n",
              "      <td>8.0</td>\n",
              "      <td>15.0</td>\n",
              "      <td>37.0</td>\n",
              "      <td>7568.0</td>\n",
              "    </tr>\n",
              "    <tr>\n",
              "      <th>stars</th>\n",
              "      <td>150345.0</td>\n",
              "      <td>NaN</td>\n",
              "      <td>NaN</td>\n",
              "      <td>NaN</td>\n",
              "      <td>3.596714</td>\n",
              "      <td>0.974417</td>\n",
              "      <td>1.0</td>\n",
              "      <td>3.0</td>\n",
              "      <td>3.5</td>\n",
              "      <td>4.5</td>\n",
              "      <td>5.0</td>\n",
              "    </tr>\n",
              "    <tr>\n",
              "      <th>state</th>\n",
              "      <td>150345</td>\n",
              "      <td>27</td>\n",
              "      <td>PA</td>\n",
              "      <td>34039</td>\n",
              "      <td>NaN</td>\n",
              "      <td>NaN</td>\n",
              "      <td>NaN</td>\n",
              "      <td>NaN</td>\n",
              "      <td>NaN</td>\n",
              "      <td>NaN</td>\n",
              "      <td>NaN</td>\n",
              "    </tr>\n",
              "  </tbody>\n",
              "</table>\n",
              "</div>"
            ],
            "text/plain": [
              "                 count  unique                         top   freq       mean  \\\n",
              "address         145218  122842              160 N Gulph Rd     86        NaN   \n",
              "business_id     150345  150345      Pns2l4eNsfO8kk83dixA6A      1        NaN   \n",
              "categories      150242   83160  Beauty & Spas, Nail Salons   1012        NaN   \n",
              "city            150345    1381                Philadelphia  14570        NaN   \n",
              "is_open       150345.0     NaN                         NaN    NaN   0.796149   \n",
              "latitude      150345.0     NaN                         NaN    NaN  36.671195   \n",
              "longitude     150345.0     NaN                         NaN    NaN -89.357335   \n",
              "name            150345  114096                   Starbucks    724        NaN   \n",
              "postal_code     150272    3361                       93101   1866        NaN   \n",
              "review_count  150345.0     NaN                         NaN    NaN  44.866826   \n",
              "stars         150345.0     NaN                         NaN    NaN   3.596714   \n",
              "state           150345      27                          PA  34039        NaN   \n",
              "\n",
              "                     std         min        25%        50%        75%  \\\n",
              "address              NaN         NaN        NaN        NaN        NaN   \n",
              "business_id          NaN         NaN        NaN        NaN        NaN   \n",
              "categories           NaN         NaN        NaN        NaN        NaN   \n",
              "city                 NaN         NaN        NaN        NaN        NaN   \n",
              "is_open         0.402861         0.0        1.0        1.0        1.0   \n",
              "latitude        5.872753   27.555127  32.187324  38.777418  39.954036   \n",
              "longitude      14.918551 -120.095137 -90.357811 -86.121178 -75.421526   \n",
              "name                 NaN         NaN        NaN        NaN        NaN   \n",
              "postal_code          NaN         NaN        NaN        NaN        NaN   \n",
              "review_count  121.120495         5.0        8.0       15.0       37.0   \n",
              "stars           0.974417         1.0        3.0        3.5        4.5   \n",
              "state                NaN         NaN        NaN        NaN        NaN   \n",
              "\n",
              "                    max  \n",
              "address             NaN  \n",
              "business_id         NaN  \n",
              "categories          NaN  \n",
              "city                NaN  \n",
              "is_open             1.0  \n",
              "latitude      53.679197  \n",
              "longitude    -73.200457  \n",
              "name                NaN  \n",
              "postal_code         NaN  \n",
              "review_count     7568.0  \n",
              "stars               5.0  \n",
              "state               NaN  "
            ]
          },
          "execution_count": 9,
          "metadata": {},
          "output_type": "execute_result"
        }
      ],
      "source": [
        "df.describe(include='all').T"
      ]
    },
    {
      "cell_type": "markdown",
      "metadata": {
        "id": "4p8J6GS-LUwL"
      },
      "source": [
        "Create Adult database and import data fro csv to SQL table:"
      ]
    },
    {
      "cell_type": "code",
      "execution_count": null,
      "metadata": {
        "colab": {
          "base_uri": "https://localhost:8080/"
        },
        "id": "G5a72CA06kfe",
        "outputId": "a8ee847e-ca50-4038-fd24-9fc858f727a6"
      },
      "outputs": [
        {
          "name": "stdout",
          "output_type": "stream",
          "text": [
            "Specified filename adult.db does not exist.\n",
            "/bin/bash: line 1: kill: (34824) - No such process\n"
          ]
        }
      ],
      "source": [
        "!fuser adult.db\n",
        "!kill -9 34824"
      ]
    },
    {
      "cell_type": "code",
      "execution_count": null,
      "metadata": {
        "colab": {
          "base_uri": "https://localhost:8080/"
        },
        "id": "bkOSi2vxF01v",
        "outputId": "b8608998-6579-4ca5-d4d9-c303d381d5e2"
      },
      "outputs": [
        {
          "name": "stdout",
          "output_type": "stream",
          "text": [
            "Opened database successfully\n",
            "Table created successfully\n"
          ]
        }
      ],
      "source": [
        "df_describe = df.describe(include='all').T\n",
        "df_describe['col_name'] = df_describe.index\n",
        "#print(df_describe)\n",
        "conn = sqlite3.connect('adult.db')\n",
        "print(\"Opened database successfully\");\n",
        "\n",
        "conn.execute(''' DROP TABLE IF EXISTS tb_adult;''')\n",
        "conn.execute(''' DROP TABLE IF EXISTS tb_describe;''')\n",
        "conn.execute('''\n",
        "    CREATE TABLE IF NOT EXISTS tb_adult( age integer,\n",
        "                                          workclass          text,\n",
        "                                          fnlwgt             integer,\n",
        "                                          education          text,\n",
        "                                          educational_num    integer,\n",
        "                                          marital_status     text,\n",
        "                                          occupation         text,\n",
        "                                          relationship       text,\n",
        "                                          race               text,\n",
        "                                          gender             text,\n",
        "                                          capital_gain       integer,\n",
        "                                          capital_loss       integer,\n",
        "                                          hours_per_week     integer,\n",
        "                                          native_country     text,\n",
        "                                          income             text\n",
        "    );\n",
        "''')\n",
        "\n",
        "conn.execute('''\n",
        "    CREATE TABLE IF NOT EXISTS tb_describe( count integer,\n",
        "                                            unique_value integer,\n",
        "                                            top text,\n",
        "                                            freq integer,\n",
        "                                            mean real,\n",
        "                                            std real,\n",
        "                                            min real,\n",
        "                                            percent_25 real,\n",
        "                                            percent_50 real,\n",
        "                                            percent_75 real,\n",
        "                                            max real,\n",
        "                                            col_name text\n",
        "    );\n",
        "''')\n",
        "\n",
        "conn.commit()\n",
        "print(\"Table created successfully\");\n",
        "#conn.close()"
      ]
    },
    {
      "cell_type": "code",
      "execution_count": null,
      "metadata": {
        "colab": {
          "base_uri": "https://localhost:8080/"
        },
        "id": "-pjz7M5PMWZI",
        "outputId": "ab632427-84ec-4a43-f343-3474c03173b6"
      },
      "outputs": [
        {
          "data": {
            "text/plain": [
              "15"
            ]
          },
          "execution_count": 9,
          "metadata": {},
          "output_type": "execute_result"
        }
      ],
      "source": [
        "col_names= ['age', 'workclass', 'fnlwgt', 'education', 'educational_num',\n",
        "       'marital_status', 'occupation', 'relationship', 'race', 'gender',\n",
        "       'capital_gain', 'capital_loss', 'hours_per_week', 'native_country',\n",
        "       'income']\n",
        "col_names_describe = ['count', 'unique_value', 'top', 'freq', 'mean', 'std', 'min', 'percent_25', 'percent_50',\n",
        "       'percent_75', 'max','col_name']\n",
        "df = df.set_axis(col_names, axis=1)\n",
        "df_describe = df_describe.set_axis(col_names_describe, axis=1)\n",
        "df.to_sql('tb_adult', conn, if_exists='append', index=False)\n",
        "df_describe.to_sql('tb_describe', conn, if_exists='append', index=False)"
      ]
    },
    {
      "cell_type": "markdown",
      "metadata": {
        "id": "6RZIBe0_dVqM"
      },
      "source": [
        "Append Catalog data to table"
      ]
    },
    {
      "cell_type": "code",
      "execution_count": null,
      "metadata": {
        "id": "lzOAptqodU1y"
      },
      "outputs": [],
      "source": [
        "cat_cols = ['age_min integer ','age_max integer ','age_25_percent integer ','age_50_percent integer ', 'age_75_percent integer ',\n",
        "            'hours_per_week_min integer ','hours_per_week_max integer ','hours_per_week_25_percent integer ','hours_per_week_50_percent integer ', 'hours_per_week_75_percent integer ',\n",
        "            'workclass_private  integer ','education_hs_grad  integer ',\n",
        "            'marital_status_married_civ_spouse integer ','occupation_prof_specialty integer ',\n",
        "            'relationship_husband integer ','race_white integer ','gender_male integer ',\n",
        "            'native_country_united_states integer ','income_less_than_50 integer']\n",
        "\n",
        "for qs in cat_cols:\n",
        "  conn.execute(f''' ALTER TABLE tb_adult ADD COLUMN {qs};''')\n",
        "  conn.commit()"
      ]
    },
    {
      "cell_type": "code",
      "execution_count": null,
      "metadata": {
        "id": "vNVm8OEJgL_O"
      },
      "outputs": [],
      "source": [
        "cat_data = ['SET age_min = 1 WHERE age = 17', 'SET age_max=1 WHERE age=90', 'SET age_25_percent=1 WHERE age=28', 'SET age_50_percent=1 WHERE age=37',\n",
        "            'SET age_75_percent=1 WHERE age=48', 'SET hours_per_week_min=1 WHERE  hours_per_week=1', 'SET hours_per_week_max=1 WHERE  hours_per_week=99',\n",
        "            'SET hours_per_week_25_percent=1 WHERE  hours_per_week=40', 'SET hours_per_week_50_percent=1 WHERE  hours_per_week=40', 'SET hours_per_week_75_percent=1 WHERE  hours_per_week=45',\n",
        "            'SET workclass_private=1 WHERE workclass=\\'Private\\'', 'SET education_hs_grad=1 WHERE education=\\'HS-grad\\'', 'SET marital_status_married_civ_spouse=1 WHERE marital_status=\\'married-civ-spouse\\'',\n",
        "            'SET occupation_prof_specialty=1 WHERE occupation=\\'Prof-specialty\\'', 'SET relationship_husband=1 WHERE relationship=\\'Husband\\'', 'SET race_white=1 WHERE race=\\'white\\'',\n",
        "            'SET gender_male=1 WHERE gender=\\'male\\'', 'SET native_country=\\'United-states\\'', 'SET income_less_than_50=1 WHERE income=\\'<=50\\'']\n",
        "for cd in cat_data:\n",
        "  conn.execute(f''' UPDATE tb_adult {cd};''')\n",
        "  conn.commit()"
      ]
    },
    {
      "cell_type": "code",
      "execution_count": null,
      "metadata": {
        "id": "Wqp9DmImXOYW"
      },
      "outputs": [],
      "source": [
        "def fun_execute_queries(conn, q):\n",
        "  st = time.time()\n",
        "  cursor = conn.execute(f''' {q}''')\n",
        "  et = time.time()\n",
        "\n",
        "  # get the execution time\n",
        "  elapsed_time = et - st\n",
        "\n",
        "  return elapsed_time*1000, cursor"
      ]
    },
    {
      "cell_type": "code",
      "execution_count": null,
      "metadata": {
        "id": "AACs92DoWqZE"
      },
      "outputs": [],
      "source": [
        "conn = sqlite3.connect('adult.db')\n",
        "# Query 1: filter data between min and max\n",
        "q1_1 = 'SELECT * FROM tb_adult where age >= 17 and age <= 90;'\n",
        "q1_2 = 'SELECT * FROM tb_adult;'\n",
        "\n",
        "q1_1_et,_ = fun_execute_queries(conn, q1_1)\n",
        "q1_2_et, _ = fun_execute_queries(conn, q1_2)\n",
        "\n",
        "# Query 2: select TOP-1 workclass\n",
        "q2_1 = 'SELECT workclass, count(*) FROM tb_adult GROUP BY workclass ORDER BY count(workclass) DESC LIMIT 1;'\n",
        "q2_2 = 'SELECT \\'workclass\\', top FROM tb_describe WHERE col_name=\\'workclass\\';'\n",
        "\n",
        "q2_1_et,_ = fun_execute_queries(conn, q2_1)\n",
        "q2_2_et, _ = fun_execute_queries(conn, q2_2)\n",
        "\n",
        "# Query 3: filter records with workclass=Private (filter orig data or filter catalog data?)\n",
        "q3_1 = 'SELECT * FROM tb_adult WHERE workclass = \\'Private\\';'\n",
        "q3_2 = 'SELECT * from tb_adult WHERE workclass_private=1;'\n",
        "\n",
        "q3_1_et,_ = fun_execute_queries(conn, q3_1)\n",
        "q3_2_et, _ = fun_execute_queries(conn, q3_2)\n",
        "\n",
        "# Query 4:\n",
        "q4_1 = 'SELECT * FROM tb_adult WHERE gender=\\'male\\' and income= \\'<=50K \\' and marital_status = \\'Married-civ-spouse\\' ;'\n",
        "q4_2 = 'SELECT * FROM tb_adult WHERE gender_male=1 and income_less_than_50=1 and marital_status_married_civ_spouse=1 ;'\n",
        "\n",
        "\n",
        "\n",
        "q4_1_et,_ = fun_execute_queries(conn, q4_1)\n",
        "q4_2_et, _ = fun_execute_queries(conn, q4_2)\n",
        "\n",
        "i = 0\n",
        "for i in\n",
        "conn.close()\n"
      ]
    },
    {
      "cell_type": "code",
      "execution_count": null,
      "metadata": {
        "colab": {
          "base_uri": "https://localhost:8080/",
          "height": 640
        },
        "id": "zX7GZ2neezIN",
        "outputId": "062f1a79-2c3d-401a-fde3-b35bc1b00e6c"
      },
      "outputs": [
        {
          "name": "stdout",
          "output_type": "stream",
          "text": [
            "   Queries  Query on orig data  Query on data catalog\n",
            "0  Query 1            0.532866               0.143051\n",
            "1  Query 2          330.328941               0.098944\n",
            "2  Query 3            0.142813               0.082016\n",
            "3  Query 4           84.027767             113.728285\n"
          ]
        },
        {
          "data": {
            "text/plain": [
              "Text(0, 0.5, 'Execution Time [ms]')"
            ]
          },
          "execution_count": 34,
          "metadata": {},
          "output_type": "execute_result"
        },
        {
          "data": {
            "text/plain": [
              "<Figure size 640x480 with 0 Axes>"
            ]
          },
          "metadata": {},
          "output_type": "display_data"
        },
        {
          "data": {
            "image/png": "[encoded data removed]",
            "text/plain": [
              "<Figure size 640x480 with 1 Axes>"
            ]
          },
          "metadata": {},
          "output_type": "display_data"
        }
      ],
      "source": [
        "from numpy import log\n",
        "import matplotlib.pyplot as plt\n",
        "# create data\n",
        "df = pd.DataFrame([['Query 1', q1_1_et, q1_2_et],\n",
        "                   ['Query 2', q2_1_et, q2_2_et],\n",
        "                   ['Query 3', q3_1_et, q3_2_et],\n",
        "                   ['Query 4', q4_1_et, q4_2_et]],\n",
        "                  columns=['Queries', 'Query on orig data', 'Query on data catalog'])\n",
        "print(df)\n",
        "# plot grouped bar chart\n",
        "plt.figure()\n",
        "df.plot(x='Queries',\n",
        "        kind='bar',\n",
        "        stacked=False,\n",
        "        log = True,\n",
        "        title='Experimental Results')\n",
        "plt.ylabel('Execution Time [ms]')"
      ]
    }
  ],
  "metadata": {
    "colab": {
      "provenance": []
    },
    "kernelspec": {
      "display_name": "Python 3",
      "name": "python3"
    },
    "language_info": {
      "codemirror_mode": {
        "name": "ipython",
        "version": 3
      },
      "file_extension": ".py",
      "mimetype": "text/x-python",
      "name": "python",
      "nbconvert_exporter": "python",
      "pygments_lexer": "ipython3",
      "version": "3.10.12"
    }
  },
  "nbformat": 4,
  "nbformat_minor": 0
}
